{
 "cells": [
  {
   "cell_type": "markdown",
   "id": "56f8ba3c-8493-4c90-8f43-ed88babf6e87",
   "metadata": {},
   "source": [
    "# 선형 회귀\n",
    "---\n"
   ]
  },
  {
   "cell_type": "code",
   "execution_count": 1,
   "id": "2b1485c7-a770-468a-9b0e-4d10fdbb1445",
   "metadata": {},
   "outputs": [],
   "source": [
    "import numpy as np\n",
    "import pandas as pd\n",
    "import matplotlib.pyplot as plt\n",
    "import seaborn as sns\n",
    "import myutils as my"
   ]
  },
  {
   "cell_type": "markdown",
   "id": "3081787d-a7a5-458e-ba9e-d0801c4d201b",
   "metadata": {},
   "source": [
    "## 데이터 준비"
   ]
  },
  {
   "cell_type": "code",
   "execution_count": 3,
   "id": "fa5954fe-598f-4c9e-b7cb-ccdfa053d4e4",
   "metadata": {},
   "outputs": [
    {
     "name": "stdout",
     "output_type": "stream",
     "text": [
      "[ 0.   0.2  0.4  0.6  0.8  1.   1.2  1.4  1.6  1.8  2.   2.2  2.4  2.6\n",
      "  2.8  3.   3.2  3.4  3.6  3.8  4.   4.2  4.4  4.6  4.8  5.   5.2  5.4\n",
      "  5.6  5.8  6.   6.2  6.4  6.6  6.8  7.   7.2  7.4  7.6  7.8  8.   8.2\n",
      "  8.4  8.6  8.8  9.   9.2  9.4  9.6  9.8 10. ] [ 7.90588298e-03  6.43390605e-01  3.86457702e-01  2.05734742e+00\n",
      " -1.60969677e+00 -7.03239633e-01  2.29731294e+00 -4.99433026e-02\n",
      "  4.22088613e+00  8.95331240e-01  9.66997315e-01  2.21917278e+00\n",
      "  2.39282027e+00  9.93635487e-01  3.79915860e+00  3.99528341e+00\n",
      "  3.16725900e+00  4.85602151e+00  4.99417423e+00  5.51654041e+00\n",
      "  7.47820626e+00  5.77092422e+00  7.27086390e+00  8.91857856e+00\n",
      "  7.16597329e+00  7.57842979e+00  9.35344775e+00  5.61809931e+00\n",
      "  4.89494286e+00  7.31197454e+00  8.45226588e+00  1.15656455e+01\n",
      "  9.67496821e+00  4.97591821e+00  9.66488326e+00  7.24177073e+00\n",
      "  6.26608837e+00  7.29596828e+00  7.64749508e+00  1.08229469e+01\n",
      "  1.16879781e+01  7.91492994e+00  9.77952377e+00  1.30159211e+01\n",
      "  1.18399054e+01  1.09418687e+01  1.03915476e+01  1.05040230e+01\n",
      "  7.50892365e+00  9.97929679e+00  1.41151186e+01]\n"
     ]
    }
   ],
   "source": [
    "num = 51\n",
    "\n",
    "X = np.linspace(0, 10, num)\n",
    "y = X + np.random.normal(1, 2, num) #(평균, 표준편자, 개수)\n",
    "\n",
    "print(X, y)"
   ]
  },
  {
   "cell_type": "code",
   "execution_count": 4,
   "id": "39eea080-280f-4742-ac06-4f6a544651f0",
   "metadata": {},
   "outputs": [
    {
     "data": {
      "text/plain": [
       "<AxesSubplot: >"
      ]
     },
     "execution_count": 4,
     "metadata": {},
     "output_type": "execute_result"
    },
    {
     "data": {
      "image/png": "[encoded data removed]",
      "text/plain": [
       "<Figure size 640x480 with 1 Axes>"
      ]
     },
     "metadata": {},
     "output_type": "display_data"
    }
   ],
   "source": [
    "sns.scatterplot(x=X, y=y)"
   ]
  },
  {
   "cell_type": "code",
   "execution_count": null,
   "id": "f260e4ae-9462-4f72-b836-c3d793ed867a",
   "metadata": {},
   "outputs": [
    {
     "name": "stdout",
     "output_type": "stream",
     "text": [
      "(40,) (11,)\n"
     ]
    }
   ],
   "source": [
    "from sklearn.model_selection import train_test_split\n",
    "\n",
    "X_train, X_test, y_train, y_test = train_test_split(X, y, test_size=0.2, random_state = 2022)\n",
    "\n",
    "print(X_train.shape, X_test.shape)"
   ]
  },
  {
   "cell_type": "code",
   "execution_count": 6,
   "id": "c37de19c-6e17-40b3-8bf6-429934a0c248",
   "metadata": {},
   "outputs": [
    {
     "data": {
      "text/plain": [
       "array([2. , 0.8, 5. , 0. , 6.8, 7.2, 2.6, 2.4, 9.2, 4.4])"
      ]
     },
     "execution_count": 6,
     "metadata": {},
     "output_type": "execute_result"
    }
   ],
   "source": [
    "X_train[:10]"
   ]
  },
  {
   "cell_type": "code",
   "execution_count": 7,
   "id": "c2c62881-c744-4174-b79b-73f7c8c374d5",
   "metadata": {},
   "outputs": [
    {
     "data": {
      "text/plain": [
       "array([[2. ],\n",
       "       [0.8],\n",
       "       [5. ],\n",
       "       [0. ],\n",
       "       [6.8]])"
      ]
     },
     "execution_count": 7,
     "metadata": {},
     "output_type": "execute_result"
    }
   ],
   "source": [
    "X_train = X_train.reshape(-1, 1) #2차원으로 만들어줌\n",
    "X_train[:5]"
   ]
  },
  {
   "cell_type": "code",
   "execution_count": 8,
   "id": "347d4234-32a7-4fe9-b5f2-e243f518df3f",
   "metadata": {},
   "outputs": [
    {
     "data": {
      "text/plain": [
       "(40, 1)"
      ]
     },
     "execution_count": 8,
     "metadata": {},
     "output_type": "execute_result"
    }
   ],
   "source": [
    "X_train.shape"
   ]
  },
  {
   "cell_type": "code",
   "execution_count": 9,
   "id": "6b9c1d47-946b-4091-8c57-21f143a2b147",
   "metadata": {},
   "outputs": [
    {
     "data": {
      "text/html": [
       "<style>#sk-container-id-1 {color: black;background-color: white;}#sk-container-id-1 pre{padding: 0;}#sk-container-id-1 div.sk-toggleable {background-color: white;}#sk-container-id-1 label.sk-toggleable__label {cursor: pointer;display: block;width: 100%;margin-bottom: 0;padding: 0.3em;box-sizing: border-box;text-align: center;}#sk-container-id-1 label.sk-toggleable__label-arrow:before {content: \"▸\";float: left;margin-right: 0.25em;color: #696969;}#sk-container-id-1 label.sk-toggleable__label-arrow:hover:before {color: black;}#sk-container-id-1 div.sk-estimator:hover label.sk-toggleable__label-arrow:before {color: black;}#sk-container-id-1 div.sk-toggleable__content {max-height: 0;max-width: 0;overflow: hidden;text-align: left;background-color: #f0f8ff;}#sk-container-id-1 div.sk-toggleable__content pre {margin: 0.2em;color: black;border-radius: 0.25em;background-color: #f0f8ff;}#sk-container-id-1 input.sk-toggleable__control:checked~div.sk-toggleable__content {max-height: 200px;max-width: 100%;overflow: auto;}#sk-container-id-1 input.sk-toggleable__control:checked~label.sk-toggleable__label-arrow:before {content: \"▾\";}#sk-container-id-1 div.sk-estimator input.sk-toggleable__control:checked~label.sk-toggleable__label {background-color: #d4ebff;}#sk-container-id-1 div.sk-label input.sk-toggleable__control:checked~label.sk-toggleable__label {background-color: #d4ebff;}#sk-container-id-1 input.sk-hidden--visually {border: 0;clip: rect(1px 1px 1px 1px);clip: rect(1px, 1px, 1px, 1px);height: 1px;margin: -1px;overflow: hidden;padding: 0;position: absolute;width: 1px;}#sk-container-id-1 div.sk-estimator {font-family: monospace;background-color: #f0f8ff;border: 1px dotted black;border-radius: 0.25em;box-sizing: border-box;margin-bottom: 0.5em;}#sk-container-id-1 div.sk-estimator:hover {background-color: #d4ebff;}#sk-container-id-1 div.sk-parallel-item::after {content: \"\";width: 100%;border-bottom: 1px solid gray;flex-grow: 1;}#sk-container-id-1 div.sk-label:hover label.sk-toggleable__label {background-color: #d4ebff;}#sk-container-id-1 div.sk-serial::before {content: \"\";position: absolute;border-left: 1px solid gray;box-sizing: border-box;top: 0;bottom: 0;left: 50%;z-index: 0;}#sk-container-id-1 div.sk-serial {display: flex;flex-direction: column;align-items: center;background-color: white;padding-right: 0.2em;padding-left: 0.2em;position: relative;}#sk-container-id-1 div.sk-item {position: relative;z-index: 1;}#sk-container-id-1 div.sk-parallel {display: flex;align-items: stretch;justify-content: center;background-color: white;position: relative;}#sk-container-id-1 div.sk-item::before, #sk-container-id-1 div.sk-parallel-item::before {content: \"\";position: absolute;border-left: 1px solid gray;box-sizing: border-box;top: 0;bottom: 0;left: 50%;z-index: -1;}#sk-container-id-1 div.sk-parallel-item {display: flex;flex-direction: column;z-index: 1;position: relative;background-color: white;}#sk-container-id-1 div.sk-parallel-item:first-child::after {align-self: flex-end;width: 50%;}#sk-container-id-1 div.sk-parallel-item:last-child::after {align-self: flex-start;width: 50%;}#sk-container-id-1 div.sk-parallel-item:only-child::after {width: 0;}#sk-container-id-1 div.sk-dashed-wrapped {border: 1px dashed gray;margin: 0 0.4em 0.5em 0.4em;box-sizing: border-box;padding-bottom: 0.4em;background-color: white;}#sk-container-id-1 div.sk-label label {font-family: monospace;font-weight: bold;display: inline-block;line-height: 1.2em;}#sk-container-id-1 div.sk-label-container {text-align: center;}#sk-container-id-1 div.sk-container {/* jupyter's `normalize.less` sets `[hidden] { display: none; }` but bootstrap.min.css set `[hidden] { display: none !important; }` so we also need the `!important` here to be able to override the default hidden behavior on the sphinx rendered scikit-learn.org. See: https://github.com/scikit-learn/scikit-learn/issues/21755 */display: inline-block !important;position: relative;}#sk-container-id-1 div.sk-text-repr-fallback {display: none;}</style><div id=\"sk-container-id-1\" class=\"sk-top-container\"><div class=\"sk-text-repr-fallback\"><pre>LinearRegression()</pre><b>In a Jupyter environment, please rerun this cell to show the HTML representation or trust the notebook. <br />On GitHub, the HTML representation is unable to render, please try loading this page with nbviewer.org.</b></div><div class=\"sk-container\" hidden><div class=\"sk-item\"><div class=\"sk-estimator sk-toggleable\"><input class=\"sk-toggleable__control sk-hidden--visually\" id=\"sk-estimator-id-1\" type=\"checkbox\" checked><label for=\"sk-estimator-id-1\" class=\"sk-toggleable__label sk-toggleable__label-arrow\">LinearRegression</label><div class=\"sk-toggleable__content\"><pre>LinearRegression()</pre></div></div></div></div></div>"
      ],
      "text/plain": [
       "LinearRegression()"
      ]
     },
     "execution_count": 9,
     "metadata": {},
     "output_type": "execute_result"
    }
   ],
   "source": [
    "from sklearn.linear_model import LinearRegression\n",
    "\n",
    "lr = LinearRegression()\n",
    "lr.fit(X_train, y_train) #2차원 이상이 돼야 "
   ]
  },
  {
   "cell_type": "markdown",
   "id": "3b1408fc-7dca-4bd5-aa1a-ad9f26b50c71",
   "metadata": {},
   "source": [
    "fit이 됐다 = 그래프에서 직선을 찾았다는 소리 \n",
    "\n",
    "y = ax + b 에서 a, b 값이 정해졌다\n"
   ]
  },
  {
   "cell_type": "code",
   "execution_count": 10,
   "id": "8e74b777-a758-4c9e-9949-895de0e7643c",
   "metadata": {},
   "outputs": [
    {
     "data": {
      "text/plain": [
       "(array([1.18944535]), 0.19429492465325282)"
      ]
     },
     "execution_count": 10,
     "metadata": {},
     "output_type": "execute_result"
    }
   ],
   "source": [
    "lr.coef_ , lr.intercept_ #기울기 (a), 절편 (b)"
   ]
  },
  {
   "cell_type": "code",
   "execution_count": 11,
   "id": "b956ff9b-9639-4bfa-ac47-4f3aab2a0df1",
   "metadata": {},
   "outputs": [
    {
     "data": {
      "text/plain": [
       "array([2.57318563, 1.14585121, 6.14152168, 0.19429492, 8.28252331])"
      ]
     },
     "execution_count": 11,
     "metadata": {},
     "output_type": "execute_result"
    }
   ],
   "source": [
    "y_pred = lr.predict(X_train)\n",
    "y_pred[:5]"
   ]
  },
  {
   "cell_type": "code",
   "execution_count": 12,
   "id": "4878d235-8484-4e89-a033-62b94ddc3f48",
   "metadata": {},
   "outputs": [
    {
     "data": {
      "text/plain": [
       "<AxesSubplot: >"
      ]
     },
     "execution_count": 12,
     "metadata": {},
     "output_type": "execute_result"
    },
    {
     "data": {
      "image/png": "[encoded data removed]",
      "text/plain": [
       "<Figure size 640x480 with 1 Axes>"
      ]
     },
     "metadata": {},
     "output_type": "display_data"
    }
   ],
   "source": [
    "sns.scatterplot(x = X_train.reshape(-1), #다시 1차원으로 바꿈 -> 그래프로 그릴 땐 2차원으로는 힘드니까 \n",
    "                y = y_train)"
   ]
  },
  {
   "cell_type": "markdown",
   "id": "21e39542-e860-4eb3-8e5c-9e0ea1a512b8",
   "metadata": {},
   "source": [
    "우리가 갖고 있는 원래 데이터"
   ]
  },
  {
   "cell_type": "code",
   "execution_count": 13,
   "id": "fe4cb053-15ca-487b-bea0-08a040e87856",
   "metadata": {},
   "outputs": [
    {
     "data": {
      "image/png": "[encoded data removed]",
      "text/plain": [
       "<Figure size 640x480 with 1 Axes>"
      ]
     },
     "metadata": {},
     "output_type": "display_data"
    }
   ],
   "source": [
    "sns.scatterplot(x = X_train.reshape(-1), \n",
    "                y = y_train)\n",
    "\n",
    "plt.plot(X_train.reshape(-1), y_pred, 'r')\n",
    "plt.show()"
   ]
  },
  {
   "cell_type": "markdown",
   "id": "b295c872-8465-42a9-80f6-9e5a4bf89a09",
   "metadata": {},
   "source": [
    "빨간 선 = 선형 회귀의 결과\n",
    "\n",
    "데이터들을 가장 잘 나타내는 선"
   ]
  },
  {
   "cell_type": "markdown",
   "id": "ce28e93e-0845-4ad9-bc96-8d14be2985ca",
   "metadata": {},
   "source": [
    "## 평가 "
   ]
  },
  {
   "cell_type": "code",
   "execution_count": 17,
   "id": "0c268937-28dc-4368-ab14-6ea32b6303e6",
   "metadata": {},
   "outputs": [
    {
     "data": {
      "text/plain": [
       "3.240801597892171"
      ]
     },
     "execution_count": 17,
     "metadata": {},
     "output_type": "execute_result"
    }
   ],
   "source": [
    "from sklearn.metrics import mean_squared_error, mean_absolute_error\n",
    "\n",
    "#에러의 제곱의 평균\n",
    "# MSE\n",
    "mse = mean_squared_error(y_train, y_pred)\n",
    "mse"
   ]
  },
  {
   "cell_type": "code",
   "execution_count": 16,
   "id": "a2a4da34-a783-49b8-8eca-663489fd035c",
   "metadata": {},
   "outputs": [
    {
     "data": {
      "text/plain": [
       "1.8002226523105889"
      ]
     },
     "execution_count": 16,
     "metadata": {},
     "output_type": "execute_result"
    }
   ],
   "source": [
    "#RMSE = 루트 MSE\n",
    "rmse = np.sqrt(mse)\n",
    "rmse"
   ]
  },
  {
   "cell_type": "markdown",
   "id": "f2ab9ca9-6f9b-46b4-9a02-bf42f1a5a7e3",
   "metadata": {},
   "source": [
    "보통 rmse를 많이 봄\n",
    "\n",
    "작을 수록 좋은 거 = rmse는 에러이기 때문에\n"
   ]
  },
  {
   "cell_type": "code",
   "execution_count": 18,
   "id": "224b1327-0401-4414-ae01-7d17e887ccf9",
   "metadata": {},
   "outputs": [
    {
     "data": {
      "text/plain": [
       "1.4633704275236945"
      ]
     },
     "execution_count": 18,
     "metadata": {},
     "output_type": "execute_result"
    }
   ],
   "source": [
    "#MAE\n",
    "\n",
    "mean_absolute_error(y_train, y_pred)"
   ]
  },
  {
   "cell_type": "markdown",
   "id": "403d6389-1211-43b0-a5d1-4b33d0bd171f",
   "metadata": {},
   "source": [
    "## 테스트"
   ]
  },
  {
   "cell_type": "code",
   "execution_count": 19,
   "id": "c63f763d-1cd7-429a-ad97-b5c3a5da3e95",
   "metadata": {},
   "outputs": [
    {
     "data": {
      "text/plain": [
       "array([12.08874843,  9.23407959, 10.42352494,  0.90796214,  2.33529656,\n",
       "        1.62162935,  8.52041238, 10.18563587,  1.85951842, 11.85085936,\n",
       "        4.95207633])"
      ]
     },
     "execution_count": 19,
     "metadata": {},
     "output_type": "execute_result"
    }
   ],
   "source": [
    "y_pred = lr.predict(X_test.reshape(-1,1))\n",
    "y_pred"
   ]
  },
  {
   "cell_type": "code",
   "execution_count": 20,
   "id": "0364ae3f-01b5-42f5-a530-7207f296f2bc",
   "metadata": {},
   "outputs": [
    {
     "data": {
      "text/plain": [
       "(2.956823071167216, 1.719541529352291)"
      ]
     },
     "execution_count": 20,
     "metadata": {},
     "output_type": "execute_result"
    }
   ],
   "source": [
    "#RMSE\n",
    "mse = mean_squared_error(y_test, y_pred)\n",
    "rmse = np.sqrt(mse)\n",
    "\n",
    "mse, rmse"
   ]
  },
  {
   "cell_type": "code",
   "execution_count": 22,
   "id": "31a68ea6-3421-4dd1-899e-f91f92086635",
   "metadata": {},
   "outputs": [
    {
     "data": {
      "text/plain": [
       "1.5874811828499367"
      ]
     },
     "execution_count": 22,
     "metadata": {},
     "output_type": "execute_result"
    }
   ],
   "source": [
    "#MAE\n",
    "mean_absolute_error(y_test, y_pred)"
   ]
  },
  {
   "cell_type": "code",
   "execution_count": 26,
   "id": "2d953c52-41dc-4f0c-a3a1-929dea1ad559",
   "metadata": {},
   "outputs": [
    {
     "data": {
      "text/plain": [
       "[<matplotlib.lines.Line2D at 0x1bee06adc40>]"
      ]
     },
     "execution_count": 26,
     "metadata": {},
     "output_type": "execute_result"
    },
    {
     "data": {
      "image/png": "[encoded data removed]",
      "text/plain": [
       "<Figure size 640x480 with 1 Axes>"
      ]
     },
     "metadata": {},
     "output_type": "display_data"
    }
   ],
   "source": [
    "# 시각화\n",
    "sns.scatterplot(x=y_test, y=y_pred)\n",
    "plt.plot([0,14], [0,14], 'r') #x=y 직선"
   ]
  },
  {
   "cell_type": "markdown",
   "id": "fd6b6242-d36f-4e7a-ac20-4c2b7f002a4d",
   "metadata": {},
   "source": [
    "- x축: 정답 값\n",
    "- y축: 예측 값\n",
    "\n",
    "예측이 정답이라면: x=y 직선(빨간 직선) 위에 올라와야 함 (n, n)\n",
    "\n",
    "빨간 선에서 많이 벗어날 수록 정답과 예측이 많이 벗어났다는 뜻\n",
    "\n",
    "빨간 선과 일치할수록 잘 맞춘 것"
   ]
  },
  {
   "cell_type": "code",
   "execution_count": null,
   "id": "80c0b8cd-fbf6-4eda-bf1e-6a5bdbe67024",
   "metadata": {},
   "outputs": [],
   "source": []
  }
 ],
 "metadata": {
  "kernelspec": {
   "display_name": "flyai",
   "language": "python",
   "name": "flyai"
  },
  "language_info": {
   "codemirror_mode": {
    "name": "ipython",
    "version": 3
   },
   "file_extension": ".py",
   "mimetype": "text/x-python",
   "name": "python",
   "nbconvert_exporter": "python",
   "pygments_lexer": "ipython3",
   "version": "3.8.0"
  }
 },
 "nbformat": 4,
 "nbformat_minor": 5
}
