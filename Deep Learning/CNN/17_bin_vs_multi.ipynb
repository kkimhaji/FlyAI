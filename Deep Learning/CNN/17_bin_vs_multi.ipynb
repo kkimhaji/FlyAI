{
  "nbformat": 4,
  "nbformat_minor": 0,
  "metadata": {
    "colab": {
      "provenance": [],
      "authorship_tag": "ABX9TyO6dSKcIDjkn1BBKovGDWbJ",
      "include_colab_link": true
    },
    "kernelspec": {
      "name": "python3",
      "display_name": "Python 3"
    },
    "language_info": {
      "name": "python"
    },
    "accelerator": "GPU",
    "gpuClass": "standard"
  },
  "cells": [
    {
      "cell_type": "markdown",
      "metadata": {
        "id": "view-in-github",
        "colab_type": "text"
      },
      "source": [
        "<a href=\"https://colab.research.google.com/github/kkimhaji/FlyAI/blob/main/Deep%20Learning/CNN/17_bin_vs_multi.ipynb\" target=\"_parent\"><img src=\"https://colab.research.google.com/assets/colab-badge.svg\" alt=\"Open In Colab\"/></a>"
      ]
    },
    {
      "cell_type": "markdown",
      "source": [
        "# 2클래스 데이터를 다중 분류 "
      ],
      "metadata": {
        "id": "S2EJWFkp76Yg"
      }
    },
    {
      "cell_type": "code",
      "execution_count": null,
      "metadata": {
        "id": "LQrT-wJS70p2"
      },
      "outputs": [],
      "source": [
        "import numpy as np\n",
        "import pandas as pd\n",
        "import tensorflow as tf\n",
        "import matplotlib.pyplot as plt\n",
        "from tensorflow import keras\n",
        "from keras import layers"
      ]
    },
    {
      "cell_type": "markdown",
      "source": [
        "## 데이터 준비"
      ],
      "metadata": {
        "id": "8NyXZ5728EKy"
      }
    },
    {
      "cell_type": "code",
      "source": [
        "# !pip install --upgrade --no-cache-dir gdown"
      ],
      "metadata": {
        "colab": {
          "base_uri": "https://localhost:8080/"
        },
        "id": "PWpKgJ2y8Pam",
        "outputId": "b4b8f6c7-b47c-465a-c638-310f644a0252"
      },
      "execution_count": null,
      "outputs": [
        {
          "output_type": "stream",
          "name": "stdout",
          "text": [
            "Looking in indexes: https://pypi.org/simple, https://us-python.pkg.dev/colab-wheels/public/simple/\n",
            "Requirement already satisfied: gdown in /usr/local/lib/python3.8/dist-packages (4.4.0)\n",
            "Collecting gdown\n",
            "  Downloading gdown-4.6.0-py3-none-any.whl (14 kB)\n",
            "Requirement already satisfied: beautifulsoup4 in /usr/local/lib/python3.8/dist-packages (from gdown) (4.6.3)\n",
            "Requirement already satisfied: tqdm in /usr/local/lib/python3.8/dist-packages (from gdown) (4.64.1)\n",
            "Requirement already satisfied: requests[socks] in /usr/local/lib/python3.8/dist-packages (from gdown) (2.25.1)\n",
            "Requirement already satisfied: filelock in /usr/local/lib/python3.8/dist-packages (from gdown) (3.8.2)\n",
            "Requirement already satisfied: six in /usr/local/lib/python3.8/dist-packages (from gdown) (1.15.0)\n",
            "Requirement already satisfied: idna<3,>=2.5 in /usr/local/lib/python3.8/dist-packages (from requests[socks]->gdown) (2.10)\n",
            "Requirement already satisfied: urllib3<1.27,>=1.21.1 in /usr/local/lib/python3.8/dist-packages (from requests[socks]->gdown) (1.24.3)\n",
            "Requirement already satisfied: certifi>=2017.4.17 in /usr/local/lib/python3.8/dist-packages (from requests[socks]->gdown) (2022.12.7)\n",
            "Requirement already satisfied: chardet<5,>=3.0.2 in /usr/local/lib/python3.8/dist-packages (from requests[socks]->gdown) (4.0.0)\n",
            "Requirement already satisfied: PySocks!=1.5.7,>=1.5.6 in /usr/local/lib/python3.8/dist-packages (from requests[socks]->gdown) (1.7.1)\n",
            "Installing collected packages: gdown\n",
            "  Attempting uninstall: gdown\n",
            "    Found existing installation: gdown 4.4.0\n",
            "    Uninstalling gdown-4.4.0:\n",
            "      Successfully uninstalled gdown-4.4.0\n",
            "Successfully installed gdown-4.6.0\n"
          ]
        }
      ]
    },
    {
      "cell_type": "code",
      "source": [
        "!wget https://raw.githubusercontent.com/devdio/datasets/main/diabetes.csv"
      ],
      "metadata": {
        "colab": {
          "base_uri": "https://localhost:8080/"
        },
        "id": "V7aTiqvq8DMB",
        "outputId": "ef3ceca7-fcb9-4168-987c-79a12b6944ee"
      },
      "execution_count": null,
      "outputs": [
        {
          "output_type": "stream",
          "name": "stdout",
          "text": [
            "--2023-01-09 02:09:06--  https://raw.githubusercontent.com/devdio/datasets/main/diabetes.csv\n",
            "Resolving raw.githubusercontent.com (raw.githubusercontent.com)... 185.199.108.133, 185.199.109.133, 185.199.110.133, ...\n",
            "Connecting to raw.githubusercontent.com (raw.githubusercontent.com)|185.199.108.133|:443... connected.\n",
            "HTTP request sent, awaiting response... 200 OK\n",
            "Length: 23873 (23K) [text/plain]\n",
            "Saving to: ‘diabetes.csv’\n",
            "\n",
            "diabetes.csv        100%[===================>]  23.31K  --.-KB/s    in 0s      \n",
            "\n",
            "2023-01-09 02:09:07 (85.2 MB/s) - ‘diabetes.csv’ saved [23873/23873]\n",
            "\n"
          ]
        }
      ]
    },
    {
      "cell_type": "code",
      "source": [
        "diabetes = pd.read_csv('diabetes.csv')\n",
        "diabetes.shape"
      ],
      "metadata": {
        "colab": {
          "base_uri": "https://localhost:8080/"
        },
        "id": "7376Tkmr8XKc",
        "outputId": "bcb96d8c-e50d-4b93-c690-d7c6308ef83f"
      },
      "execution_count": null,
      "outputs": [
        {
          "output_type": "execute_result",
          "data": {
            "text/plain": [
              "(768, 9)"
            ]
          },
          "metadata": {},
          "execution_count": 79
        }
      ]
    },
    {
      "cell_type": "code",
      "source": [
        "diabetes.head()"
      ],
      "metadata": {
        "colab": {
          "base_uri": "https://localhost:8080/",
          "height": 206
        },
        "id": "DQP6MyWT8sEn",
        "outputId": "982a486f-a444-4217-f9b7-d61b7128424e"
      },
      "execution_count": null,
      "outputs": [
        {
          "output_type": "execute_result",
          "data": {
            "text/plain": [
              "   Pregnancies  Glucose  BloodPressure  SkinThickness  Insulin   BMI  \\\n",
              "0            6      148             72             35        0  33.6   \n",
              "1            1       85             66             29        0  26.6   \n",
              "2            8      183             64              0        0  23.3   \n",
              "3            1       89             66             23       94  28.1   \n",
              "4            0      137             40             35      168  43.1   \n",
              "\n",
              "   DiabetesPedigreeFunction  Age  Outcome  \n",
              "0                     0.627   50        1  \n",
              "1                     0.351   31        0  \n",
              "2                     0.672   32        1  \n",
              "3                     0.167   21        0  \n",
              "4                     2.288   33        1  "
            ],
            "text/html": [
              "\n",
              "  <div id=\"df-a89b46f5-7414-44d9-8977-965e61b84dba\">\n",
              "    <div class=\"colab-df-container\">\n",
              "      <div>\n",
              "<style scoped>\n",
              "    .dataframe tbody tr th:only-of-type {\n",
              "        vertical-align: middle;\n",
              "    }\n",
              "\n",
              "    .dataframe tbody tr th {\n",
              "        vertical-align: top;\n",
              "    }\n",
              "\n",
              "    .dataframe thead th {\n",
              "        text-align: right;\n",
              "    }\n",
              "</style>\n",
              "<table border=\"1\" class=\"dataframe\">\n",
              "  <thead>\n",
              "    <tr style=\"text-align: right;\">\n",
              "      <th></th>\n",
              "      <th>Pregnancies</th>\n",
              "      <th>Glucose</th>\n",
              "      <th>BloodPressure</th>\n",
              "      <th>SkinThickness</th>\n",
              "      <th>Insulin</th>\n",
              "      <th>BMI</th>\n",
              "      <th>DiabetesPedigreeFunction</th>\n",
              "      <th>Age</th>\n",
              "      <th>Outcome</th>\n",
              "    </tr>\n",
              "  </thead>\n",
              "  <tbody>\n",
              "    <tr>\n",
              "      <th>0</th>\n",
              "      <td>6</td>\n",
              "      <td>148</td>\n",
              "      <td>72</td>\n",
              "      <td>35</td>\n",
              "      <td>0</td>\n",
              "      <td>33.6</td>\n",
              "      <td>0.627</td>\n",
              "      <td>50</td>\n",
              "      <td>1</td>\n",
              "    </tr>\n",
              "    <tr>\n",
              "      <th>1</th>\n",
              "      <td>1</td>\n",
              "      <td>85</td>\n",
              "      <td>66</td>\n",
              "      <td>29</td>\n",
              "      <td>0</td>\n",
              "      <td>26.6</td>\n",
              "      <td>0.351</td>\n",
              "      <td>31</td>\n",
              "      <td>0</td>\n",
              "    </tr>\n",
              "    <tr>\n",
              "      <th>2</th>\n",
              "      <td>8</td>\n",
              "      <td>183</td>\n",
              "      <td>64</td>\n",
              "      <td>0</td>\n",
              "      <td>0</td>\n",
              "      <td>23.3</td>\n",
              "      <td>0.672</td>\n",
              "      <td>32</td>\n",
              "      <td>1</td>\n",
              "    </tr>\n",
              "    <tr>\n",
              "      <th>3</th>\n",
              "      <td>1</td>\n",
              "      <td>89</td>\n",
              "      <td>66</td>\n",
              "      <td>23</td>\n",
              "      <td>94</td>\n",
              "      <td>28.1</td>\n",
              "      <td>0.167</td>\n",
              "      <td>21</td>\n",
              "      <td>0</td>\n",
              "    </tr>\n",
              "    <tr>\n",
              "      <th>4</th>\n",
              "      <td>0</td>\n",
              "      <td>137</td>\n",
              "      <td>40</td>\n",
              "      <td>35</td>\n",
              "      <td>168</td>\n",
              "      <td>43.1</td>\n",
              "      <td>2.288</td>\n",
              "      <td>33</td>\n",
              "      <td>1</td>\n",
              "    </tr>\n",
              "  </tbody>\n",
              "</table>\n",
              "</div>\n",
              "      <button class=\"colab-df-convert\" onclick=\"convertToInteractive('df-a89b46f5-7414-44d9-8977-965e61b84dba')\"\n",
              "              title=\"Convert this dataframe to an interactive table.\"\n",
              "              style=\"display:none;\">\n",
              "        \n",
              "  <svg xmlns=\"http://www.w3.org/2000/svg\" height=\"24px\"viewBox=\"0 0 24 24\"\n",
              "       width=\"24px\">\n",
              "    <path d=\"M0 0h24v24H0V0z\" fill=\"none\"/>\n",
              "    <path d=\"M18.56 5.44l.94 2.06.94-2.06 2.06-.94-2.06-.94-.94-2.06-.94 2.06-2.06.94zm-11 1L8.5 8.5l.94-2.06 2.06-.94-2.06-.94L8.5 2.5l-.94 2.06-2.06.94zm10 10l.94 2.06.94-2.06 2.06-.94-2.06-.94-.94-2.06-.94 2.06-2.06.94z\"/><path d=\"M17.41 7.96l-1.37-1.37c-.4-.4-.92-.59-1.43-.59-.52 0-1.04.2-1.43.59L10.3 9.45l-7.72 7.72c-.78.78-.78 2.05 0 2.83L4 21.41c.39.39.9.59 1.41.59.51 0 1.02-.2 1.41-.59l7.78-7.78 2.81-2.81c.8-.78.8-2.07 0-2.86zM5.41 20L4 18.59l7.72-7.72 1.47 1.35L5.41 20z\"/>\n",
              "  </svg>\n",
              "      </button>\n",
              "      \n",
              "  <style>\n",
              "    .colab-df-container {\n",
              "      display:flex;\n",
              "      flex-wrap:wrap;\n",
              "      gap: 12px;\n",
              "    }\n",
              "\n",
              "    .colab-df-convert {\n",
              "      background-color: #E8F0FE;\n",
              "      border: none;\n",
              "      border-radius: 50%;\n",
              "      cursor: pointer;\n",
              "      display: none;\n",
              "      fill: #1967D2;\n",
              "      height: 32px;\n",
              "      padding: 0 0 0 0;\n",
              "      width: 32px;\n",
              "    }\n",
              "\n",
              "    .colab-df-convert:hover {\n",
              "      background-color: #E2EBFA;\n",
              "      box-shadow: 0px 1px 2px rgba(60, 64, 67, 0.3), 0px 1px 3px 1px rgba(60, 64, 67, 0.15);\n",
              "      fill: #174EA6;\n",
              "    }\n",
              "\n",
              "    [theme=dark] .colab-df-convert {\n",
              "      background-color: #3B4455;\n",
              "      fill: #D2E3FC;\n",
              "    }\n",
              "\n",
              "    [theme=dark] .colab-df-convert:hover {\n",
              "      background-color: #434B5C;\n",
              "      box-shadow: 0px 1px 3px 1px rgba(0, 0, 0, 0.15);\n",
              "      filter: drop-shadow(0px 1px 2px rgba(0, 0, 0, 0.3));\n",
              "      fill: #FFFFFF;\n",
              "    }\n",
              "  </style>\n",
              "\n",
              "      <script>\n",
              "        const buttonEl =\n",
              "          document.querySelector('#df-a89b46f5-7414-44d9-8977-965e61b84dba button.colab-df-convert');\n",
              "        buttonEl.style.display =\n",
              "          google.colab.kernel.accessAllowed ? 'block' : 'none';\n",
              "\n",
              "        async function convertToInteractive(key) {\n",
              "          const element = document.querySelector('#df-a89b46f5-7414-44d9-8977-965e61b84dba');\n",
              "          const dataTable =\n",
              "            await google.colab.kernel.invokeFunction('convertToInteractive',\n",
              "                                                     [key], {});\n",
              "          if (!dataTable) return;\n",
              "\n",
              "          const docLinkHtml = 'Like what you see? Visit the ' +\n",
              "            '<a target=\"_blank\" href=https://colab.research.google.com/notebooks/data_table.ipynb>data table notebook</a>'\n",
              "            + ' to learn more about interactive tables.';\n",
              "          element.innerHTML = '';\n",
              "          dataTable['output_type'] = 'display_data';\n",
              "          await google.colab.output.renderOutput(dataTable, element);\n",
              "          const docLink = document.createElement('div');\n",
              "          docLink.innerHTML = docLinkHtml;\n",
              "          element.appendChild(docLink);\n",
              "        }\n",
              "      </script>\n",
              "    </div>\n",
              "  </div>\n",
              "  "
            ]
          },
          "metadata": {},
          "execution_count": 5
        }
      ]
    },
    {
      "cell_type": "code",
      "source": [
        "X = diabetes.iloc[:, :-1]\n",
        "y = diabetes.iloc[:, -1]"
      ],
      "metadata": {
        "id": "LdL3wqQb8wBR"
      },
      "execution_count": null,
      "outputs": []
    },
    {
      "cell_type": "code",
      "source": [
        "X.head(), y.head()"
      ],
      "metadata": {
        "colab": {
          "base_uri": "https://localhost:8080/"
        },
        "id": "OYAZQ6Uw9Ylq",
        "outputId": "e329a53b-c17c-48bc-bce1-7c75b11347ac"
      },
      "execution_count": null,
      "outputs": [
        {
          "output_type": "execute_result",
          "data": {
            "text/plain": [
              "(   Pregnancies  Glucose  BloodPressure  SkinThickness  Insulin   BMI  \\\n",
              " 0            6      148             72             35        0  33.6   \n",
              " 1            1       85             66             29        0  26.6   \n",
              " 2            8      183             64              0        0  23.3   \n",
              " 3            1       89             66             23       94  28.1   \n",
              " 4            0      137             40             35      168  43.1   \n",
              " \n",
              "    DiabetesPedigreeFunction  Age  \n",
              " 0                     0.627   50  \n",
              " 1                     0.351   31  \n",
              " 2                     0.672   32  \n",
              " 3                     0.167   21  \n",
              " 4                     2.288   33  , 0    1\n",
              " 1    0\n",
              " 2    1\n",
              " 3    0\n",
              " 4    1\n",
              " Name: Outcome, dtype: int64)"
            ]
          },
          "metadata": {},
          "execution_count": 7
        }
      ]
    },
    {
      "cell_type": "code",
      "source": [
        "z = diabetes[['Outcome']]\n",
        "z.head()"
      ],
      "metadata": {
        "colab": {
          "base_uri": "https://localhost:8080/",
          "height": 206
        },
        "id": "4zZ6VOg09yGq",
        "outputId": "39aea804-2534-4e0e-861b-c8497d3712b3"
      },
      "execution_count": null,
      "outputs": [
        {
          "output_type": "execute_result",
          "data": {
            "text/plain": [
              "   Outcome\n",
              "0        1\n",
              "1        0\n",
              "2        1\n",
              "3        0\n",
              "4        1"
            ],
            "text/html": [
              "\n",
              "  <div id=\"df-37a43463-4ae3-42ba-a6c6-397ede42fec4\">\n",
              "    <div class=\"colab-df-container\">\n",
              "      <div>\n",
              "<style scoped>\n",
              "    .dataframe tbody tr th:only-of-type {\n",
              "        vertical-align: middle;\n",
              "    }\n",
              "\n",
              "    .dataframe tbody tr th {\n",
              "        vertical-align: top;\n",
              "    }\n",
              "\n",
              "    .dataframe thead th {\n",
              "        text-align: right;\n",
              "    }\n",
              "</style>\n",
              "<table border=\"1\" class=\"dataframe\">\n",
              "  <thead>\n",
              "    <tr style=\"text-align: right;\">\n",
              "      <th></th>\n",
              "      <th>Outcome</th>\n",
              "    </tr>\n",
              "  </thead>\n",
              "  <tbody>\n",
              "    <tr>\n",
              "      <th>0</th>\n",
              "      <td>1</td>\n",
              "    </tr>\n",
              "    <tr>\n",
              "      <th>1</th>\n",
              "      <td>0</td>\n",
              "    </tr>\n",
              "    <tr>\n",
              "      <th>2</th>\n",
              "      <td>1</td>\n",
              "    </tr>\n",
              "    <tr>\n",
              "      <th>3</th>\n",
              "      <td>0</td>\n",
              "    </tr>\n",
              "    <tr>\n",
              "      <th>4</th>\n",
              "      <td>1</td>\n",
              "    </tr>\n",
              "  </tbody>\n",
              "</table>\n",
              "</div>\n",
              "      <button class=\"colab-df-convert\" onclick=\"convertToInteractive('df-37a43463-4ae3-42ba-a6c6-397ede42fec4')\"\n",
              "              title=\"Convert this dataframe to an interactive table.\"\n",
              "              style=\"display:none;\">\n",
              "        \n",
              "  <svg xmlns=\"http://www.w3.org/2000/svg\" height=\"24px\"viewBox=\"0 0 24 24\"\n",
              "       width=\"24px\">\n",
              "    <path d=\"M0 0h24v24H0V0z\" fill=\"none\"/>\n",
              "    <path d=\"M18.56 5.44l.94 2.06.94-2.06 2.06-.94-2.06-.94-.94-2.06-.94 2.06-2.06.94zm-11 1L8.5 8.5l.94-2.06 2.06-.94-2.06-.94L8.5 2.5l-.94 2.06-2.06.94zm10 10l.94 2.06.94-2.06 2.06-.94-2.06-.94-.94-2.06-.94 2.06-2.06.94z\"/><path d=\"M17.41 7.96l-1.37-1.37c-.4-.4-.92-.59-1.43-.59-.52 0-1.04.2-1.43.59L10.3 9.45l-7.72 7.72c-.78.78-.78 2.05 0 2.83L4 21.41c.39.39.9.59 1.41.59.51 0 1.02-.2 1.41-.59l7.78-7.78 2.81-2.81c.8-.78.8-2.07 0-2.86zM5.41 20L4 18.59l7.72-7.72 1.47 1.35L5.41 20z\"/>\n",
              "  </svg>\n",
              "      </button>\n",
              "      \n",
              "  <style>\n",
              "    .colab-df-container {\n",
              "      display:flex;\n",
              "      flex-wrap:wrap;\n",
              "      gap: 12px;\n",
              "    }\n",
              "\n",
              "    .colab-df-convert {\n",
              "      background-color: #E8F0FE;\n",
              "      border: none;\n",
              "      border-radius: 50%;\n",
              "      cursor: pointer;\n",
              "      display: none;\n",
              "      fill: #1967D2;\n",
              "      height: 32px;\n",
              "      padding: 0 0 0 0;\n",
              "      width: 32px;\n",
              "    }\n",
              "\n",
              "    .colab-df-convert:hover {\n",
              "      background-color: #E2EBFA;\n",
              "      box-shadow: 0px 1px 2px rgba(60, 64, 67, 0.3), 0px 1px 3px 1px rgba(60, 64, 67, 0.15);\n",
              "      fill: #174EA6;\n",
              "    }\n",
              "\n",
              "    [theme=dark] .colab-df-convert {\n",
              "      background-color: #3B4455;\n",
              "      fill: #D2E3FC;\n",
              "    }\n",
              "\n",
              "    [theme=dark] .colab-df-convert:hover {\n",
              "      background-color: #434B5C;\n",
              "      box-shadow: 0px 1px 3px 1px rgba(0, 0, 0, 0.15);\n",
              "      filter: drop-shadow(0px 1px 2px rgba(0, 0, 0, 0.3));\n",
              "      fill: #FFFFFF;\n",
              "    }\n",
              "  </style>\n",
              "\n",
              "      <script>\n",
              "        const buttonEl =\n",
              "          document.querySelector('#df-37a43463-4ae3-42ba-a6c6-397ede42fec4 button.colab-df-convert');\n",
              "        buttonEl.style.display =\n",
              "          google.colab.kernel.accessAllowed ? 'block' : 'none';\n",
              "\n",
              "        async function convertToInteractive(key) {\n",
              "          const element = document.querySelector('#df-37a43463-4ae3-42ba-a6c6-397ede42fec4');\n",
              "          const dataTable =\n",
              "            await google.colab.kernel.invokeFunction('convertToInteractive',\n",
              "                                                     [key], {});\n",
              "          if (!dataTable) return;\n",
              "\n",
              "          const docLinkHtml = 'Like what you see? Visit the ' +\n",
              "            '<a target=\"_blank\" href=https://colab.research.google.com/notebooks/data_table.ipynb>data table notebook</a>'\n",
              "            + ' to learn more about interactive tables.';\n",
              "          element.innerHTML = '';\n",
              "          dataTable['output_type'] = 'display_data';\n",
              "          await google.colab.output.renderOutput(dataTable, element);\n",
              "          const docLink = document.createElement('div');\n",
              "          docLink.innerHTML = docLinkHtml;\n",
              "          element.appendChild(docLink);\n",
              "        }\n",
              "      </script>\n",
              "    </div>\n",
              "  </div>\n",
              "  "
            ]
          },
          "metadata": {},
          "execution_count": 8
        }
      ]
    },
    {
      "cell_type": "markdown",
      "source": [
        "위처럼 리스트로 칼럼을 입력해서 가져오면 그냥 1차원이 아니라 2차원 dataframe 형태로 읽어오기 때문에 z = z.vales로 Series 형태로 바꿔주거나 처음부터 읽어올 때 리스트가 아니라 개별적으로 가져올 것"
      ],
      "metadata": {
        "id": "NiIRjlau-Eo2"
      }
    },
    {
      "cell_type": "code",
      "source": [
        "from sklearn.model_selection import train_test_split\n",
        "\n",
        "# 함수 이름은 train test split이지만 기능 자체는 그냥 하나의 데이터를 두 개로 나누는 것\n",
        "# 하나만 지정하면 하나가 두 개로 나눠짐\n",
        "#  X_train, X_test = train_test_split(X, test_size=0.2)\n",
        "\n",
        "X_train, X_test,y_train, y_test = train_test_split(X, y, test_size=0.2, stratify=y)"
      ],
      "metadata": {
        "id": "u5JOTyEk-DzB"
      },
      "execution_count": null,
      "outputs": []
    },
    {
      "cell_type": "code",
      "source": [
        "X_train.head()"
      ],
      "metadata": {
        "colab": {
          "base_uri": "https://localhost:8080/",
          "height": 206
        },
        "id": "FgiTnX4A_j5G",
        "outputId": "e11d85eb-a6ac-4d53-d669-879ea2787bc1"
      },
      "execution_count": null,
      "outputs": [
        {
          "output_type": "execute_result",
          "data": {
            "text/plain": [
              "     Pregnancies  Glucose  BloodPressure  SkinThickness  Insulin   BMI  \\\n",
              "655            2      155             52             27      540  38.7   \n",
              "293            1      128             48             45      194  40.5   \n",
              "382            1      109             60              8      182  25.4   \n",
              "591            2      112             78             50      140  39.4   \n",
              "71             5      139             64             35      140  28.6   \n",
              "\n",
              "     DiabetesPedigreeFunction  Age  \n",
              "655                     0.240   25  \n",
              "293                     0.613   24  \n",
              "382                     0.947   21  \n",
              "591                     0.175   24  \n",
              "71                      0.411   26  "
            ],
            "text/html": [
              "\n",
              "  <div id=\"df-88f15f82-efc0-44e8-907d-ed11846dc0ca\">\n",
              "    <div class=\"colab-df-container\">\n",
              "      <div>\n",
              "<style scoped>\n",
              "    .dataframe tbody tr th:only-of-type {\n",
              "        vertical-align: middle;\n",
              "    }\n",
              "\n",
              "    .dataframe tbody tr th {\n",
              "        vertical-align: top;\n",
              "    }\n",
              "\n",
              "    .dataframe thead th {\n",
              "        text-align: right;\n",
              "    }\n",
              "</style>\n",
              "<table border=\"1\" class=\"dataframe\">\n",
              "  <thead>\n",
              "    <tr style=\"text-align: right;\">\n",
              "      <th></th>\n",
              "      <th>Pregnancies</th>\n",
              "      <th>Glucose</th>\n",
              "      <th>BloodPressure</th>\n",
              "      <th>SkinThickness</th>\n",
              "      <th>Insulin</th>\n",
              "      <th>BMI</th>\n",
              "      <th>DiabetesPedigreeFunction</th>\n",
              "      <th>Age</th>\n",
              "    </tr>\n",
              "  </thead>\n",
              "  <tbody>\n",
              "    <tr>\n",
              "      <th>655</th>\n",
              "      <td>2</td>\n",
              "      <td>155</td>\n",
              "      <td>52</td>\n",
              "      <td>27</td>\n",
              "      <td>540</td>\n",
              "      <td>38.7</td>\n",
              "      <td>0.240</td>\n",
              "      <td>25</td>\n",
              "    </tr>\n",
              "    <tr>\n",
              "      <th>293</th>\n",
              "      <td>1</td>\n",
              "      <td>128</td>\n",
              "      <td>48</td>\n",
              "      <td>45</td>\n",
              "      <td>194</td>\n",
              "      <td>40.5</td>\n",
              "      <td>0.613</td>\n",
              "      <td>24</td>\n",
              "    </tr>\n",
              "    <tr>\n",
              "      <th>382</th>\n",
              "      <td>1</td>\n",
              "      <td>109</td>\n",
              "      <td>60</td>\n",
              "      <td>8</td>\n",
              "      <td>182</td>\n",
              "      <td>25.4</td>\n",
              "      <td>0.947</td>\n",
              "      <td>21</td>\n",
              "    </tr>\n",
              "    <tr>\n",
              "      <th>591</th>\n",
              "      <td>2</td>\n",
              "      <td>112</td>\n",
              "      <td>78</td>\n",
              "      <td>50</td>\n",
              "      <td>140</td>\n",
              "      <td>39.4</td>\n",
              "      <td>0.175</td>\n",
              "      <td>24</td>\n",
              "    </tr>\n",
              "    <tr>\n",
              "      <th>71</th>\n",
              "      <td>5</td>\n",
              "      <td>139</td>\n",
              "      <td>64</td>\n",
              "      <td>35</td>\n",
              "      <td>140</td>\n",
              "      <td>28.6</td>\n",
              "      <td>0.411</td>\n",
              "      <td>26</td>\n",
              "    </tr>\n",
              "  </tbody>\n",
              "</table>\n",
              "</div>\n",
              "      <button class=\"colab-df-convert\" onclick=\"convertToInteractive('df-88f15f82-efc0-44e8-907d-ed11846dc0ca')\"\n",
              "              title=\"Convert this dataframe to an interactive table.\"\n",
              "              style=\"display:none;\">\n",
              "        \n",
              "  <svg xmlns=\"http://www.w3.org/2000/svg\" height=\"24px\"viewBox=\"0 0 24 24\"\n",
              "       width=\"24px\">\n",
              "    <path d=\"M0 0h24v24H0V0z\" fill=\"none\"/>\n",
              "    <path d=\"M18.56 5.44l.94 2.06.94-2.06 2.06-.94-2.06-.94-.94-2.06-.94 2.06-2.06.94zm-11 1L8.5 8.5l.94-2.06 2.06-.94-2.06-.94L8.5 2.5l-.94 2.06-2.06.94zm10 10l.94 2.06.94-2.06 2.06-.94-2.06-.94-.94-2.06-.94 2.06-2.06.94z\"/><path d=\"M17.41 7.96l-1.37-1.37c-.4-.4-.92-.59-1.43-.59-.52 0-1.04.2-1.43.59L10.3 9.45l-7.72 7.72c-.78.78-.78 2.05 0 2.83L4 21.41c.39.39.9.59 1.41.59.51 0 1.02-.2 1.41-.59l7.78-7.78 2.81-2.81c.8-.78.8-2.07 0-2.86zM5.41 20L4 18.59l7.72-7.72 1.47 1.35L5.41 20z\"/>\n",
              "  </svg>\n",
              "      </button>\n",
              "      \n",
              "  <style>\n",
              "    .colab-df-container {\n",
              "      display:flex;\n",
              "      flex-wrap:wrap;\n",
              "      gap: 12px;\n",
              "    }\n",
              "\n",
              "    .colab-df-convert {\n",
              "      background-color: #E8F0FE;\n",
              "      border: none;\n",
              "      border-radius: 50%;\n",
              "      cursor: pointer;\n",
              "      display: none;\n",
              "      fill: #1967D2;\n",
              "      height: 32px;\n",
              "      padding: 0 0 0 0;\n",
              "      width: 32px;\n",
              "    }\n",
              "\n",
              "    .colab-df-convert:hover {\n",
              "      background-color: #E2EBFA;\n",
              "      box-shadow: 0px 1px 2px rgba(60, 64, 67, 0.3), 0px 1px 3px 1px rgba(60, 64, 67, 0.15);\n",
              "      fill: #174EA6;\n",
              "    }\n",
              "\n",
              "    [theme=dark] .colab-df-convert {\n",
              "      background-color: #3B4455;\n",
              "      fill: #D2E3FC;\n",
              "    }\n",
              "\n",
              "    [theme=dark] .colab-df-convert:hover {\n",
              "      background-color: #434B5C;\n",
              "      box-shadow: 0px 1px 3px 1px rgba(0, 0, 0, 0.15);\n",
              "      filter: drop-shadow(0px 1px 2px rgba(0, 0, 0, 0.3));\n",
              "      fill: #FFFFFF;\n",
              "    }\n",
              "  </style>\n",
              "\n",
              "      <script>\n",
              "        const buttonEl =\n",
              "          document.querySelector('#df-88f15f82-efc0-44e8-907d-ed11846dc0ca button.colab-df-convert');\n",
              "        buttonEl.style.display =\n",
              "          google.colab.kernel.accessAllowed ? 'block' : 'none';\n",
              "\n",
              "        async function convertToInteractive(key) {\n",
              "          const element = document.querySelector('#df-88f15f82-efc0-44e8-907d-ed11846dc0ca');\n",
              "          const dataTable =\n",
              "            await google.colab.kernel.invokeFunction('convertToInteractive',\n",
              "                                                     [key], {});\n",
              "          if (!dataTable) return;\n",
              "\n",
              "          const docLinkHtml = 'Like what you see? Visit the ' +\n",
              "            '<a target=\"_blank\" href=https://colab.research.google.com/notebooks/data_table.ipynb>data table notebook</a>'\n",
              "            + ' to learn more about interactive tables.';\n",
              "          element.innerHTML = '';\n",
              "          dataTable['output_type'] = 'display_data';\n",
              "          await google.colab.output.renderOutput(dataTable, element);\n",
              "          const docLink = document.createElement('div');\n",
              "          docLink.innerHTML = docLinkHtml;\n",
              "          element.appendChild(docLink);\n",
              "        }\n",
              "      </script>\n",
              "    </div>\n",
              "  </div>\n",
              "  "
            ]
          },
          "metadata": {},
          "execution_count": 12
        }
      ]
    },
    {
      "cell_type": "markdown",
      "source": [
        "각 칼럼들은 일반적으로 정규 분포를 따른다는 전제 하에 정규화 진행 \n"
      ],
      "metadata": {
        "id": "8IYjbMO__nM-"
      }
    },
    {
      "cell_type": "code",
      "source": [
        "# 정규화\n",
        "\n",
        "from sklearn.preprocessing import StandardScaler\n",
        "\n",
        "scaler = StandardScaler()\n",
        "X_train = scaler.fit_transform(X_train)\n",
        "# transform을 거치고 나면 numpy 배열로 바뀜 (들어갈 땐 Dataframe)\n",
        "X_train[:5]"
      ],
      "metadata": {
        "colab": {
          "base_uri": "https://localhost:8080/"
        },
        "id": "e65wb70D-7ak",
        "outputId": "763684eb-02d1-4c0e-f943-2a131baf019e"
      },
      "execution_count": null,
      "outputs": [
        {
          "output_type": "execute_result",
          "data": {
            "text/plain": [
              "array([[-0.57524177,  1.0462012 , -0.84767498,  0.42524208,  4.05341929,\n",
              "         0.89379196, -0.67676036, -0.69645606],\n",
              "       [-0.8705582 ,  0.22049668, -1.05198211,  1.57180843,  1.02719366,\n",
              "         1.13010661,  0.47209341, -0.78189542],\n",
              "       [-0.8705582 , -0.36055465, -0.4390607 , -0.7850224 ,  0.92223786,\n",
              "        -0.85231074,  1.50082575, -1.03821352],\n",
              "       [-0.57524177, -0.26880971,  0.48032142,  1.89029909,  0.55489255,\n",
              "         0.9856921 , -0.87696276, -0.78189542],\n",
              "       [ 0.31070751,  0.55689482, -0.23475356,  0.93482713,  0.55489255,\n",
              "        -0.4321958 , -0.15007405, -0.61101669]])"
            ]
          },
          "metadata": {},
          "execution_count": 14
        }
      ]
    },
    {
      "cell_type": "code",
      "source": [
        "X_test = scaler.transform(X_test)\n",
        "y_test = y_test.values"
      ],
      "metadata": {
        "id": "w69I82xfAowX"
      },
      "execution_count": null,
      "outputs": []
    },
    {
      "cell_type": "code",
      "source": [
        "def build_model_1():\n",
        "  model = keras.Sequential([\n",
        "      # input_shape 대신 input_dim을 쓰기도 함 (dimension의 dim)\n",
        "      layers.Dense(units=16, activation = 'relu', input_shape=(8, )),\n",
        "      layers.Dense(8, activation='relu'),\n",
        "      \n",
        "      #출력 층\n",
        "      # 출력은 하나지만 확률로 결과값을 얻고 싶어서 sigmoid 사용 \n",
        "      layers.Dense(1, activation='sigmoid')\n",
        "  ])\n",
        "\n",
        "  model.compile(\n",
        "      optimizer = 'adam', loss='binary_crossentropy',\n",
        "      metrics=['acc']\n",
        "  )\n",
        "\n",
        "  return model"
      ],
      "metadata": {
        "id": "hOAVFhJKBO5m"
      },
      "execution_count": null,
      "outputs": []
    },
    {
      "cell_type": "code",
      "source": [
        "model = build_model_1()\n",
        "model.summary()"
      ],
      "metadata": {
        "colab": {
          "base_uri": "https://localhost:8080/"
        },
        "id": "OsS22QzACkVD",
        "outputId": "13aa5491-af9d-4ac5-8cba-e1927520cd2e"
      },
      "execution_count": null,
      "outputs": [
        {
          "output_type": "stream",
          "name": "stdout",
          "text": [
            "Model: \"sequential\"\n",
            "_________________________________________________________________\n",
            " Layer (type)                Output Shape              Param #   \n",
            "=================================================================\n",
            " dense_3 (Dense)             (None, 16)                144       \n",
            "                                                                 \n",
            " dense_4 (Dense)             (None, 8)                 136       \n",
            "                                                                 \n",
            " dense_5 (Dense)             (None, 1)                 9         \n",
            "                                                                 \n",
            "=================================================================\n",
            "Total params: 289\n",
            "Trainable params: 289\n",
            "Non-trainable params: 0\n",
            "_________________________________________________________________\n"
          ]
        }
      ]
    },
    {
      "cell_type": "markdown",
      "source": [
        "출력이 하나다 = 회귀"
      ],
      "metadata": {
        "id": "sCCGyje2CyFG"
      }
    },
    {
      "cell_type": "code",
      "source": [
        "# 모델 합성\n",
        "EPOCHS = 30\n",
        "BATCH_SIZE = 32\n",
        "\n",
        "log = model.fit(X_train, y_train,\n",
        "                epochs = EPOCHS, batch_size = BATCH_SIZE,\n",
        "                validation_split = 0.2, #미리 만들어둔 validation이 없기 때문에 \n",
        "                verbose=1\n",
        "                )"
      ],
      "metadata": {
        "colab": {
          "base_uri": "https://localhost:8080/"
        },
        "id": "MDCh3EHqCmj7",
        "outputId": "dd0af282-eb6c-4de9-f197-1179aa659ae7"
      },
      "execution_count": null,
      "outputs": [
        {
          "output_type": "stream",
          "name": "stdout",
          "text": [
            "Epoch 1/30\n",
            "16/16 [==============================] - 1s 15ms/step - loss: 0.6103 - acc: 0.6925 - val_loss: 0.5706 - val_acc: 0.7480\n",
            "Epoch 2/30\n",
            "16/16 [==============================] - 0s 5ms/step - loss: 0.5852 - acc: 0.7271 - val_loss: 0.5505 - val_acc: 0.7561\n",
            "Epoch 3/30\n",
            "16/16 [==============================] - 0s 3ms/step - loss: 0.5651 - acc: 0.7393 - val_loss: 0.5345 - val_acc: 0.7561\n",
            "Epoch 4/30\n",
            "16/16 [==============================] - 0s 3ms/step - loss: 0.5482 - acc: 0.7454 - val_loss: 0.5212 - val_acc: 0.7724\n",
            "Epoch 5/30\n",
            "16/16 [==============================] - 0s 4ms/step - loss: 0.5336 - acc: 0.7556 - val_loss: 0.5111 - val_acc: 0.7805\n",
            "Epoch 6/30\n",
            "16/16 [==============================] - 0s 3ms/step - loss: 0.5229 - acc: 0.7617 - val_loss: 0.5018 - val_acc: 0.7886\n",
            "Epoch 7/30\n",
            "16/16 [==============================] - 0s 5ms/step - loss: 0.5127 - acc: 0.7576 - val_loss: 0.4951 - val_acc: 0.7886\n",
            "Epoch 8/30\n",
            "16/16 [==============================] - 0s 4ms/step - loss: 0.5033 - acc: 0.7597 - val_loss: 0.4873 - val_acc: 0.7805\n",
            "Epoch 9/30\n",
            "16/16 [==============================] - 0s 4ms/step - loss: 0.4955 - acc: 0.7699 - val_loss: 0.4808 - val_acc: 0.7805\n",
            "Epoch 10/30\n",
            "16/16 [==============================] - 0s 5ms/step - loss: 0.4885 - acc: 0.7780 - val_loss: 0.4762 - val_acc: 0.7805\n",
            "Epoch 11/30\n",
            "16/16 [==============================] - 0s 3ms/step - loss: 0.4829 - acc: 0.7780 - val_loss: 0.4711 - val_acc: 0.7724\n",
            "Epoch 12/30\n",
            "16/16 [==============================] - 0s 3ms/step - loss: 0.4782 - acc: 0.7739 - val_loss: 0.4685 - val_acc: 0.7805\n",
            "Epoch 13/30\n",
            "16/16 [==============================] - 0s 4ms/step - loss: 0.4739 - acc: 0.7821 - val_loss: 0.4666 - val_acc: 0.7805\n",
            "Epoch 14/30\n",
            "16/16 [==============================] - 0s 3ms/step - loss: 0.4708 - acc: 0.7862 - val_loss: 0.4635 - val_acc: 0.7886\n",
            "Epoch 15/30\n",
            "16/16 [==============================] - 0s 3ms/step - loss: 0.4677 - acc: 0.7943 - val_loss: 0.4613 - val_acc: 0.7886\n",
            "Epoch 16/30\n",
            "16/16 [==============================] - 0s 4ms/step - loss: 0.4654 - acc: 0.7943 - val_loss: 0.4604 - val_acc: 0.7886\n",
            "Epoch 17/30\n",
            "16/16 [==============================] - 0s 5ms/step - loss: 0.4632 - acc: 0.7943 - val_loss: 0.4587 - val_acc: 0.7886\n",
            "Epoch 18/30\n",
            "16/16 [==============================] - 0s 3ms/step - loss: 0.4608 - acc: 0.7963 - val_loss: 0.4586 - val_acc: 0.7805\n",
            "Epoch 19/30\n",
            "16/16 [==============================] - 0s 4ms/step - loss: 0.4582 - acc: 0.7963 - val_loss: 0.4581 - val_acc: 0.8049\n",
            "Epoch 20/30\n",
            "16/16 [==============================] - 0s 3ms/step - loss: 0.4564 - acc: 0.7984 - val_loss: 0.4568 - val_acc: 0.8049\n",
            "Epoch 21/30\n",
            "16/16 [==============================] - 0s 4ms/step - loss: 0.4551 - acc: 0.7963 - val_loss: 0.4558 - val_acc: 0.8049\n",
            "Epoch 22/30\n",
            "16/16 [==============================] - 0s 5ms/step - loss: 0.4529 - acc: 0.7963 - val_loss: 0.4560 - val_acc: 0.8130\n",
            "Epoch 23/30\n",
            "16/16 [==============================] - 0s 4ms/step - loss: 0.4520 - acc: 0.8004 - val_loss: 0.4546 - val_acc: 0.8049\n",
            "Epoch 24/30\n",
            "16/16 [==============================] - 0s 4ms/step - loss: 0.4499 - acc: 0.7984 - val_loss: 0.4549 - val_acc: 0.8130\n",
            "Epoch 25/30\n",
            "16/16 [==============================] - 0s 3ms/step - loss: 0.4486 - acc: 0.7984 - val_loss: 0.4538 - val_acc: 0.8130\n",
            "Epoch 26/30\n",
            "16/16 [==============================] - 0s 3ms/step - loss: 0.4470 - acc: 0.7984 - val_loss: 0.4532 - val_acc: 0.8130\n",
            "Epoch 27/30\n",
            "16/16 [==============================] - 0s 3ms/step - loss: 0.4464 - acc: 0.8004 - val_loss: 0.4542 - val_acc: 0.8211\n",
            "Epoch 28/30\n",
            "16/16 [==============================] - 0s 4ms/step - loss: 0.4445 - acc: 0.8024 - val_loss: 0.4529 - val_acc: 0.8130\n",
            "Epoch 29/30\n",
            "16/16 [==============================] - 0s 4ms/step - loss: 0.4435 - acc: 0.7984 - val_loss: 0.4507 - val_acc: 0.8211\n",
            "Epoch 30/30\n",
            "16/16 [==============================] - 0s 4ms/step - loss: 0.4422 - acc: 0.7984 - val_loss: 0.4519 - val_acc: 0.8293\n"
          ]
        }
      ]
    },
    {
      "cell_type": "code",
      "source": [
        "# 평가 \n",
        "\n",
        "model.evaluate(X_train, y_train)\n",
        "#학습할 때 성능"
      ],
      "metadata": {
        "colab": {
          "base_uri": "https://localhost:8080/"
        },
        "id": "TZ2FGOqiDR0N",
        "outputId": "7265ec9b-6b17-49dc-a543-8bb913f33c05"
      },
      "execution_count": null,
      "outputs": [
        {
          "output_type": "stream",
          "name": "stdout",
          "text": [
            "20/20 [==============================] - 0s 1ms/step - loss: 0.4427 - acc: 0.8062\n"
          ]
        },
        {
          "output_type": "execute_result",
          "data": {
            "text/plain": [
              "[0.44273799657821655, 0.8061889410018921]"
            ]
          },
          "metadata": {},
          "execution_count": 24
        }
      ]
    },
    {
      "cell_type": "code",
      "source": [
        "model.evaluate(X_test, y_test)\n",
        "# 학습할 때 본 적 없는 데이터를 만나면 어떻게 나오는지"
      ],
      "metadata": {
        "colab": {
          "base_uri": "https://localhost:8080/"
        },
        "id": "Mi3wWmKrDd2Q",
        "outputId": "0111c707-f4e4-40bf-d0d3-0973889a1d9a"
      },
      "execution_count": null,
      "outputs": [
        {
          "output_type": "stream",
          "name": "stdout",
          "text": [
            "5/5 [==============================] - 0s 5ms/step - loss: 0.5157 - acc: 0.7615\n"
          ]
        },
        {
          "output_type": "execute_result",
          "data": {
            "text/plain": [
              "[0.5157137513160706, 0.7615384459495544]"
            ]
          },
          "metadata": {},
          "execution_count": 25
        }
      ]
    },
    {
      "cell_type": "code",
      "source": [
        "# 예측\n",
        "\n",
        "y_pred = model.predict(X_test)\n",
        "y_pred[:5]"
      ],
      "metadata": {
        "colab": {
          "base_uri": "https://localhost:8080/"
        },
        "id": "gfZsKQ-8DrLU",
        "outputId": "fdf90153-e66a-46cd-dd05-fa5188cf8e6e"
      },
      "execution_count": null,
      "outputs": [
        {
          "output_type": "stream",
          "name": "stdout",
          "text": [
            "5/5 [==============================] - 0s 3ms/step\n"
          ]
        },
        {
          "output_type": "execute_result",
          "data": {
            "text/plain": [
              "array([[0.731156  ],\n",
              "       [0.7227728 ],\n",
              "       [0.0902142 ],\n",
              "       [0.10521194],\n",
              "       [0.32855573]], dtype=float32)"
            ]
          },
          "metadata": {},
          "execution_count": 26
        }
      ]
    },
    {
      "cell_type": "code",
      "source": [
        "y_pred = y_pred.reshape(-1)\n",
        "y_pred[:5]"
      ],
      "metadata": {
        "colab": {
          "base_uri": "https://localhost:8080/"
        },
        "id": "DD9p5hluD3pq",
        "outputId": "3cc4f966-3a3c-4a85-fa8a-47aa53016e03"
      },
      "execution_count": null,
      "outputs": [
        {
          "output_type": "execute_result",
          "data": {
            "text/plain": [
              "array([0.731156  , 0.7227728 , 0.0902142 , 0.10521194, 0.32855573],\n",
              "      dtype=float32)"
            ]
          },
          "metadata": {},
          "execution_count": 27
        }
      ]
    },
    {
      "cell_type": "code",
      "source": [
        "y_pred = (y_pred>0.5).astype('int')\n",
        "y_pred[:5]"
      ],
      "metadata": {
        "colab": {
          "base_uri": "https://localhost:8080/"
        },
        "id": "2hmllta8EFbw",
        "outputId": "117d0d6f-9248-46a2-9a5b-737d80594807"
      },
      "execution_count": null,
      "outputs": [
        {
          "output_type": "execute_result",
          "data": {
            "text/plain": [
              "array([1, 1, 0, 0, 0])"
            ]
          },
          "metadata": {},
          "execution_count": 28
        }
      ]
    },
    {
      "cell_type": "markdown",
      "source": [
        "## 다중분류로\n",
        "\n",
        "- 클래스가 두개인 다중분류"
      ],
      "metadata": {
        "id": "RCA6mc35EfOw"
      }
    },
    {
      "cell_type": "code",
      "source": [
        "from tensorflow.keras.utils import to_categorical\n",
        "\n",
        "y_train_oh = to_categorical(y_train)\n",
        "y_train_oh[:5]"
      ],
      "metadata": {
        "colab": {
          "base_uri": "https://localhost:8080/"
        },
        "id": "Yo6AZlanEbbm",
        "outputId": "3e84b3e7-909c-48de-9c64-96270370f211"
      },
      "execution_count": null,
      "outputs": [
        {
          "output_type": "execute_result",
          "data": {
            "text/plain": [
              "array([[0., 1., 0., 0., 0., 0., 0., 0., 0., 0.],\n",
              "       [0., 0., 0., 0., 0., 0., 1., 0., 0., 0.],\n",
              "       [0., 0., 0., 0., 0., 0., 0., 0., 1., 0.],\n",
              "       [0., 0., 1., 0., 0., 0., 0., 0., 0., 0.],\n",
              "       [0., 0., 0., 0., 0., 0., 0., 0., 0., 1.]], dtype=float32)"
            ]
          },
          "metadata": {},
          "execution_count": 13
        }
      ]
    },
    {
      "cell_type": "code",
      "source": [
        "def build_model_2():\n",
        "  model = keras.Sequential([\n",
        "      # input_shape 대신 input_dim을 쓰기도 함 (dimension의 dim)\n",
        "      layers.Dense(units=16, activation = 'relu', input_shape=(8, )),\n",
        "      layers.Dense(8, activation='relu'),\n",
        "      \n",
        "      #출력 층\n",
        "      # 클래스 두 개를 다중분류 이므로 출력 2개 \n",
        "      layers.Dense(2, activation='softmax')\n",
        "  ])\n",
        "\n",
        "  model.compile(\n",
        "      optimizer = 'adam', loss='categorical_crossentropy',\n",
        "      metrics=['acc']\n",
        "  )\n",
        "\n",
        "  return model"
      ],
      "metadata": {
        "id": "yTS-_ScQEyzR"
      },
      "execution_count": null,
      "outputs": []
    },
    {
      "cell_type": "code",
      "source": [
        "model = build_model_2()\n",
        "model.summary()"
      ],
      "metadata": {
        "colab": {
          "base_uri": "https://localhost:8080/"
        },
        "id": "7sGBBUfdFKS6",
        "outputId": "58431e7d-af7c-40e8-f2be-64f81691ac82"
      },
      "execution_count": null,
      "outputs": [
        {
          "output_type": "stream",
          "name": "stdout",
          "text": [
            "Model: \"sequential_1\"\n",
            "_________________________________________________________________\n",
            " Layer (type)                Output Shape              Param #   \n",
            "=================================================================\n",
            " dense_6 (Dense)             (None, 16)                144       \n",
            "                                                                 \n",
            " dense_7 (Dense)             (None, 8)                 136       \n",
            "                                                                 \n",
            " dense_8 (Dense)             (None, 2)                 18        \n",
            "                                                                 \n",
            "=================================================================\n",
            "Total params: 298\n",
            "Trainable params: 298\n",
            "Non-trainable params: 0\n",
            "_________________________________________________________________\n"
          ]
        }
      ]
    },
    {
      "cell_type": "code",
      "source": [
        "# 모델 합성\n",
        "EPOCHS = 30\n",
        "BATCH_SIZE = 32\n",
        "\n",
        "log = model.fit(X_train, y_train_oh, #one-hot된 걸로 넣기 (다중분류라고 생각하고)\n",
        "                epochs = EPOCHS, batch_size = BATCH_SIZE,\n",
        "                validation_split = 0.2, #미리 만들어둔 validation이 없기 때문에 \n",
        "                verbose=1\n",
        "                )"
      ],
      "metadata": {
        "colab": {
          "base_uri": "https://localhost:8080/"
        },
        "id": "rknLWujcFQHW",
        "outputId": "02607244-5eb2-4e87-9a18-f69daef7c7b3"
      },
      "execution_count": null,
      "outputs": [
        {
          "output_type": "stream",
          "name": "stdout",
          "text": [
            "Epoch 1/30\n",
            "16/16 [==============================] - 1s 23ms/step - loss: 0.7195 - acc: 0.6130 - val_loss: 0.7038 - val_acc: 0.6179\n",
            "Epoch 2/30\n",
            "16/16 [==============================] - 0s 8ms/step - loss: 0.6821 - acc: 0.6558 - val_loss: 0.6665 - val_acc: 0.6423\n",
            "Epoch 3/30\n",
            "16/16 [==============================] - 0s 5ms/step - loss: 0.6579 - acc: 0.6741 - val_loss: 0.6390 - val_acc: 0.6504\n",
            "Epoch 4/30\n",
            "16/16 [==============================] - 0s 4ms/step - loss: 0.6386 - acc: 0.6762 - val_loss: 0.6194 - val_acc: 0.6829\n",
            "Epoch 5/30\n",
            "16/16 [==============================] - 0s 3ms/step - loss: 0.6220 - acc: 0.6802 - val_loss: 0.6013 - val_acc: 0.6911\n",
            "Epoch 6/30\n",
            "16/16 [==============================] - 0s 3ms/step - loss: 0.6050 - acc: 0.6823 - val_loss: 0.5846 - val_acc: 0.7073\n",
            "Epoch 7/30\n",
            "16/16 [==============================] - 0s 3ms/step - loss: 0.5889 - acc: 0.6965 - val_loss: 0.5646 - val_acc: 0.6992\n",
            "Epoch 8/30\n",
            "16/16 [==============================] - 0s 3ms/step - loss: 0.5732 - acc: 0.7026 - val_loss: 0.5442 - val_acc: 0.7317\n",
            "Epoch 9/30\n",
            "16/16 [==============================] - 0s 3ms/step - loss: 0.5585 - acc: 0.6965 - val_loss: 0.5243 - val_acc: 0.7642\n",
            "Epoch 10/30\n",
            "16/16 [==============================] - 0s 4ms/step - loss: 0.5447 - acc: 0.7088 - val_loss: 0.5073 - val_acc: 0.7642\n",
            "Epoch 11/30\n",
            "16/16 [==============================] - 0s 3ms/step - loss: 0.5329 - acc: 0.7210 - val_loss: 0.4906 - val_acc: 0.7805\n",
            "Epoch 12/30\n",
            "16/16 [==============================] - 0s 5ms/step - loss: 0.5200 - acc: 0.7373 - val_loss: 0.4794 - val_acc: 0.7967\n",
            "Epoch 13/30\n",
            "16/16 [==============================] - 0s 3ms/step - loss: 0.5099 - acc: 0.7495 - val_loss: 0.4674 - val_acc: 0.7967\n",
            "Epoch 14/30\n",
            "16/16 [==============================] - 0s 3ms/step - loss: 0.5005 - acc: 0.7637 - val_loss: 0.4606 - val_acc: 0.7886\n",
            "Epoch 15/30\n",
            "16/16 [==============================] - 0s 4ms/step - loss: 0.4922 - acc: 0.7637 - val_loss: 0.4554 - val_acc: 0.7967\n",
            "Epoch 16/30\n",
            "16/16 [==============================] - 0s 3ms/step - loss: 0.4853 - acc: 0.7597 - val_loss: 0.4503 - val_acc: 0.7967\n",
            "Epoch 17/30\n",
            "16/16 [==============================] - 0s 4ms/step - loss: 0.4792 - acc: 0.7658 - val_loss: 0.4460 - val_acc: 0.8130\n",
            "Epoch 18/30\n",
            "16/16 [==============================] - 0s 4ms/step - loss: 0.4744 - acc: 0.7678 - val_loss: 0.4447 - val_acc: 0.8130\n",
            "Epoch 19/30\n",
            "16/16 [==============================] - 0s 4ms/step - loss: 0.4694 - acc: 0.7658 - val_loss: 0.4429 - val_acc: 0.8049\n",
            "Epoch 20/30\n",
            "16/16 [==============================] - 0s 3ms/step - loss: 0.4658 - acc: 0.7719 - val_loss: 0.4423 - val_acc: 0.8130\n",
            "Epoch 21/30\n",
            "16/16 [==============================] - 0s 3ms/step - loss: 0.4628 - acc: 0.7780 - val_loss: 0.4408 - val_acc: 0.8130\n",
            "Epoch 22/30\n",
            "16/16 [==============================] - 0s 4ms/step - loss: 0.4598 - acc: 0.7760 - val_loss: 0.4400 - val_acc: 0.8130\n",
            "Epoch 23/30\n",
            "16/16 [==============================] - 0s 4ms/step - loss: 0.4576 - acc: 0.7780 - val_loss: 0.4381 - val_acc: 0.8130\n",
            "Epoch 24/30\n",
            "16/16 [==============================] - 0s 3ms/step - loss: 0.4555 - acc: 0.7780 - val_loss: 0.4385 - val_acc: 0.8130\n",
            "Epoch 25/30\n",
            "16/16 [==============================] - 0s 5ms/step - loss: 0.4533 - acc: 0.7760 - val_loss: 0.4381 - val_acc: 0.8130\n",
            "Epoch 26/30\n",
            "16/16 [==============================] - 0s 3ms/step - loss: 0.4518 - acc: 0.7780 - val_loss: 0.4396 - val_acc: 0.8130\n",
            "Epoch 27/30\n",
            "16/16 [==============================] - 0s 3ms/step - loss: 0.4509 - acc: 0.7760 - val_loss: 0.4390 - val_acc: 0.8130\n",
            "Epoch 28/30\n",
            "16/16 [==============================] - 0s 3ms/step - loss: 0.4489 - acc: 0.7739 - val_loss: 0.4389 - val_acc: 0.8211\n",
            "Epoch 29/30\n",
            "16/16 [==============================] - 0s 3ms/step - loss: 0.4469 - acc: 0.7760 - val_loss: 0.4412 - val_acc: 0.8211\n",
            "Epoch 30/30\n",
            "16/16 [==============================] - 0s 3ms/step - loss: 0.4456 - acc: 0.7719 - val_loss: 0.4404 - val_acc: 0.8130\n"
          ]
        }
      ]
    },
    {
      "cell_type": "code",
      "source": [
        "model.evaluate(X_train, y_train_oh)"
      ],
      "metadata": {
        "colab": {
          "base_uri": "https://localhost:8080/"
        },
        "id": "h5UcvZ6QFXJW",
        "outputId": "dc39fcd1-7ee9-45f3-8204-aa9f7179286b"
      },
      "execution_count": null,
      "outputs": [
        {
          "output_type": "stream",
          "name": "stdout",
          "text": [
            "20/20 [==============================] - 0s 4ms/step - loss: 0.4430 - acc: 0.7818\n"
          ]
        },
        {
          "output_type": "execute_result",
          "data": {
            "text/plain": [
              "[0.44296175241470337, 0.7817589640617371]"
            ]
          },
          "metadata": {},
          "execution_count": 33
        }
      ]
    },
    {
      "cell_type": "code",
      "source": [
        "y_test_oh = to_categorical(y_test)\n",
        "model.evaluate(X_test, y_test_oh)"
      ],
      "metadata": {
        "colab": {
          "base_uri": "https://localhost:8080/"
        },
        "id": "wg2lxinCFlpa",
        "outputId": "31674e0f-0423-4ce1-a8c9-d68763605ab7"
      },
      "execution_count": null,
      "outputs": [
        {
          "output_type": "stream",
          "name": "stdout",
          "text": [
            "5/5 [==============================] - 0s 4ms/step - loss: 0.4784 - acc: 0.7727\n"
          ]
        },
        {
          "output_type": "execute_result",
          "data": {
            "text/plain": [
              "[0.47839826345443726, 0.7727272510528564]"
            ]
          },
          "metadata": {},
          "execution_count": 34
        }
      ]
    },
    {
      "cell_type": "code",
      "source": [
        "y_pred = model.predict(X_test)\n",
        "y_pred[:5]"
      ],
      "metadata": {
        "colab": {
          "base_uri": "https://localhost:8080/"
        },
        "id": "DgUVMZySFh2L",
        "outputId": "336d1e99-9237-4e56-aea6-a0c67ccd49d3"
      },
      "execution_count": null,
      "outputs": [
        {
          "output_type": "stream",
          "name": "stdout",
          "text": [
            "5/5 [==============================] - 0s 2ms/step\n"
          ]
        },
        {
          "output_type": "execute_result",
          "data": {
            "text/plain": [
              "array([[0.36543018, 0.6345698 ],\n",
              "       [0.5727282 , 0.4272718 ],\n",
              "       [0.9172732 , 0.08272689],\n",
              "       [0.8883039 , 0.11169608],\n",
              "       [0.62845314, 0.3715469 ]], dtype=float32)"
            ]
          },
          "metadata": {},
          "execution_count": 35
        }
      ]
    },
    {
      "cell_type": "markdown",
      "source": [
        "다중이기 때문에 0, 1이 아니라 0일 확률과 1일 확률로 나옴"
      ],
      "metadata": {
        "id": "AE1kvIprF06f"
      }
    },
    {
      "cell_type": "code",
      "source": [
        "y_pred = np.argmax(y_pred, axis=1)\n",
        "y_pred[:5]"
      ],
      "metadata": {
        "colab": {
          "base_uri": "https://localhost:8080/"
        },
        "id": "agwEKaFgFyJ0",
        "outputId": "c660dfb1-73dc-42a2-faf2-45513a7631ba"
      },
      "execution_count": null,
      "outputs": [
        {
          "output_type": "execute_result",
          "data": {
            "text/plain": [
              "array([1, 0, 0, 0, 0])"
            ]
          },
          "metadata": {},
          "execution_count": 36
        }
      ]
    },
    {
      "cell_type": "markdown",
      "source": [
        "# 다중분류에서 one-hot encoding 하지 않고 학습"
      ],
      "metadata": {
        "id": "Lzd13ax_GVWr"
      }
    },
    {
      "cell_type": "markdown",
      "source": [
        "## 데이터 준비"
      ],
      "metadata": {
        "id": "DHfKfncUKAjK"
      }
    },
    {
      "cell_type": "code",
      "source": [
        "from tensorflow.keras.datasets import mnist\n",
        "\n",
        "(X_train, y_train), (X_test, y_test) = mnist.load_data()\n",
        "print(X_train.shape, y_train.shape)\n",
        "print(X_test.shape, y_test.shape)"
      ],
      "metadata": {
        "colab": {
          "base_uri": "https://localhost:8080/"
        },
        "id": "vSQTxYiiF90X",
        "outputId": "b16d78ff-59cc-431f-ccb8-de067a277593"
      },
      "execution_count": null,
      "outputs": [
        {
          "output_type": "stream",
          "name": "stdout",
          "text": [
            "(60000, 28, 28) (60000,)\n",
            "(10000, 28, 28) (10000,)\n"
          ]
        }
      ]
    },
    {
      "cell_type": "code",
      "source": [
        "type(X_train)"
      ],
      "metadata": {
        "colab": {
          "base_uri": "https://localhost:8080/"
        },
        "id": "CaaPPwjWKgRs",
        "outputId": "08397770-d3a9-4f1c-91c9-9b08ee796b8d"
      },
      "execution_count": null,
      "outputs": [
        {
          "output_type": "execute_result",
          "data": {
            "text/plain": [
              "numpy.ndarray"
            ]
          },
          "metadata": {},
          "execution_count": 7
        }
      ]
    },
    {
      "cell_type": "code",
      "source": [
        "samples = np.random.randint(80000, size=9)\n",
        "print(samples)\n",
        "\n",
        "plt.figure(figsize=(8, 8))\n",
        "for i, idx in enumerate(samples):\n",
        "  plt.subplot(3, 3, i+1)\n",
        "  plt.imshow(X_train[idx], cmap='gray')\n",
        "  plt.axis('off')\n",
        "  plt.title(y_train[idx])"
      ],
      "metadata": {
        "colab": {
          "base_uri": "https://localhost:8080/",
          "height": 591
        },
        "id": "sSqZ6JpQKnAR",
        "outputId": "51877199-9440-40c3-96c4-5a5c449681e3"
      },
      "execution_count": null,
      "outputs": [
        {
          "output_type": "stream",
          "name": "stdout",
          "text": [
            "[36456 39726 35381 30621 71398 75924 34428 62020 52454]\n"
          ]
        },
        {
          "output_type": "error",
          "ename": "IndexError",
          "evalue": "ignored",
          "traceback": [
            "\u001b[0;31m---------------------------------------------------------------------------\u001b[0m",
            "\u001b[0;31mIndexError\u001b[0m                                Traceback (most recent call last)",
            "\u001b[0;32m<ipython-input-54-f52ab69e6804>\u001b[0m in \u001b[0;36m<module>\u001b[0;34m\u001b[0m\n\u001b[1;32m      5\u001b[0m \u001b[0;32mfor\u001b[0m \u001b[0mi\u001b[0m\u001b[0;34m,\u001b[0m \u001b[0midx\u001b[0m \u001b[0;32min\u001b[0m \u001b[0menumerate\u001b[0m\u001b[0;34m(\u001b[0m\u001b[0msamples\u001b[0m\u001b[0;34m)\u001b[0m\u001b[0;34m:\u001b[0m\u001b[0;34m\u001b[0m\u001b[0;34m\u001b[0m\u001b[0m\n\u001b[1;32m      6\u001b[0m   \u001b[0mplt\u001b[0m\u001b[0;34m.\u001b[0m\u001b[0msubplot\u001b[0m\u001b[0;34m(\u001b[0m\u001b[0;36m3\u001b[0m\u001b[0;34m,\u001b[0m \u001b[0;36m3\u001b[0m\u001b[0;34m,\u001b[0m \u001b[0mi\u001b[0m\u001b[0;34m+\u001b[0m\u001b[0;36m1\u001b[0m\u001b[0;34m)\u001b[0m\u001b[0;34m\u001b[0m\u001b[0;34m\u001b[0m\u001b[0m\n\u001b[0;32m----> 7\u001b[0;31m   \u001b[0mplt\u001b[0m\u001b[0;34m.\u001b[0m\u001b[0mimshow\u001b[0m\u001b[0;34m(\u001b[0m\u001b[0mX_train\u001b[0m\u001b[0;34m[\u001b[0m\u001b[0midx\u001b[0m\u001b[0;34m]\u001b[0m\u001b[0;34m,\u001b[0m \u001b[0mcmap\u001b[0m\u001b[0;34m=\u001b[0m\u001b[0;34m'gray'\u001b[0m\u001b[0;34m)\u001b[0m\u001b[0;34m\u001b[0m\u001b[0;34m\u001b[0m\u001b[0m\n\u001b[0m\u001b[1;32m      8\u001b[0m   \u001b[0mplt\u001b[0m\u001b[0;34m.\u001b[0m\u001b[0maxis\u001b[0m\u001b[0;34m(\u001b[0m\u001b[0;34m'off'\u001b[0m\u001b[0;34m)\u001b[0m\u001b[0;34m\u001b[0m\u001b[0;34m\u001b[0m\u001b[0m\n\u001b[1;32m      9\u001b[0m   \u001b[0mplt\u001b[0m\u001b[0;34m.\u001b[0m\u001b[0mtitle\u001b[0m\u001b[0;34m(\u001b[0m\u001b[0my_train\u001b[0m\u001b[0;34m[\u001b[0m\u001b[0midx\u001b[0m\u001b[0;34m]\u001b[0m\u001b[0;34m)\u001b[0m\u001b[0;34m\u001b[0m\u001b[0;34m\u001b[0m\u001b[0m\n",
            "\u001b[0;31mIndexError\u001b[0m: index 71398 is out of bounds for axis 0 with size 60000"
          ]
        },
        {
          "output_type": "display_data",
          "data": {
            "text/plain": [
              "<Figure size 576x576 with 5 Axes>"
            ],
            "image/png": "[encoded data removed]"
          },
          "metadata": {
            "needs_background": "light"
          }
        }
      ]
    },
    {
      "cell_type": "code",
      "source": [
        "X_train, X_val, y_train, y_val = train_test_split(X_train, y_train, test_size=0.2, stratify=y_train)\n",
        "\n",
        "print(X_train.shape, X_val.shape)\n",
        "print(y_train.shape, y_val.shape)"
      ],
      "metadata": {
        "colab": {
          "base_uri": "https://localhost:8080/"
        },
        "id": "4uwDrOCQKxRK",
        "outputId": "79b95e51-cf80-4418-d6c9-e70c3782f0ac"
      },
      "execution_count": null,
      "outputs": [
        {
          "output_type": "stream",
          "name": "stdout",
          "text": [
            "(48000, 28, 28) (12000, 28, 28)\n",
            "(48000,) (12000,)\n"
          ]
        }
      ]
    },
    {
      "cell_type": "code",
      "source": [
        "# 정규화\n",
        "#이미지 데이터는 보통 min-max 사용\n",
        "\n",
        "X_train = X_train.astype('float32')/255\n",
        "X_test = X_test.astype('float32')/255\n",
        "X_val = X_val.astype('float32')/255\n"
      ],
      "metadata": {
        "id": "nYaYk_6MLc7w"
      },
      "execution_count": null,
      "outputs": []
    },
    {
      "cell_type": "code",
      "source": [
        "#다중 분류니까 y를 one-hot\n",
        "\n",
        "y_train_oh = to_categorical(y_train)\n",
        "y_test_oh = to_categorical(y_test)\n",
        "y_val_oh = to_categorical(y_val)\n",
        "\n",
        "y_train_oh[:5]"
      ],
      "metadata": {
        "colab": {
          "base_uri": "https://localhost:8080/"
        },
        "id": "vBLQh9bYMemY",
        "outputId": "aead3413-837e-43ad-b7fb-ea850f0c621a"
      },
      "execution_count": null,
      "outputs": [
        {
          "output_type": "execute_result",
          "data": {
            "text/plain": [
              "array([[0., 0., 0., 0., 0., 0., 0., 0., 1., 0.],\n",
              "       [0., 0., 0., 0., 1., 0., 0., 0., 0., 0.],\n",
              "       [0., 0., 0., 0., 0., 0., 1., 0., 0., 0.],\n",
              "       [0., 1., 0., 0., 0., 0., 0., 0., 0., 0.],\n",
              "       [0., 0., 0., 0., 0., 0., 0., 1., 0., 0.]], dtype=float32)"
            ]
          },
          "metadata": {},
          "execution_count": 19
        }
      ]
    },
    {
      "cell_type": "code",
      "source": [
        "y_train_oh.shape"
      ],
      "metadata": {
        "colab": {
          "base_uri": "https://localhost:8080/"
        },
        "id": "f7De8bizMxr_",
        "outputId": "48037ae1-5bf0-4ccc-f1e9-31c81096cce3"
      },
      "execution_count": null,
      "outputs": [
        {
          "output_type": "execute_result",
          "data": {
            "text/plain": [
              "(48000, 10)"
            ]
          },
          "metadata": {},
          "execution_count": 20
        }
      ]
    },
    {
      "cell_type": "markdown",
      "source": [
        "## 모델"
      ],
      "metadata": {
        "id": "qiM2q-XWM89p"
      }
    },
    {
      "cell_type": "code",
      "source": [
        "X_train = X_train.reshape(-1, 28,28,1)\n",
        "X_test = X_test.reshape(-1, 28,28,1)\n",
        "X_val = X_val.reshape(-1, 28,28,1)"
      ],
      "metadata": {
        "id": "UeQ2o0zCNce0"
      },
      "execution_count": null,
      "outputs": []
    },
    {
      "cell_type": "code",
      "source": [
        "def build_model_3():\n",
        "  model = keras.Sequential([\n",
        "      layers.Conv2D(filters = 32, kernel_size = 3, #(n, m): 가로 세로 길이 - 정사각형이 아니어도 됨 but 그런 경우는 거의 없음 그냥 3으로 넣으면 (3, 3)으로 들어감\n",
        "                    activation='relu', input_shape = (28, 28, 1)),\n",
        "      layers.MaxPool2D(2), # (2, 2)와 2는 같음 \n",
        "      layers.Conv2D(filters = 3642, kernel_size = 3,#Conv2D는 뒤로 갈수록 증가하는 게 일반적\n",
        "                    activation='relu'),\n",
        "      layers.MaxPool2D(2),\n",
        "      layers.Flatten(),\n",
        "      layers.Dense(256, activation='relu'),\n",
        "      layers.Dense(10, activation='softmax')\n",
        "      \n",
        "  ])\n",
        "\n",
        "  model.compile(optimizer = 'adam', loss='categorical_crossentropy',\n",
        "                metrics=['acc'])\n",
        "  \n",
        "  return model"
      ],
      "metadata": {
        "id": "6eQ0akE9M0-a"
      },
      "execution_count": null,
      "outputs": []
    },
    {
      "cell_type": "code",
      "source": [
        "model = build_model_3()\n",
        "model.summary()"
      ],
      "metadata": {
        "colab": {
          "base_uri": "https://localhost:8080/"
        },
        "id": "6CnUBq-vOUAH",
        "outputId": "5430c3f5-d994-458f-f752-2933e3833217"
      },
      "execution_count": null,
      "outputs": [
        {
          "output_type": "stream",
          "name": "stdout",
          "text": [
            "Model: \"sequential\"\n",
            "_________________________________________________________________\n",
            " Layer (type)                Output Shape              Param #   \n",
            "=================================================================\n",
            " conv2d (Conv2D)             (None, 26, 26, 32)        320       \n",
            "                                                                 \n",
            " max_pooling2d (MaxPooling2D  (None, 13, 13, 32)       0         \n",
            " )                                                               \n",
            "                                                                 \n",
            " conv2d_1 (Conv2D)           (None, 11, 11, 3642)      1052538   \n",
            "                                                                 \n",
            " max_pooling2d_1 (MaxPooling  (None, 5, 5, 3642)       0         \n",
            " 2D)                                                             \n",
            "                                                                 \n",
            " flatten (Flatten)           (None, 91050)             0         \n",
            "                                                                 \n",
            " dense (Dense)               (None, 256)               23309056  \n",
            "                                                                 \n",
            " dense_1 (Dense)             (None, 10)                2570      \n",
            "                                                                 \n",
            "=================================================================\n",
            "Total params: 24,364,484\n",
            "Trainable params: 24,364,484\n",
            "Non-trainable params: 0\n",
            "_________________________________________________________________\n"
          ]
        }
      ]
    },
    {
      "cell_type": "code",
      "source": [
        "# 모델 학습\n",
        "EPOCHS = 10\n",
        "BATCH_SIZE = 32\n",
        "\n",
        "log = model.fit(X_train, y_train_oh, \n",
        "                epochs = EPOCHS, batch_size = BATCH_SIZE,\n",
        "                validation_data = (X_val, y_val_oh),\n",
        "                verbose=1\n",
        "                )"
      ],
      "metadata": {
        "colab": {
          "base_uri": "https://localhost:8080/"
        },
        "id": "07hqwTCkOpc2",
        "outputId": "3aa241c0-79ce-47bb-fc2f-b85952e28e00"
      },
      "execution_count": null,
      "outputs": [
        {
          "output_type": "stream",
          "name": "stdout",
          "text": [
            "Epoch 1/10\n",
            "1500/1500 [==============================] - 39s 20ms/step - loss: 0.7465 - acc: 0.9577 - val_loss: 0.1065 - val_acc: 0.9695\n",
            "Epoch 2/10\n",
            "1500/1500 [==============================] - 32s 21ms/step - loss: 0.0650 - acc: 0.9809 - val_loss: 0.0704 - val_acc: 0.9805\n",
            "Epoch 3/10\n",
            "1500/1500 [==============================] - 33s 22ms/step - loss: 0.0441 - acc: 0.9867 - val_loss: 0.0645 - val_acc: 0.9837\n",
            "Epoch 4/10\n",
            "1500/1500 [==============================] - 30s 20ms/step - loss: 0.0340 - acc: 0.9900 - val_loss: 0.0710 - val_acc: 0.9818\n",
            "Epoch 5/10\n",
            "1500/1500 [==============================] - 34s 22ms/step - loss: 0.0329 - acc: 0.9903 - val_loss: 0.0835 - val_acc: 0.9778\n",
            "Epoch 6/10\n",
            "1500/1500 [==============================] - 30s 20ms/step - loss: 0.0263 - acc: 0.9917 - val_loss: 0.0800 - val_acc: 0.9815\n",
            "Epoch 7/10\n",
            "1500/1500 [==============================] - 31s 21ms/step - loss: 0.0243 - acc: 0.9927 - val_loss: 0.0679 - val_acc: 0.9856\n",
            "Epoch 8/10\n",
            "1500/1500 [==============================] - 31s 21ms/step - loss: 0.0251 - acc: 0.9932 - val_loss: 0.1286 - val_acc: 0.9766\n",
            "Epoch 9/10\n",
            "1500/1500 [==============================] - 31s 21ms/step - loss: 0.0260 - acc: 0.9928 - val_loss: 0.0739 - val_acc: 0.9863\n",
            "Epoch 10/10\n",
            "1500/1500 [==============================] - 35s 23ms/step - loss: 0.0184 - acc: 0.9948 - val_loss: 0.0837 - val_acc: 0.9862\n"
          ]
        }
      ]
    },
    {
      "cell_type": "code",
      "source": [
        "model.evaluate(X_train, y_train_oh)"
      ],
      "metadata": {
        "colab": {
          "base_uri": "https://localhost:8080/"
        },
        "id": "EMPiXVKQPceT",
        "outputId": "9f2aad19-9ac0-4524-88bc-abb9937a5177"
      },
      "execution_count": null,
      "outputs": [
        {
          "output_type": "stream",
          "name": "stdout",
          "text": [
            "1500/1500 [==============================] - 11s 7ms/step - loss: 0.0078 - acc: 0.9975\n"
          ]
        },
        {
          "output_type": "execute_result",
          "data": {
            "text/plain": [
              "[0.007836543954908848, 0.9974583387374878]"
            ]
          },
          "metadata": {},
          "execution_count": 25
        }
      ]
    },
    {
      "cell_type": "code",
      "source": [
        "model.evaluate(X_test, y_test_oh)"
      ],
      "metadata": {
        "colab": {
          "base_uri": "https://localhost:8080/"
        },
        "id": "ATaSD8UpQE-p",
        "outputId": "69ca75ca-8d7f-47c6-b34d-14c78aa84400"
      },
      "execution_count": null,
      "outputs": [
        {
          "output_type": "stream",
          "name": "stdout",
          "text": [
            "313/313 [==============================] - 2s 7ms/step - loss: 0.0726 - acc: 0.9869\n"
          ]
        },
        {
          "output_type": "execute_result",
          "data": {
            "text/plain": [
              "[0.0726008266210556, 0.9868999719619751]"
            ]
          },
          "metadata": {},
          "execution_count": 26
        }
      ]
    },
    {
      "cell_type": "code",
      "source": [
        "y_pred=model.predict(X_test)\n",
        "y_pred = np.argmax(y_pred, axis=1)\n",
        "y_pred[:5]"
      ],
      "metadata": {
        "colab": {
          "base_uri": "https://localhost:8080/"
        },
        "id": "N2Eda_M8QIOR",
        "outputId": "8053057e-b181-4cab-dd1a-3174f4e512fb"
      },
      "execution_count": null,
      "outputs": [
        {
          "output_type": "stream",
          "name": "stdout",
          "text": [
            "313/313 [==============================] - 2s 5ms/step\n"
          ]
        },
        {
          "output_type": "execute_result",
          "data": {
            "text/plain": [
              "array([7, 2, 1, 0, 4])"
            ]
          },
          "metadata": {},
          "execution_count": 27
        }
      ]
    },
    {
      "cell_type": "markdown",
      "source": [
        "## without one-hot"
      ],
      "metadata": {
        "id": "T1bWukOTQP8D"
      }
    },
    {
      "cell_type": "code",
      "source": [
        "def build_model_4():\n",
        "  model = keras.Sequential([\n",
        "      layers.Conv2D(filters = 32, kernel_size = 3, #(n, m): 가로 세로 길이 - 정사각형이 아니어도 됨 but 그런 경우는 거의 없음 그냥 3으로 넣으면 (3, 3)으로 들어감\n",
        "                    activation='relu', input_shape = (28, 28, 1)),\n",
        "      layers.MaxPool2D(2), # (2, 2)와 2는 같음 \n",
        "      layers.Conv2D(filters = 3642, kernel_size = 3,#Conv2D는 뒤로 갈수록 증가하는 게 일반적\n",
        "                    activation='relu'),\n",
        "      layers.MaxPool2D(2),\n",
        "      layers.Flatten(),\n",
        "      layers.Dense(256, activation='relu'),\n",
        "      layers.Dense(10, activation='softmax') #원핫은 하지 않지만 텐서플로가 내부적으로 원핫을 하기 때문에 냅둠\n",
        "      \n",
        "  ])\n",
        "\n",
        "  model.compile(optimizer = 'adam', loss='sparse_categorical_crossentropy', # sparse 추가 (비용 계산) -> 학습 시 one-hot시킨 데이터 넣으면x (sparse가 있으면 텐서플로가 내부적으로 원핫을 진행)\n",
        "                metrics=['acc'])\n",
        "  \n",
        "  return model"
      ],
      "metadata": {
        "id": "nyU-a5AiQTrT"
      },
      "execution_count": null,
      "outputs": []
    },
    {
      "cell_type": "code",
      "source": [
        "model = build_model_4()\n",
        "model.summary()"
      ],
      "metadata": {
        "colab": {
          "base_uri": "https://localhost:8080/"
        },
        "id": "epYk-fcrQpIp",
        "outputId": "f65e91f9-3168-4fe1-fa16-d506852c109a"
      },
      "execution_count": null,
      "outputs": [
        {
          "output_type": "stream",
          "name": "stdout",
          "text": [
            "Model: \"sequential_1\"\n",
            "_________________________________________________________________\n",
            " Layer (type)                Output Shape              Param #   \n",
            "=================================================================\n",
            " conv2d_2 (Conv2D)           (None, 26, 26, 32)        320       \n",
            "                                                                 \n",
            " max_pooling2d_2 (MaxPooling  (None, 13, 13, 32)       0         \n",
            " 2D)                                                             \n",
            "                                                                 \n",
            " conv2d_3 (Conv2D)           (None, 11, 11, 3642)      1052538   \n",
            "                                                                 \n",
            " max_pooling2d_3 (MaxPooling  (None, 5, 5, 3642)       0         \n",
            " 2D)                                                             \n",
            "                                                                 \n",
            " flatten_1 (Flatten)         (None, 91050)             0         \n",
            "                                                                 \n",
            " dense_2 (Dense)             (None, 256)               23309056  \n",
            "                                                                 \n",
            " dense_3 (Dense)             (None, 10)                2570      \n",
            "                                                                 \n",
            "=================================================================\n",
            "Total params: 24,364,484\n",
            "Trainable params: 24,364,484\n",
            "Non-trainable params: 0\n",
            "_________________________________________________________________\n"
          ]
        }
      ]
    },
    {
      "cell_type": "code",
      "source": [
        "# 모델 학습\n",
        "EPOCHS = 3\n",
        "BATCH_SIZE = 32\n",
        "\n",
        "log = model.fit(X_train, y_train, \n",
        "                epochs = EPOCHS, batch_size = BATCH_SIZE,\n",
        "                validation_data = (X_val, y_val),\n",
        "                verbose=1\n",
        "                )"
      ],
      "metadata": {
        "colab": {
          "base_uri": "https://localhost:8080/"
        },
        "id": "BME9uumDQzdT",
        "outputId": "16fb0fcc-475b-478b-f34b-72263ae65af8"
      },
      "execution_count": null,
      "outputs": [
        {
          "output_type": "stream",
          "name": "stdout",
          "text": [
            "Epoch 1/3\n",
            "1500/1500 [==============================] - 31s 20ms/step - loss: 0.8224 - acc: 0.9573 - val_loss: 0.0870 - val_acc: 0.9743\n",
            "Epoch 2/3\n",
            "1500/1500 [==============================] - 30s 20ms/step - loss: 0.0656 - acc: 0.9803 - val_loss: 0.0627 - val_acc: 0.9830\n",
            "Epoch 3/3\n",
            "1500/1500 [==============================] - 30s 20ms/step - loss: 0.0435 - acc: 0.9873 - val_loss: 0.0796 - val_acc: 0.9775\n"
          ]
        }
      ]
    },
    {
      "cell_type": "code",
      "source": [
        "y_pred = model.predict(X_test)\n",
        "y_pred = np.argmax(y_pred, axis = 1)"
      ],
      "metadata": {
        "id": "qJHnsLsFSUN4"
      },
      "execution_count": null,
      "outputs": []
    },
    {
      "cell_type": "markdown",
      "source": [
        "## 이진분류 -> 다중분류로\n",
        "- one-hot encoding 하지 않고\n",
        "- sparse_categorical_crossentropy 사용"
      ],
      "metadata": {
        "id": "I8hKjFNuTYHa"
      }
    },
    {
      "cell_type": "markdown",
      "source": [
        "## 데이터 준비"
      ],
      "metadata": {
        "id": "QpO8R6u8TYEI"
      }
    },
    {
      "cell_type": "code",
      "source": [
        "diabetes = pd.read_csv('diabetes.csv')\n",
        "diabetes.shape"
      ],
      "metadata": {
        "colab": {
          "base_uri": "https://localhost:8080/"
        },
        "id": "shEXwRCAUECK",
        "outputId": "5e365199-9b7f-4b26-fd14-efd6166f0b39"
      },
      "execution_count": null,
      "outputs": [
        {
          "output_type": "execute_result",
          "data": {
            "text/plain": [
              "(768, 9)"
            ]
          },
          "metadata": {},
          "execution_count": 31
        }
      ]
    },
    {
      "cell_type": "code",
      "source": [
        "# 각자 실습\n",
        "\n",
        "model = keras.Sequential([\n",
        "    layers.Densd(32, activation='relu', input_shape=(28,28,1)),\n",
        "    layers.Flatten(),\n",
        "    layers.Dense(64, activation='relu'),\n",
        "    layers.Dropout(0.5),\n",
        "    layers.Dense(10, activation='softmax')\n",
        "])\n",
        "\n",
        "# 이걸로 전이학습 끝\n",
        "\n",
        "model.compile(optimizer='adam',\n",
        "              loss='sparse_categorical_crossentropy',\n",
        "              metrics=['acc'])\n",
        "\n",
        "model.summary()\n"
      ],
      "metadata": {
        "colab": {
          "base_uri": "https://localhost:8080/",
          "height": 245
        },
        "id": "xBGZFEfrUyoD",
        "outputId": "589d1d47-ff3f-428e-b9c9-e04d08ef4557"
      },
      "execution_count": null,
      "outputs": [
        {
          "output_type": "error",
          "ename": "NameError",
          "evalue": "ignored",
          "traceback": [
            "\u001b[0;31m---------------------------------------------------------------------------\u001b[0m",
            "\u001b[0;31mNameError\u001b[0m                                 Traceback (most recent call last)",
            "\u001b[0;32m<ipython-input-33-eeedb5d31a3a>\u001b[0m in \u001b[0;36m<module>\u001b[0;34m\u001b[0m\n\u001b[1;32m      2\u001b[0m \u001b[0;34m\u001b[0m\u001b[0m\n\u001b[1;32m      3\u001b[0m model = keras.Sequential([\n\u001b[0;32m----> 4\u001b[0;31m     \u001b[0mbase\u001b[0m\u001b[0;34m,\u001b[0m\u001b[0;34m\u001b[0m\u001b[0;34m\u001b[0m\u001b[0m\n\u001b[0m\u001b[1;32m      5\u001b[0m     \u001b[0mlayers\u001b[0m\u001b[0;34m.\u001b[0m\u001b[0mFlatten\u001b[0m\u001b[0;34m(\u001b[0m\u001b[0;34m)\u001b[0m\u001b[0;34m,\u001b[0m\u001b[0;34m\u001b[0m\u001b[0;34m\u001b[0m\u001b[0m\n\u001b[1;32m      6\u001b[0m     \u001b[0mlayers\u001b[0m\u001b[0;34m.\u001b[0m\u001b[0mDense\u001b[0m\u001b[0;34m(\u001b[0m\u001b[0;36m64\u001b[0m\u001b[0;34m,\u001b[0m \u001b[0mactivation\u001b[0m\u001b[0;34m=\u001b[0m\u001b[0;34m'relu'\u001b[0m\u001b[0;34m)\u001b[0m\u001b[0;34m,\u001b[0m\u001b[0;34m\u001b[0m\u001b[0;34m\u001b[0m\u001b[0m\n",
            "\u001b[0;31mNameError\u001b[0m: name 'base' is not defined"
          ]
        }
      ]
    },
    {
      "cell_type": "code",
      "source": [
        "# iterator\n",
        "\n",
        "data = [1,2,3,4,5]\n",
        "my_iter = iter(data)\n",
        "#my_iter 타입 = iterator\n",
        "i = my_iter.__next__()\n",
        "print(i)\n",
        "#5번 반복하면 됨\n",
        "# for ~ in 구문이 이렇게 동작함"
      ],
      "metadata": {
        "id": "YbvollQ5Xcn-",
        "colab": {
          "base_uri": "https://localhost:8080/"
        },
        "outputId": "13c5ec07-798d-4d30-8ded-cbefb0c029bf"
      },
      "execution_count": null,
      "outputs": [
        {
          "output_type": "stream",
          "name": "stdout",
          "text": [
            "1\n"
          ]
        }
      ]
    },
    {
      "cell_type": "code",
      "source": [
        "from tensorflow.keras.datasets import mnist\n",
        "\n",
        "(X_train, y_train), (X_test, y_test) = mnist.load_data()\n",
        "print(X_train.shape, y_train.shape)\n",
        "print(X_test.shape, y_test.shape)"
      ],
      "metadata": {
        "colab": {
          "base_uri": "https://localhost:8080/"
        },
        "id": "mb1cbb-bowl2",
        "outputId": "cb7e3909-90f3-4ee1-d636-18ebbf9d13b3"
      },
      "execution_count": null,
      "outputs": [
        {
          "output_type": "stream",
          "name": "stdout",
          "text": [
            "(60000, 28, 28) (60000,)\n",
            "(10000, 28, 28) (10000,)\n"
          ]
        }
      ]
    },
    {
      "cell_type": "code",
      "source": [
        "X_train, X_val, y_train, y_val = train_test_split(X_train, y_train, test_size=0.2, stratify=y_train)\n",
        "\n",
        "print(X_train.shape, X_val.shape)\n",
        "print(y_train.shape, y_val.shape)"
      ],
      "metadata": {
        "colab": {
          "base_uri": "https://localhost:8080/"
        },
        "id": "Ei1QRJ8EdtGN",
        "outputId": "d7076da1-72ae-4c9f-9513-943630781bb0"
      },
      "execution_count": null,
      "outputs": [
        {
          "output_type": "stream",
          "name": "stdout",
          "text": [
            "(48000, 28, 28) (12000, 28, 28)\n",
            "(48000,) (12000,)\n"
          ]
        }
      ]
    },
    {
      "cell_type": "code",
      "source": [
        "X_train = X_train.astype('float32')/255\n",
        "X_test = X_test.astype('float32')/255\n",
        "X_val = X_val.astype('float32')/255"
      ],
      "metadata": {
        "id": "Hsu-FFtTeWRF"
      },
      "execution_count": null,
      "outputs": []
    },
    {
      "cell_type": "code",
      "source": [
        "train_ds = tf.data.Dataset.from_tensor_slices((X_train, y_train))\n",
        "type(train_ds)"
      ],
      "metadata": {
        "colab": {
          "base_uri": "https://localhost:8080/"
        },
        "id": "rPTWKJa2eexj",
        "outputId": "f66b4662-a767-42d0-9021-ef4fb924bff1"
      },
      "execution_count": null,
      "outputs": [
        {
          "output_type": "execute_result",
          "data": {
            "text/plain": [
              "tensorflow.python.data.ops.dataset_ops.TensorSliceDataset"
            ]
          },
          "metadata": {},
          "execution_count": 91
        }
      ]
    },
    {
      "cell_type": "code",
      "source": [
        "train_ds = train_ds.shuffle(buffer_size = 50000).batch(batch_size=32) #buffer_size: X_train의 개수보다 커야 함"
      ],
      "metadata": {
        "id": "sQH_XrCoelv4"
      },
      "execution_count": null,
      "outputs": []
    },
    {
      "cell_type": "code",
      "source": [
        "my_iter = iter(train_ds)\n",
        "x, y = my_iter.next()\n",
        "\n",
        "plt.imshow(x[0])\n",
        "plt.show()"
      ],
      "metadata": {
        "colab": {
          "base_uri": "https://localhost:8080/",
          "height": 265
        },
        "id": "kzxGCQbRfqNX",
        "outputId": "a316af34-a67f-4b79-f24f-198a575f27b9"
      },
      "execution_count": null,
      "outputs": [
        {
          "output_type": "display_data",
          "data": {
            "text/plain": [
              "<Figure size 432x288 with 1 Axes>"
            ],
            "image/png": "[encoded data removed]"
          },
          "metadata": {
            "needs_background": "light"
          }
        }
      ]
    },
    {
      "cell_type": "markdown",
      "source": [
        "한 번 돌 때마다 batch_size 만큼만 들어옴"
      ],
      "metadata": {
        "id": "tG066Qd-gKm4"
      }
    },
    {
      "cell_type": "code",
      "source": [
        "val_ds = tf.data.Dataset.from_tensor_slices((X_val, y_val))\n",
        "val_ds = val_ds.batch(batch_size = 32) #학습용이 아니기 때문에 셔플할 필요 없음 "
      ],
      "metadata": {
        "id": "jJLfahIhgQ0m"
      },
      "execution_count": null,
      "outputs": []
    },
    {
      "cell_type": "code",
      "source": [
        "model = build_model_4()\n",
        "model.summary()"
      ],
      "metadata": {
        "colab": {
          "base_uri": "https://localhost:8080/"
        },
        "id": "FhnCylvfg-tE",
        "outputId": "2a2e80d3-324f-4f6e-9a26-aee649d358ad"
      },
      "execution_count": null,
      "outputs": [
        {
          "output_type": "stream",
          "name": "stdout",
          "text": [
            "Model: \"model_3\"\n",
            "_________________________________________________________________\n",
            " Layer (type)                Output Shape              Param #   \n",
            "=================================================================\n",
            " input_4 (InputLayer)        [(None, 28, 28, 1)]       0         \n",
            "                                                                 \n",
            " conv2d_14 (Conv2D)          (None, 26, 26, 32)        320       \n",
            "                                                                 \n",
            " max_pooling2d_13 (MaxPoolin  (None, 13, 13, 32)       0         \n",
            " g2D)                                                            \n",
            "                                                                 \n",
            " conv2d_15 (Conv2D)          (None, 11, 11, 3642)      1052538   \n",
            "                                                                 \n",
            " max_pooling2d_14 (MaxPoolin  (None, 5, 5, 3642)       0         \n",
            " g2D)                                                            \n",
            "                                                                 \n",
            " flatten_7 (Flatten)         (None, 91050)             0         \n",
            "                                                                 \n",
            " dense_14 (Dense)            (None, 256)               23309056  \n",
            "                                                                 \n",
            " dense_15 (Dense)            (None, 10)                2570      \n",
            "                                                                 \n",
            "=================================================================\n",
            "Total params: 24,364,484\n",
            "Trainable params: 24,364,484\n",
            "Non-trainable params: 0\n",
            "_________________________________________________________________\n"
          ]
        }
      ]
    },
    {
      "cell_type": "code",
      "source": [
        "# 모델 학습\n",
        "EPOCHS = 3\n",
        "\n",
        "log = model.fit(train_ds, \n",
        "                epochs = EPOCHS,\n",
        "                validation_data = val_ds,\n",
        "                verbose=1\n",
        "                )"
      ],
      "metadata": {
        "colab": {
          "base_uri": "https://localhost:8080/"
        },
        "id": "d2Na8qaghMVk",
        "outputId": "ee4d7389-dd4f-495c-f72f-0d457d2bc003"
      },
      "execution_count": null,
      "outputs": [
        {
          "output_type": "stream",
          "name": "stdout",
          "text": [
            "Epoch 1/3\n",
            "1500/1500 [==============================] - 32s 21ms/step - loss: 0.1038 - acc: 0.9682 - val_loss: 0.0502 - val_acc: 0.9836\n",
            "Epoch 2/3\n",
            "1500/1500 [==============================] - 34s 23ms/step - loss: 0.0357 - acc: 0.9886 - val_loss: 0.0515 - val_acc: 0.9841\n",
            "Epoch 3/3\n",
            "1500/1500 [==============================] - 33s 22ms/step - loss: 0.0237 - acc: 0.9925 - val_loss: 0.0534 - val_acc: 0.9831\n"
          ]
        }
      ]
    },
    {
      "cell_type": "code",
      "source": [
        "# predict\n",
        "\n",
        "y_pred = model.predict(X_test)\n",
        "y_pred = np.argmax(y_pred)"
      ],
      "metadata": {
        "colab": {
          "base_uri": "https://localhost:8080/"
        },
        "id": "DRknE5_lhfeJ",
        "outputId": "543a9e53-b00f-4a99-d392-fcc33a108404"
      },
      "execution_count": null,
      "outputs": [
        {
          "output_type": "stream",
          "name": "stdout",
          "text": [
            "313/313 [==============================] - 2s 5ms/step\n"
          ]
        }
      ]
    },
    {
      "cell_type": "code",
      "source": [
        "model.evaluate(train_ds)"
      ],
      "metadata": {
        "colab": {
          "base_uri": "https://localhost:8080/"
        },
        "id": "Ypbe_MRUo-Ko",
        "outputId": "0622e032-9c03-4946-d61a-266681d09bcb"
      },
      "execution_count": null,
      "outputs": [
        {
          "output_type": "stream",
          "name": "stdout",
          "text": [
            "1500/1500 [==============================] - 10s 6ms/step - loss: 0.0280 - acc: 0.9907\n"
          ]
        },
        {
          "output_type": "execute_result",
          "data": {
            "text/plain": [
              "[0.027985824272036552, 0.9906666874885559]"
            ]
          },
          "metadata": {},
          "execution_count": 100
        }
      ]
    },
    {
      "cell_type": "code",
      "source": [
        "model.evaluate(X_test, y_test)"
      ],
      "metadata": {
        "colab": {
          "base_uri": "https://localhost:8080/"
        },
        "id": "3DZ69H9jpCoL",
        "outputId": "1f601fb8-5708-4e62-c160-db14b0a95395"
      },
      "execution_count": null,
      "outputs": [
        {
          "output_type": "stream",
          "name": "stdout",
          "text": [
            "313/313 [==============================] - 2s 7ms/step - loss: 0.0461 - acc: 0.9861\n"
          ]
        },
        {
          "output_type": "execute_result",
          "data": {
            "text/plain": [
              "[0.04610436037182808, 0.9861000180244446]"
            ]
          },
          "metadata": {},
          "execution_count": 101
        }
      ]
    },
    {
      "cell_type": "markdown",
      "source": [
        "# 함수형 API 사용"
      ],
      "metadata": {
        "id": "eJlmalyVjN29"
      }
    },
    {
      "cell_type": "code",
      "source": [
        "X_train = X_train.reshape(-1, 28,28,1)\n",
        "X_test = X_test.reshape(-1, 28,28,1)\n",
        "X_val = X_val.reshape(-1, 28,28,1)"
      ],
      "metadata": {
        "id": "81OLWhM0oQ3R"
      },
      "execution_count": null,
      "outputs": []
    },
    {
      "cell_type": "code",
      "source": [
        "def build_model_5():\n",
        "  inputs = layers.Input(shape=(28,28,1))\n",
        "\n",
        "  x = layers.Conv2D(filters = 32, kernel_size = 3,\n",
        "                activation='relu')(inputs)\n",
        "  x = layers.MaxPool2D(2)(x) # (2, 2)와 2는 같음 \n",
        "  x = layers.Conv2D(filters = 3642, kernel_size = 3,#Conv2D는 뒤로 갈수록 증가하는 게 일반적\n",
        "                activation='relu')(x)\n",
        "  x = layers.MaxPool2D(2)(x)\n",
        "  x = layers.Flatten()(x)\n",
        "  x = layers.Dense(256, activation='relu')(x)\n",
        "  outputs = layers.Dense(10, activation='softmax')(x) #원핫은 하지 않지만 텐서플로가 내부적으로 원핫을 하기 때문에 냅둠\n",
        "      \n",
        "  model = tf.keras.Model(inputs = inputs, outputs = outputs)\n",
        "\n",
        "  model.compile(optimizer = 'adam', loss='sparse_categorical_crossentropy', # sparse 추가 (비용 계산) -> 학습 시 one-hot시킨 데이터 넣으면x (sparse가 있으면 텐서플로가 내부적으로 원핫을 진행)\n",
        "                metrics=['acc'])\n",
        "  \n",
        "  return model"
      ],
      "metadata": {
        "id": "xZ4sKjuZjPXX"
      },
      "execution_count": null,
      "outputs": []
    },
    {
      "cell_type": "code",
      "source": [
        "model = build_model_5()\n",
        "model.summary()"
      ],
      "metadata": {
        "colab": {
          "base_uri": "https://localhost:8080/"
        },
        "id": "jh7__I_mkn99",
        "outputId": "bec9d9e2-a73a-4107-909f-24ca5ecebfe2"
      },
      "execution_count": null,
      "outputs": [
        {
          "output_type": "stream",
          "name": "stdout",
          "text": [
            "Model: \"model_5\"\n",
            "_________________________________________________________________\n",
            " Layer (type)                Output Shape              Param #   \n",
            "=================================================================\n",
            " input_6 (InputLayer)        [(None, 28, 28, 1)]       0         \n",
            "                                                                 \n",
            " conv2d_18 (Conv2D)          (None, 26, 26, 32)        320       \n",
            "                                                                 \n",
            " max_pooling2d_17 (MaxPoolin  (None, 13, 13, 32)       0         \n",
            " g2D)                                                            \n",
            "                                                                 \n",
            " conv2d_19 (Conv2D)          (None, 11, 11, 3642)      1052538   \n",
            "                                                                 \n",
            " max_pooling2d_18 (MaxPoolin  (None, 5, 5, 3642)       0         \n",
            " g2D)                                                            \n",
            "                                                                 \n",
            " flatten_9 (Flatten)         (None, 91050)             0         \n",
            "                                                                 \n",
            " dense_18 (Dense)            (None, 256)               23309056  \n",
            "                                                                 \n",
            " dense_19 (Dense)            (None, 10)                2570      \n",
            "                                                                 \n",
            "=================================================================\n",
            "Total params: 24,364,484\n",
            "Trainable params: 24,364,484\n",
            "Non-trainable params: 0\n",
            "_________________________________________________________________\n"
          ]
        }
      ]
    },
    {
      "cell_type": "code",
      "source": [
        "# 모델 학습\n",
        "EPOCHS = 3\n",
        "\n",
        "log = model.fit(train_ds, \n",
        "                epochs = EPOCHS,\n",
        "                validation_data = val_ds,\n",
        "                verbose=1\n",
        "                )"
      ],
      "metadata": {
        "colab": {
          "base_uri": "https://localhost:8080/"
        },
        "id": "_eZ6398skwmF",
        "outputId": "a16026e9-ca4d-40d4-9762-20bdb1a44c76"
      },
      "execution_count": null,
      "outputs": [
        {
          "output_type": "stream",
          "name": "stdout",
          "text": [
            "Epoch 1/3\n",
            "1500/1500 [==============================] - 31s 21ms/step - loss: 0.1007 - acc: 0.9699 - val_loss: 0.0458 - val_acc: 0.9852\n",
            "Epoch 2/3\n",
            "1500/1500 [==============================] - 31s 21ms/step - loss: 0.0368 - acc: 0.9884 - val_loss: 0.0426 - val_acc: 0.9872\n",
            "Epoch 3/3\n",
            "1500/1500 [==============================] - 31s 21ms/step - loss: 0.0223 - acc: 0.9932 - val_loss: 0.0343 - val_acc: 0.9884\n"
          ]
        }
      ]
    },
    {
      "cell_type": "markdown",
      "source": [
        "## 서브 클래싱"
      ],
      "metadata": {
        "id": "vv82o7AnlH5Q"
      }
    },
    {
      "cell_type": "code",
      "source": [
        "# 클래스 형\n",
        "\n",
        "class MyModel(tf.keras.Model):\n",
        "  def __init__(self): #레이어 정의\n",
        "    super(MyModel, self).__init__()\n",
        "    self.conv1 = layers.Conv2D(32, 3, activation='relu')\n",
        "    self.conv2 = layers.Conv2D(64, 3, activation='relu')\n",
        "    self.maxpool = layers.MaxPool2D(2)\n",
        "    self.flat = layers.Flatten()\n",
        "    self.dense1 = layers.Dense(256, activation = 'relu')\n",
        "    self.dense2 = layers.Dense(10, activation = 'softmax')\n",
        "\n",
        "  def call(self, inputs): # 들어온 입력을 토대로 생성\n",
        "    x = self.conv1(inputs)\n",
        "    x = self.maxpool(x)\n",
        "    x = self.conv2(x)\n",
        "    x = self.maxpool(x)\n",
        "    x = self.flat(x)\n",
        "    x = self.dense1(x)\n",
        "    output = self.dense2(x)\n",
        "\n",
        "    return output\n"
      ],
      "metadata": {
        "id": "sNW-fPq1lHGS"
      },
      "execution_count": null,
      "outputs": []
    },
    {
      "cell_type": "code",
      "source": [
        "model = MyModel()\n",
        "model.compile(optimizer = 'adam', loss='sparse_categorical_crossentropy',\n",
        "                metrics=['acc'])\n"
      ],
      "metadata": {
        "id": "AhqUKEfAmWHf"
      },
      "execution_count": null,
      "outputs": []
    },
    {
      "cell_type": "code",
      "source": [
        "# 모델 학습\n",
        "EPOCHS = 3\n",
        "BATCH_SIZE = 32\n",
        "\n",
        "log = model.fit(X_train, y_train,\n",
        "                epochs = EPOCHS, batch_size = BATCH_SIZE,\n",
        "                validation_data =(X_val, y_val),\n",
        "                verbose=1\n",
        "                )"
      ],
      "metadata": {
        "colab": {
          "base_uri": "https://localhost:8080/"
        },
        "id": "7wzZoULCnW-T",
        "outputId": "f2b23a64-8fdc-4a9c-85be-bb4256004527"
      },
      "execution_count": null,
      "outputs": [
        {
          "output_type": "stream",
          "name": "stdout",
          "text": [
            "Epoch 1/3\n",
            "1500/1500 [==============================] - 6s 4ms/step - loss: 2.0754 - acc: 0.9500 - val_loss: 0.2040 - val_acc: 0.9619\n",
            "Epoch 2/3\n",
            "1500/1500 [==============================] - 6s 4ms/step - loss: 0.1455 - acc: 0.9621 - val_loss: 0.1281 - val_acc: 0.9666\n",
            "Epoch 3/3\n",
            "1500/1500 [==============================] - 6s 4ms/step - loss: 0.0911 - acc: 0.9745 - val_loss: 0.0924 - val_acc: 0.9761\n"
          ]
        }
      ]
    },
    {
      "cell_type": "code",
      "source": [],
      "metadata": {
        "id": "Aa5AWMkAnwkz"
      },
      "execution_count": null,
      "outputs": []
    }
  ]
}