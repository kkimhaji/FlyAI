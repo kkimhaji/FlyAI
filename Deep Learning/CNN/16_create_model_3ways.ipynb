{
  "nbformat": 4,
  "nbformat_minor": 0,
  "metadata": {
    "colab": {
      "provenance": [],
      "authorship_tag": "ABX9TyMT4LsyIevZWyD0NetmTFzP",
      "include_colab_link": true
    },
    "kernelspec": {
      "name": "python3",
      "display_name": "Python 3"
    },
    "language_info": {
      "name": "python"
    },
    "accelerator": "GPU",
    "gpuClass": "standard"
  },
  "cells": [
    {
      "cell_type": "markdown",
      "metadata": {
        "id": "view-in-github",
        "colab_type": "text"
      },
      "source": [
        "<a href=\"https://colab.research.google.com/github/kkimhaji/FlyAI/blob/main/Deep%20Learning/CNN/16_create_model_3ways.ipynb\" target=\"_parent\"><img src=\"https://colab.research.google.com/assets/colab-badge.svg\" alt=\"Open In Colab\"/></a>"
      ]
    },
    {
      "cell_type": "markdown",
      "source": [
        "# 이미지 분류 - 완전연결층\n",
        "---\n",
        "fully connected layer 구현\n",
        "\n",
        "tensorflow - dense layer\n",
        "\n",
        "- Fashion Mnist 데이터셋"
      ],
      "metadata": {
        "id": "gPcj8psmKyYX"
      }
    },
    {
      "cell_type": "code",
      "execution_count": 1,
      "metadata": {
        "id": "8P0EPGKeI2uu"
      },
      "outputs": [],
      "source": [
        "import numpy as np\n",
        "import pandas as pd\n",
        "import tensorflow as tf\n",
        "import matplotlib.pyplot as plt\n",
        "from tensorflow import keras\n",
        "from keras import layers\n",
        "import seaborn as sns"
      ]
    },
    {
      "cell_type": "code",
      "source": [
        "from tensorflow.keras.datasets import fashion_mnist\n",
        "\n",
        "(X_train, y_train), (X_test, y_test) = fashion_mnist.load_data()\n"
      ],
      "metadata": {
        "colab": {
          "base_uri": "https://localhost:8080/"
        },
        "id": "u_9OrS5sLGL5",
        "outputId": "02247d54-d50b-4c72-e6f1-68f29239807f"
      },
      "execution_count": 2,
      "outputs": [
        {
          "output_type": "stream",
          "name": "stdout",
          "text": [
            "Downloading data from https://storage.googleapis.com/tensorflow/tf-keras-datasets/train-labels-idx1-ubyte.gz\n",
            "29515/29515 [==============================] - 0s 0us/step\n",
            "Downloading data from https://storage.googleapis.com/tensorflow/tf-keras-datasets/train-images-idx3-ubyte.gz\n",
            "26421880/26421880 [==============================] - 2s 0us/step\n",
            "Downloading data from https://storage.googleapis.com/tensorflow/tf-keras-datasets/t10k-labels-idx1-ubyte.gz\n",
            "5148/5148 [==============================] - 0s 0us/step\n",
            "Downloading data from https://storage.googleapis.com/tensorflow/tf-keras-datasets/t10k-images-idx3-ubyte.gz\n",
            "4422102/4422102 [==============================] - 0s 0us/step\n"
          ]
        }
      ]
    },
    {
      "cell_type": "code",
      "source": [
        "class_name = ['T-shirt', 'Trouser', 'Pullover', 'Dress', 'Coat', 'Sandal', 'Shirt','Sneaker', 'Bag', 'Ankle boot']"
      ],
      "metadata": {
        "id": "pJXUafi-MbeB"
      },
      "execution_count": 3,
      "outputs": []
    },
    {
      "cell_type": "code",
      "source": [
        "# 시각화 \n",
        "\n",
        "samples = np.random.randint(60000, size=9)\n",
        "samples"
      ],
      "metadata": {
        "colab": {
          "base_uri": "https://localhost:8080/"
        },
        "id": "ze0UKG_iOVtb",
        "outputId": "dea33e2c-17bb-4a8b-d479-8936f03d4291"
      },
      "execution_count": 4,
      "outputs": [
        {
          "output_type": "execute_result",
          "data": {
            "text/plain": [
              "array([33336, 38877, 57348, 16556, 53238, 17929, 16247, 51127, 38148])"
            ]
          },
          "metadata": {},
          "execution_count": 4
        }
      ]
    },
    {
      "cell_type": "code",
      "source": [
        "plt.figure(figsize=(8,6))\n",
        "for i, idx in enumerate(samples):\n",
        "  plt.subplot(3, 3, i+1)\n",
        "  plt.imshow(X_train[idx], cmap=\"gray\")\n",
        "  plt.xticks([])\n",
        "  plt.yticks([])\n",
        "  plt.title(class_name[y_train[idx]])\n",
        "\n",
        "plt.show()"
      ],
      "metadata": {
        "colab": {
          "base_uri": "https://localhost:8080/",
          "height": 377
        },
        "id": "C2vtJVZVOskL",
        "outputId": "c2bed144-954e-4d9d-af98-c3d1fc054ebe"
      },
      "execution_count": 5,
      "outputs": [
        {
          "output_type": "display_data",
          "data": {
            "text/plain": [
              "<Figure size 576x432 with 9 Axes>"
            ],
            "image/png": "[encoded data removed]"
          },
          "metadata": {}
        }
      ]
    },
    {
      "cell_type": "markdown",
      "source": [
        "## 검증용 데이터 (Validation Data)"
      ],
      "metadata": {
        "id": "u_RzArvxRCUH"
      }
    },
    {
      "cell_type": "code",
      "source": [
        "from sklearn.model_selection import train_test_split\n",
        "\n",
        "X_train, X_val, y_train, y_val = train_test_split(X_train, y_train, test_size=0.3)"
      ],
      "metadata": {
        "id": "ENtN26_TRHNb"
      },
      "execution_count": 6,
      "outputs": []
    },
    {
      "cell_type": "code",
      "source": [
        "print(X_train.shape, X_val.shape)\n",
        "print(y_train.shape, y_val.shape)\n",
        "#데이터가 충분히 많을 때는 검증용 데이터도 나눠서 사용하는 게 좋음 "
      ],
      "metadata": {
        "colab": {
          "base_uri": "https://localhost:8080/"
        },
        "id": "kO3fkcqxP7J5",
        "outputId": "7933ae0c-c580-4a05-f41a-9176304fa308"
      },
      "execution_count": 7,
      "outputs": [
        {
          "output_type": "stream",
          "name": "stdout",
          "text": [
            "(42000, 28, 28) (18000, 28, 28)\n",
            "(42000,) (18000,)\n"
          ]
        }
      ]
    },
    {
      "cell_type": "markdown",
      "source": [
        "##정규화\n",
        "- min-Max 정규화"
      ],
      "metadata": {
        "id": "04acoho4R4ep"
      }
    },
    {
      "cell_type": "code",
      "source": [
        "X_train = X_train/255\n",
        "#255로 안나눠도 됨\n",
        "X_val = X_val/255\n",
        "X_test = X_test/255"
      ],
      "metadata": {
        "id": "120-b6kKRhYc"
      },
      "execution_count": 8,
      "outputs": []
    },
    {
      "cell_type": "code",
      "source": [
        "X_train = X_train.reshape(-1, 28*28)\n",
        "X_val = X_val.reshape(-1, 28*28)\n",
        "X_test = X_test.reshape(-1, 28*28)\n",
        "\n",
        "X_train.shape"
      ],
      "metadata": {
        "colab": {
          "base_uri": "https://localhost:8080/"
        },
        "id": "aDyiztQZYO2e",
        "outputId": "20989f93-fb9c-466c-e0c1-0ea20386eb8d"
      },
      "execution_count": 9,
      "outputs": [
        {
          "output_type": "execute_result",
          "data": {
            "text/plain": [
              "(42000, 784)"
            ]
          },
          "metadata": {},
          "execution_count": 9
        }
      ]
    },
    {
      "cell_type": "code",
      "source": [
        "# Y 값 one-hot 인코딩 (다중 분류)\n",
        "from keras.utils import to_categorical\n",
        "\n",
        "y_train_oh = to_categorical(y_train)\n",
        "y_val_oh = to_categorical(y_val)\n",
        "y_test_oh = to_categorical(y_test)"
      ],
      "metadata": {
        "id": "43ABZ9H6QThF"
      },
      "execution_count": 10,
      "outputs": []
    },
    {
      "cell_type": "markdown",
      "source": [
        "## 모델 생성"
      ],
      "metadata": {
        "id": "FP4GolqdQ5OB"
      }
    },
    {
      "cell_type": "code",
      "source": [
        "#X를 1차원으로 변경해야 모델에 넣을 수 있음\n",
        "X_train = X_train.reshape(-1, 28 * 28)\n",
        "X_val = X_val.reshape(-1, 28*28)\n",
        "X_test = X_test.reshape(-1, 28*28)\n",
        "\n",
        "X_train.shape"
      ],
      "metadata": {
        "colab": {
          "base_uri": "https://localhost:8080/"
        },
        "id": "_puxkL-BQ3Kx",
        "outputId": "1d762223-5f1a-4fdd-a74a-0c4bf2e4de29"
      },
      "execution_count": 11,
      "outputs": [
        {
          "output_type": "execute_result",
          "data": {
            "text/plain": [
              "(42000, 784)"
            ]
          },
          "metadata": {},
          "execution_count": 11
        }
      ]
    },
    {
      "cell_type": "code",
      "source": [
        "# add convolution layer\n",
        "# CNN에 넣기 위해서 X의 형태 변경하기\n",
        "X_train = X_train.reshape(-1, 28, 28, 1)\n",
        "X_val = X_val.reshape(-1, 28, 28, 1)\n",
        "X_test = X_test.reshape(-1, 28, 28, 1)"
      ],
      "metadata": {
        "id": "fJp0TrIDYajt"
      },
      "execution_count": 12,
      "outputs": []
    },
    {
      "cell_type": "code",
      "source": [
        "#Sequential 생ㄷ성할 때, 레이어를 동시에 지정\n",
        "def build_model_1():\n",
        "  model = keras.Sequential([\n",
        "      layers.Conv2D(filters=32, kernel_size=3, activation='relu', input_shape = (28,28,1)),\n",
        "      layers.MaxPool2D(pool_size=(2,2)),\n",
        "      layers.Conv2D(filters=32, kernel_size=3, activation='relu'),\n",
        "      layers.MaxPool2D(pool_size=(2, 2)),\n",
        "\n",
        "      #Dense를 넣기 전에 flatten 해주기\n",
        "      layers.Flatten(),\n",
        "\n",
        "      layers.Dense(units=32, activation='relu'),\n",
        "\n",
        "      #이진 분류 모델: sigmoid 출력층 - 0 or 1\n",
        "      # 다중 분류: softmax\n",
        "      layers.Dense(units = 10, activation='softmax'),\n",
        "  ])\n",
        "\n",
        "      \n",
        "  model.compile(\n",
        "      optimizer = 'adam',\n",
        "      loss = 'categorical_crossentropy',\n",
        "      metrics=[\"acc\"]\n",
        "  )\n",
        "  \n",
        "  return model\n",
        "\n",
        "model = build_model_1()\n",
        "\n",
        "model.summary()"
      ],
      "metadata": {
        "id": "CavXshVqXjyY",
        "colab": {
          "base_uri": "https://localhost:8080/"
        },
        "outputId": "83aeb750-1ad6-48cd-b660-1611314666b6"
      },
      "execution_count": 14,
      "outputs": [
        {
          "output_type": "stream",
          "name": "stdout",
          "text": [
            "Model: \"sequential_1\"\n",
            "_________________________________________________________________\n",
            " Layer (type)                Output Shape              Param #   \n",
            "=================================================================\n",
            " conv2d_2 (Conv2D)           (None, 26, 26, 32)        320       \n",
            "                                                                 \n",
            " max_pooling2d_2 (MaxPooling  (None, 13, 13, 32)       0         \n",
            " 2D)                                                             \n",
            "                                                                 \n",
            " conv2d_3 (Conv2D)           (None, 11, 11, 32)        9248      \n",
            "                                                                 \n",
            " max_pooling2d_3 (MaxPooling  (None, 5, 5, 32)         0         \n",
            " 2D)                                                             \n",
            "                                                                 \n",
            " flatten_1 (Flatten)         (None, 800)               0         \n",
            "                                                                 \n",
            " dense_2 (Dense)             (None, 32)                25632     \n",
            "                                                                 \n",
            " dense_3 (Dense)             (None, 10)                330       \n",
            "                                                                 \n",
            "=================================================================\n",
            "Total params: 35,530\n",
            "Trainable params: 35,530\n",
            "Non-trainable params: 0\n",
            "_________________________________________________________________\n"
          ]
        }
      ]
    },
    {
      "cell_type": "markdown",
      "source": [
        "## 학습"
      ],
      "metadata": {
        "id": "0iKU8YqySVDA"
      }
    },
    {
      "cell_type": "code",
      "source": [
        "epochs = 30\n",
        "batch_size = 32\n",
        "\n",
        "history = model.fit(X_train, y_train_oh, epochs=epochs,\n",
        "                    batch_size = batch_size, validation_data=(X_val, y_val_oh), verbose=1)"
      ],
      "metadata": {
        "id": "NbmbSOU7dBKG",
        "colab": {
          "base_uri": "https://localhost:8080/"
        },
        "outputId": "ba66e9eb-1ed8-4206-9946-f4ca2570a1b3"
      },
      "execution_count": 15,
      "outputs": [
        {
          "output_type": "stream",
          "name": "stdout",
          "text": [
            "Epoch 1/30\n",
            "1313/1313 [==============================] - 16s 5ms/step - loss: 0.5848 - acc: 0.7883 - val_loss: 0.4040 - val_acc: 0.8543\n",
            "Epoch 2/30\n",
            "1313/1313 [==============================] - 8s 6ms/step - loss: 0.3875 - acc: 0.8629 - val_loss: 0.3573 - val_acc: 0.8696\n",
            "Epoch 3/30\n",
            "1313/1313 [==============================] - 7s 5ms/step - loss: 0.3412 - acc: 0.8780 - val_loss: 0.3170 - val_acc: 0.8853\n",
            "Epoch 4/30\n",
            "1313/1313 [==============================] - 10s 8ms/step - loss: 0.3113 - acc: 0.8874 - val_loss: 0.2895 - val_acc: 0.8961\n",
            "Epoch 5/30\n",
            "1313/1313 [==============================] - 6s 4ms/step - loss: 0.2892 - acc: 0.8950 - val_loss: 0.2795 - val_acc: 0.9001\n",
            "Epoch 6/30\n",
            "1313/1313 [==============================] - 7s 5ms/step - loss: 0.2681 - acc: 0.9016 - val_loss: 0.2842 - val_acc: 0.8969\n",
            "Epoch 7/30\n",
            "1313/1313 [==============================] - 7s 5ms/step - loss: 0.2524 - acc: 0.9071 - val_loss: 0.2647 - val_acc: 0.9034\n",
            "Epoch 8/30\n",
            "1313/1313 [==============================] - 9s 7ms/step - loss: 0.2381 - acc: 0.9128 - val_loss: 0.2725 - val_acc: 0.9003\n",
            "Epoch 9/30\n",
            "1313/1313 [==============================] - 10s 8ms/step - loss: 0.2246 - acc: 0.9180 - val_loss: 0.2685 - val_acc: 0.9036\n",
            "Epoch 10/30\n",
            "1313/1313 [==============================] - 7s 5ms/step - loss: 0.2129 - acc: 0.9222 - val_loss: 0.2764 - val_acc: 0.8977\n",
            "Epoch 11/30\n",
            "1313/1313 [==============================] - 7s 5ms/step - loss: 0.2010 - acc: 0.9263 - val_loss: 0.2698 - val_acc: 0.9038\n",
            "Epoch 12/30\n",
            "1313/1313 [==============================] - 6s 5ms/step - loss: 0.1919 - acc: 0.9286 - val_loss: 0.2698 - val_acc: 0.9048\n",
            "Epoch 13/30\n",
            "1313/1313 [==============================] - 7s 5ms/step - loss: 0.1836 - acc: 0.9322 - val_loss: 0.2625 - val_acc: 0.9086\n",
            "Epoch 14/30\n",
            "1313/1313 [==============================] - 7s 5ms/step - loss: 0.1749 - acc: 0.9351 - val_loss: 0.2743 - val_acc: 0.9046\n",
            "Epoch 15/30\n",
            "1313/1313 [==============================] - 7s 5ms/step - loss: 0.1662 - acc: 0.9388 - val_loss: 0.2714 - val_acc: 0.9080\n",
            "Epoch 16/30\n",
            "1313/1313 [==============================] - 7s 5ms/step - loss: 0.1601 - acc: 0.9407 - val_loss: 0.3074 - val_acc: 0.8981\n",
            "Epoch 17/30\n",
            "1313/1313 [==============================] - 8s 6ms/step - loss: 0.1535 - acc: 0.9435 - val_loss: 0.2665 - val_acc: 0.9113\n",
            "Epoch 18/30\n",
            "1313/1313 [==============================] - 7s 6ms/step - loss: 0.1458 - acc: 0.9459 - val_loss: 0.3034 - val_acc: 0.9073\n",
            "Epoch 19/30\n",
            "1313/1313 [==============================] - 8s 6ms/step - loss: 0.1423 - acc: 0.9472 - val_loss: 0.3141 - val_acc: 0.9009\n",
            "Epoch 20/30\n",
            "1313/1313 [==============================] - 6s 5ms/step - loss: 0.1327 - acc: 0.9514 - val_loss: 0.2844 - val_acc: 0.9092\n",
            "Epoch 21/30\n",
            "1313/1313 [==============================] - 8s 6ms/step - loss: 0.1279 - acc: 0.9520 - val_loss: 0.2992 - val_acc: 0.9095\n",
            "Epoch 22/30\n",
            "1313/1313 [==============================] - 6s 5ms/step - loss: 0.1232 - acc: 0.9547 - val_loss: 0.3022 - val_acc: 0.9062\n",
            "Epoch 23/30\n",
            "1313/1313 [==============================] - 7s 5ms/step - loss: 0.1193 - acc: 0.9569 - val_loss: 0.3072 - val_acc: 0.9099\n",
            "Epoch 24/30\n",
            "1313/1313 [==============================] - 8s 6ms/step - loss: 0.1118 - acc: 0.9586 - val_loss: 0.3372 - val_acc: 0.9006\n",
            "Epoch 25/30\n",
            "1313/1313 [==============================] - 8s 6ms/step - loss: 0.1077 - acc: 0.9596 - val_loss: 0.3351 - val_acc: 0.9067\n",
            "Epoch 26/30\n",
            "1313/1313 [==============================] - 8s 6ms/step - loss: 0.1030 - acc: 0.9618 - val_loss: 0.3445 - val_acc: 0.9045\n",
            "Epoch 27/30\n",
            "1313/1313 [==============================] - 7s 6ms/step - loss: 0.0993 - acc: 0.9628 - val_loss: 0.3557 - val_acc: 0.9049\n",
            "Epoch 28/30\n",
            "1313/1313 [==============================] - 7s 5ms/step - loss: 0.0937 - acc: 0.9653 - val_loss: 0.3568 - val_acc: 0.9098\n",
            "Epoch 29/30\n",
            "1313/1313 [==============================] - 8s 6ms/step - loss: 0.0920 - acc: 0.9656 - val_loss: 0.3804 - val_acc: 0.9046\n",
            "Epoch 30/30\n",
            "1313/1313 [==============================] - 6s 5ms/step - loss: 0.0893 - acc: 0.9676 - val_loss: 0.3668 - val_acc: 0.9067\n"
          ]
        }
      ]
    },
    {
      "cell_type": "markdown",
      "source": [
        "## 평가"
      ],
      "metadata": {
        "id": "Tsq3R53rUCxK"
      }
    },
    {
      "cell_type": "code",
      "source": [
        "model.evaluate(X_train, y_train_oh)"
      ],
      "metadata": {
        "id": "9T6kB40jdAsN",
        "colab": {
          "base_uri": "https://localhost:8080/"
        },
        "outputId": "d2eb963c-2936-4aeb-858a-e41fbcd56204"
      },
      "execution_count": 16,
      "outputs": [
        {
          "output_type": "stream",
          "name": "stdout",
          "text": [
            "1313/1313 [==============================] - 4s 3ms/step - loss: 0.0771 - acc: 0.9714\n"
          ]
        },
        {
          "output_type": "execute_result",
          "data": {
            "text/plain": [
              "[0.07711785286664963, 0.9713809490203857]"
            ]
          },
          "metadata": {},
          "execution_count": 16
        }
      ]
    },
    {
      "cell_type": "code",
      "source": [
        "model.evaluate(X_test, y_test_oh)"
      ],
      "metadata": {
        "colab": {
          "base_uri": "https://localhost:8080/"
        },
        "id": "S3FwaHc6UMHU",
        "outputId": "98e55aad-92c0-464d-b740-4ce8f043cf7b"
      },
      "execution_count": 17,
      "outputs": [
        {
          "output_type": "stream",
          "name": "stdout",
          "text": [
            "313/313 [==============================] - 1s 5ms/step - loss: 0.4335 - acc: 0.8951\n"
          ]
        },
        {
          "output_type": "execute_result",
          "data": {
            "text/plain": [
              "[0.4335086941719055, 0.8950999975204468]"
            ]
          },
          "metadata": {},
          "execution_count": 17
        }
      ]
    },
    {
      "cell_type": "markdown",
      "source": [
        "## 예측"
      ],
      "metadata": {
        "id": "msliH9aSeP1S"
      }
    },
    {
      "cell_type": "code",
      "source": [
        "y_pred = model.predict(X_test)\n",
        "\n",
        "y_pred"
      ],
      "metadata": {
        "id": "ZaTr7y4LZxlW",
        "colab": {
          "base_uri": "https://localhost:8080/"
        },
        "outputId": "9c69dc2e-a016-4a2c-a59e-2f29852cf42a"
      },
      "execution_count": 18,
      "outputs": [
        {
          "output_type": "stream",
          "name": "stdout",
          "text": [
            "313/313 [==============================] - 1s 2ms/step\n"
          ]
        },
        {
          "output_type": "execute_result",
          "data": {
            "text/plain": [
              "array([[8.42291352e-13, 2.61101532e-16, 1.43355532e-14, ...,\n",
              "        1.34327207e-08, 1.29035732e-11, 1.00000000e+00],\n",
              "       [2.99005769e-05, 4.85914613e-14, 9.99552071e-01, ...,\n",
              "        1.43371645e-22, 6.91701610e-16, 1.07294284e-17],\n",
              "       [1.06669874e-13, 1.00000000e+00, 4.42525817e-13, ...,\n",
              "        8.25720369e-26, 1.72335484e-16, 6.54189538e-23],\n",
              "       ...,\n",
              "       [1.32567582e-13, 1.08029090e-19, 3.58456108e-19, ...,\n",
              "        2.00154377e-14, 1.00000000e+00, 3.80430103e-22],\n",
              "       [7.92280824e-12, 1.00000000e+00, 9.00466157e-15, ...,\n",
              "        5.74654004e-19, 8.71552049e-12, 2.11348679e-18],\n",
              "       [3.90004623e-03, 1.56123978e-14, 7.78715548e-05, ...,\n",
              "        3.86217684e-01, 1.43949862e-03, 6.04195287e-04]], dtype=float32)"
            ]
          },
          "metadata": {},
          "execution_count": 18
        }
      ]
    },
    {
      "cell_type": "code",
      "source": [
        "#One-hot 전으로 되돌리기 (정답값의 형태로)\n",
        "y_pred = np.argmax(y_pred, axis=1)\n",
        "\n",
        "y_pred"
      ],
      "metadata": {
        "colab": {
          "base_uri": "https://localhost:8080/"
        },
        "id": "9IMay6pdUgEq",
        "outputId": "528be159-89a3-4894-b109-b24f944d509c"
      },
      "execution_count": 19,
      "outputs": [
        {
          "output_type": "execute_result",
          "data": {
            "text/plain": [
              "array([9, 2, 1, ..., 8, 1, 5])"
            ]
          },
          "metadata": {},
          "execution_count": 19
        }
      ]
    },
    {
      "cell_type": "code",
      "source": [
        "# confusion matrix\n",
        "from sklearn.metrics import confusion_matrix\n",
        "\n",
        "def plot_confusion_matrix(y_true, y_pred):\n",
        "  cfm = confusion_matrix(y_true, y_pred)\n",
        "\n",
        "  plt.figure(figsize=(5,5))\n",
        "  sns.heatmap(cfm, annot=True, cbar=False, fmt=\"d\")\n",
        "  plt.xlabel(\"Predicted Class\")\n",
        "  plt.ylabel(\"True Class\")\n",
        "  plt.show()"
      ],
      "metadata": {
        "id": "DK8FzhRbUiTm"
      },
      "execution_count": 20,
      "outputs": []
    },
    {
      "cell_type": "code",
      "source": [
        "plot_confusion_matrix(y_test, y_pred)"
      ],
      "metadata": {
        "colab": {
          "base_uri": "https://localhost:8080/",
          "height": 334
        },
        "id": "Qa00U2PyU55J",
        "outputId": "fde890a2-de2b-4870-d10c-eaf3a07bffc2"
      },
      "execution_count": 21,
      "outputs": [
        {
          "output_type": "display_data",
          "data": {
            "text/plain": [
              "<Figure size 360x360 with 1 Axes>"
            ],
            "image/png": "[encoded data removed]"
          },
          "metadata": {
            "needs_background": "light"
          }
        }
      ]
    },
    {
      "cell_type": "markdown",
      "source": [
        "\n",
        "## 오답 이미지 출력"
      ],
      "metadata": {
        "id": "p-p8d_oPVpft"
      }
    },
    {
      "cell_type": "code",
      "source": [
        "#오답 이미지 출력\n",
        "samples = np.where((y_test == y_pred) == False)[0]\n",
        "samples"
      ],
      "metadata": {
        "colab": {
          "base_uri": "https://localhost:8080/"
        },
        "id": "V2nrjyXPVfEF",
        "outputId": "e3755394-d70a-45b0-a731-dcf9c3b88b19"
      },
      "execution_count": 22,
      "outputs": [
        {
          "output_type": "execute_result",
          "data": {
            "text/plain": [
              "array([   7,   12,   17, ..., 9972, 9985, 9991])"
            ]
          },
          "metadata": {},
          "execution_count": 22
        }
      ]
    },
    {
      "cell_type": "code",
      "source": [
        "samples = np.random.choice(samples, 9)\n",
        "samples"
      ],
      "metadata": {
        "colab": {
          "base_uri": "https://localhost:8080/"
        },
        "id": "yUQeMEuRVvrc",
        "outputId": "ffb20606-fd4f-43de-9311-8f1572a38bf0"
      },
      "execution_count": 23,
      "outputs": [
        {
          "output_type": "execute_result",
          "data": {
            "text/plain": [
              "array([ 444, 9537, 8764, 9475, 1739, 7393, 4850,  905, 9662])"
            ]
          },
          "metadata": {},
          "execution_count": 23
        }
      ]
    },
    {
      "cell_type": "code",
      "source": [
        "#시각화\n",
        "\n",
        "plt.figure(figsize=(8,6))\n",
        "\n",
        "for i, idx in enumerate(samples):\n",
        "  plt.subplot(3, 3, i+1)\n",
        "  plt.imshow(X_train[idx].reshape(28,28), cmap='gray')\n",
        "  plt.xticks([])\n",
        "  plt.yticks([])\n",
        "\n",
        "  plt.title(class_name[y_test[idx]])\n",
        "\n",
        "plt.show()"
      ],
      "metadata": {
        "id": "DIoPJX41fsdY",
        "colab": {
          "base_uri": "https://localhost:8080/",
          "height": 377
        },
        "outputId": "0192ba05-32ce-4843-bc0d-083b8043003c"
      },
      "execution_count": 24,
      "outputs": [
        {
          "output_type": "display_data",
          "data": {
            "text/plain": [
              "<Figure size 576x432 with 9 Axes>"
            ],
            "image/png": "[encoded data removed]"
          },
          "metadata": {}
        }
      ]
    },
    {
      "cell_type": "code",
      "source": [
        "#Sequential 생성 후 추가 - 조건에 따라 레이어 넣거나 하기에 좋음\n",
        "def build_model_2():\n",
        "  model = keras.Sequential()\n",
        "\n",
        "  model.add(layers.Conv2D(filters=32, kernel_size=3, activation='relu', input_shape = (28,28,1)))\n",
        "  model.add(layers.MaxPool2D(pool_size=(2,2)))\n",
        "  model.add(layers.Conv2D(filters=32, kernel_size=3, activation='relu'))\n",
        "  model.add(layers.MaxPool2D(pool_size=(2, 2)))\n",
        "  model.add(layers.Flatten())\n",
        "  # model.add(layers.Flatten()\n",
        "  model.add(layers.Dense(units = 10, activation='softmax'))\n",
        "      \n",
        "  model.compile(\n",
        "      optimizer = 'adam',\n",
        "      loss = 'categorical_crossentropy',\n",
        "      metrics=[\"acc\"]\n",
        "  )\n",
        "  \n",
        "  return model\n",
        "\n",
        "model2 = build_model_2()\n",
        "\n",
        "model2.summary()\n",
        "tf.keras.utils.plot_model(model2)\n"
      ],
      "metadata": {
        "id": "ncohHDD5Wsww",
        "colab": {
          "base_uri": "https://localhost:8080/",
          "height": 1000
        },
        "outputId": "b4973bca-93f8-4cb0-f862-993cff72f806"
      },
      "execution_count": 34,
      "outputs": [
        {
          "output_type": "stream",
          "name": "stdout",
          "text": [
            "Model: \"sequential_2\"\n",
            "_________________________________________________________________\n",
            " Layer (type)                Output Shape              Param #   \n",
            "=================================================================\n",
            " conv2d_6 (Conv2D)           (None, 26, 26, 32)        320       \n",
            "                                                                 \n",
            " max_pooling2d_6 (MaxPooling  (None, 13, 13, 32)       0         \n",
            " 2D)                                                             \n",
            "                                                                 \n",
            " conv2d_7 (Conv2D)           (None, 11, 11, 32)        9248      \n",
            "                                                                 \n",
            " max_pooling2d_7 (MaxPooling  (None, 5, 5, 32)         0         \n",
            " 2D)                                                             \n",
            "                                                                 \n",
            " flatten_3 (Flatten)         (None, 800)               0         \n",
            "                                                                 \n",
            " dense_16 (Dense)            (None, 10)                8010      \n",
            "                                                                 \n",
            "=================================================================\n",
            "Total params: 17,578\n",
            "Trainable params: 17,578\n",
            "Non-trainable params: 0\n",
            "_________________________________________________________________\n"
          ]
        },
        {
          "output_type": "execute_result",
          "data": {
            "image/png": "[encoded data removed]",
            "text/plain": [
              "<IPython.core.display.Image object>"
            ]
          },
          "metadata": {},
          "execution_count": 34
        }
      ]
    },
    {
      "cell_type": "markdown",
      "source": [
        "## 2. 함수형 API 사용\n",
        "- Sequential로 만들 수 없는 모델을 만들 경우 사용"
      ],
      "metadata": {
        "id": "QwMC8d-sFaBu"
      }
    },
    {
      "cell_type": "code",
      "source": [
        "from tensorflow.keras.models import Model\n",
        "#기존에 만들었던 레이어가 다음 레이어의 인풋으로 들어감 (함수 형태로)\n",
        "\n",
        "def build_model_3():\n",
        "  inputs = layers.Input(shape=(28,28,1))\n",
        "  x = layers.Conv2D(filters=32, kernel_size=3, activation='relu')(inputs)\n",
        "  x = layers.MaxPool2D(pool_size=(2,2))(x)\n",
        "  x = layers.Conv2D(filters=32, kernel_size=3, activation='relu')(x)\n",
        "  x = layers.MaxPool2D(pool_size=(2, 2))(x)\n",
        "  x = layers.Flatten()(x)\n",
        "  x =layers.Dense(units=32, activation='relu')(x)\n",
        "  outputs = layers.Dense(units = 10, activation='softmax')(x)\n",
        "\n",
        "  model = Model(inputs =inputs, outputs = outputs)\n",
        "\n",
        "  model.compile(\n",
        "    optimizer = 'adam',\n",
        "    loss = 'categorical_crossentropy',\n",
        "    metrics=[\"acc\"]\n",
        "  )\n",
        "  \n",
        "  return model\n",
        "\n",
        "\n",
        "model = build_model_3()\n",
        "model.summary()"
      ],
      "metadata": {
        "colab": {
          "base_uri": "https://localhost:8080/"
        },
        "id": "_DRsEJMwFQ9o",
        "outputId": "badd921b-b7b3-49c6-98fa-b5a8fa75cce8"
      },
      "execution_count": 35,
      "outputs": [
        {
          "output_type": "stream",
          "name": "stdout",
          "text": [
            "Model: \"model_6\"\n",
            "_________________________________________________________________\n",
            " Layer (type)                Output Shape              Param #   \n",
            "=================================================================\n",
            " input_6 (InputLayer)        [(None, 28, 28, 1)]       0         \n",
            "                                                                 \n",
            " conv2d_8 (Conv2D)           (None, 26, 26, 32)        320       \n",
            "                                                                 \n",
            " max_pooling2d_8 (MaxPooling  (None, 13, 13, 32)       0         \n",
            " 2D)                                                             \n",
            "                                                                 \n",
            " conv2d_9 (Conv2D)           (None, 11, 11, 32)        9248      \n",
            "                                                                 \n",
            " max_pooling2d_9 (MaxPooling  (None, 5, 5, 32)         0         \n",
            " 2D)                                                             \n",
            "                                                                 \n",
            " flatten_4 (Flatten)         (None, 800)               0         \n",
            "                                                                 \n",
            " dense_17 (Dense)            (None, 32)                25632     \n",
            "                                                                 \n",
            " dense_18 (Dense)            (None, 10)                330       \n",
            "                                                                 \n",
            "=================================================================\n",
            "Total params: 35,530\n",
            "Trainable params: 35,530\n",
            "Non-trainable params: 0\n",
            "_________________________________________________________________\n"
          ]
        }
      ]
    },
    {
      "cell_type": "code",
      "source": [
        "tf.keras.utils.plot_model(model)"
      ],
      "metadata": {
        "colab": {
          "base_uri": "https://localhost:8080/",
          "height": 758
        },
        "id": "UmdWRbejJ668",
        "outputId": "ca70a210-c3a3-4f85-c7f6-a6939443ffdf"
      },
      "execution_count": 36,
      "outputs": [
        {
          "output_type": "execute_result",
          "data": {
            "image/png": "[encoded data removed]",
            "text/plain": [
              "<IPython.core.display.Image object>"
            ]
          },
          "metadata": {},
          "execution_count": 36
        }
      ]
    },
    {
      "cell_type": "code",
      "source": [
        "# 입력이 두 개\n",
        "\n",
        "inputX = layers.Input(shape = (16,))\n",
        "x1= layers.Dense(8, activation='relu')(inputX)\n",
        "x2 = layers.Dense(16, activation='relu')(x1)\n",
        "x3 = Model(inputs = inputX,outputs=x2)\n",
        "#레이어가 하나로 합쳐진(뭉쳐진) 후 굴러감\n",
        "\n",
        "inputY = layers.Input(shape = (16,))\n",
        "x4= layers.Dense(8, activation='relu')(inputY)\n",
        "x5 = layers.Dense(16, activation='relu')(x4)\n",
        "x6 = Model(inputs = inputY, outputs=x5)\n",
        "\n",
        "combined = layers.concatenate([x3.output, x6.output])\n",
        "z1 = layers.Dense(2, activation='relu')(combined)\n",
        "z2 = layers.Dense(1)(z1)\n",
        "\n",
        "\n",
        "#위에서 만든 걸 하나로 결합\n",
        "model = Model(inputs=[x3.input, x6.input], outputs=z2)\n"
      ],
      "metadata": {
        "id": "Gu04H9lvGBx2"
      },
      "execution_count": 31,
      "outputs": []
    },
    {
      "cell_type": "code",
      "source": [
        "tf.keras.utils.plot_model(model)"
      ],
      "metadata": {
        "colab": {
          "base_uri": "https://localhost:8080/",
          "height": 564
        },
        "id": "xnUqKYXsI9Yj",
        "outputId": "3f7b70d8-05ce-4fc7-8547-9ea555545063"
      },
      "execution_count": 32,
      "outputs": [
        {
          "output_type": "execute_result",
          "data": {
            "image/png": "[encoded data removed]",
            "text/plain": [
              "<IPython.core.display.Image object>"
            ]
          },
          "metadata": {},
          "execution_count": 32
        }
      ]
    },
    {
      "cell_type": "markdown",
      "source": [
        "입력이 두개인 경우에는 함수형으로 사용해야 함"
      ],
      "metadata": {
        "id": "ueYwuP4MJwOU"
      }
    },
    {
      "cell_type": "markdown",
      "source": [
        "## 3. 서브클래싱 (Subclassing)\n",
        "- 모델을 클래스로 만드는 것"
      ],
      "metadata": {
        "id": "o_EUOdH_J-Le"
      }
    },
    {
      "cell_type": "code",
      "source": [
        "# 클래스 형\n",
        "class MnistModel(Model):\n",
        "  def __init__(self): #레이어 정의\n",
        "    super(MnistModel, self).__init__()\n",
        "    self.conv1 = layers.Conv2D(32, 3, activation='relu')\n",
        "    self.conv2 = layers.Conv2D(64, 3, activation='relu')\n",
        "    self.maxpool = layers.MAxPooling2D(2)\n",
        "    self.flat = layers.Flatten()\n",
        "    self.dense1 = layers.Dense(32, activation = 'relu')\n",
        "    self.dense2 = layers.Dense(10, activation = 'softmax')\n",
        "\n",
        "  def call(self, inputs): # 들어온 입력을 토대로 생성\n",
        "    x = self.conv1(inputs)\n",
        "    x = self.conv2(x)\n",
        "    x = self.maxpool(x)\n",
        "    x = self.flat(x)\n",
        "    x = self.dense1(x)\n",
        "    output = self.dense2(x)\n",
        "\n",
        "    return output\n"
      ],
      "metadata": {
        "id": "DALSq1v0JiXF"
      },
      "execution_count": 37,
      "outputs": []
    },
    {
      "cell_type": "code",
      "source": [
        "model = MnistModel()"
      ],
      "metadata": {
        "id": "MaS8YixALfK5"
      },
      "execution_count": null,
      "outputs": []
    }
  ]
}