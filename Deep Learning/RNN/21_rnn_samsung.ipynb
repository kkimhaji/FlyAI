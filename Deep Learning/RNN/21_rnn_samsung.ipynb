{
  "nbformat": 4,
  "nbformat_minor": 0,
  "metadata": {
    "colab": {
      "provenance": [],
      "authorship_tag": "ABX9TyPnkkc6TSkPEmIwWElKtNkZ",
      "include_colab_link": true
    },
    "kernelspec": {
      "name": "python3",
      "display_name": "Python 3"
    },
    "language_info": {
      "name": "python"
    },
    "gpuClass": "standard"
  },
  "cells": [
    {
      "cell_type": "markdown",
      "metadata": {
        "id": "view-in-github",
        "colab_type": "text"
      },
      "source": [
        "<a href=\"https://colab.research.google.com/github/kkimhaji/FlyAI/blob/main/Deep%20Learning/RNN/21_rnn_samsung.ipynb\" target=\"_parent\"><img src=\"https://colab.research.google.com/assets/colab-badge.svg\" alt=\"Open In Colab\"/></a>"
      ]
    },
    {
      "cell_type": "markdown",
      "source": [],
      "metadata": {
        "id": "0cJfP3OJURQ3"
      }
    },
    {
      "cell_type": "code",
      "execution_count": 61,
      "metadata": {
        "id": "JzielpXgEk9T"
      },
      "outputs": [],
      "source": [
        "import numpy as np\n",
        "import pandas as pd\n",
        "import matplotlib.pyplot as plt\n",
        "import tensorflow as tf\n",
        "from tensorflow import keras\n",
        "from tensorflow.keras import layers"
      ]
    },
    {
      "cell_type": "markdown",
      "source": [
        "## 데이터"
      ],
      "metadata": {
        "id": "-XbSju23UkNA"
      }
    },
    {
      "cell_type": "code",
      "source": [
        "samsung = pd.read_csv('samsung.csv')\n",
        "samsung.shape"
      ],
      "metadata": {
        "colab": {
          "base_uri": "https://localhost:8080/"
        },
        "id": "bq-9I-WYUfly",
        "outputId": "c4198432-5d1c-40ea-adc9-caf887697309"
      },
      "execution_count": 62,
      "outputs": [
        {
          "output_type": "execute_result",
          "data": {
            "text/plain": [
              "(5779, 7)"
            ]
          },
          "metadata": {},
          "execution_count": 62
        }
      ]
    },
    {
      "cell_type": "code",
      "source": [
        "samsung.head()"
      ],
      "metadata": {
        "colab": {
          "base_uri": "https://localhost:8080/",
          "height": 206
        },
        "id": "muUOw6JxVOx-",
        "outputId": "2ef6c07d-41bf-4099-aef3-ecf8f9ccd7d1"
      },
      "execution_count": 63,
      "outputs": [
        {
          "output_type": "execute_result",
          "data": {
            "text/plain": [
              "         Date    Open    High     Low   Close    Adj Close    Volume\n",
              "0  2000-01-04  6000.0  6110.0  5660.0  6110.0  4591.915039  74195000\n",
              "1  2000-01-05  5800.0  6060.0  5520.0  5580.0  4193.599609  74680000\n",
              "2  2000-01-06  5750.0  5780.0  5580.0  5620.0  4223.661621  54390000\n",
              "3  2000-01-07  5560.0  5670.0  5360.0  5540.0  4163.537109  40305000\n",
              "4  2000-01-10  5600.0  5770.0  5580.0  5770.0  4336.390625  46880000"
            ],
            "text/html": [
              "\n",
              "  <div id=\"df-6c8c966f-a8de-4b00-b0c4-f0d65ed1a881\">\n",
              "    <div class=\"colab-df-container\">\n",
              "      <div>\n",
              "<style scoped>\n",
              "    .dataframe tbody tr th:only-of-type {\n",
              "        vertical-align: middle;\n",
              "    }\n",
              "\n",
              "    .dataframe tbody tr th {\n",
              "        vertical-align: top;\n",
              "    }\n",
              "\n",
              "    .dataframe thead th {\n",
              "        text-align: right;\n",
              "    }\n",
              "</style>\n",
              "<table border=\"1\" class=\"dataframe\">\n",
              "  <thead>\n",
              "    <tr style=\"text-align: right;\">\n",
              "      <th></th>\n",
              "      <th>Date</th>\n",
              "      <th>Open</th>\n",
              "      <th>High</th>\n",
              "      <th>Low</th>\n",
              "      <th>Close</th>\n",
              "      <th>Adj Close</th>\n",
              "      <th>Volume</th>\n",
              "    </tr>\n",
              "  </thead>\n",
              "  <tbody>\n",
              "    <tr>\n",
              "      <th>0</th>\n",
              "      <td>2000-01-04</td>\n",
              "      <td>6000.0</td>\n",
              "      <td>6110.0</td>\n",
              "      <td>5660.0</td>\n",
              "      <td>6110.0</td>\n",
              "      <td>4591.915039</td>\n",
              "      <td>74195000</td>\n",
              "    </tr>\n",
              "    <tr>\n",
              "      <th>1</th>\n",
              "      <td>2000-01-05</td>\n",
              "      <td>5800.0</td>\n",
              "      <td>6060.0</td>\n",
              "      <td>5520.0</td>\n",
              "      <td>5580.0</td>\n",
              "      <td>4193.599609</td>\n",
              "      <td>74680000</td>\n",
              "    </tr>\n",
              "    <tr>\n",
              "      <th>2</th>\n",
              "      <td>2000-01-06</td>\n",
              "      <td>5750.0</td>\n",
              "      <td>5780.0</td>\n",
              "      <td>5580.0</td>\n",
              "      <td>5620.0</td>\n",
              "      <td>4223.661621</td>\n",
              "      <td>54390000</td>\n",
              "    </tr>\n",
              "    <tr>\n",
              "      <th>3</th>\n",
              "      <td>2000-01-07</td>\n",
              "      <td>5560.0</td>\n",
              "      <td>5670.0</td>\n",
              "      <td>5360.0</td>\n",
              "      <td>5540.0</td>\n",
              "      <td>4163.537109</td>\n",
              "      <td>40305000</td>\n",
              "    </tr>\n",
              "    <tr>\n",
              "      <th>4</th>\n",
              "      <td>2000-01-10</td>\n",
              "      <td>5600.0</td>\n",
              "      <td>5770.0</td>\n",
              "      <td>5580.0</td>\n",
              "      <td>5770.0</td>\n",
              "      <td>4336.390625</td>\n",
              "      <td>46880000</td>\n",
              "    </tr>\n",
              "  </tbody>\n",
              "</table>\n",
              "</div>\n",
              "      <button class=\"colab-df-convert\" onclick=\"convertToInteractive('df-6c8c966f-a8de-4b00-b0c4-f0d65ed1a881')\"\n",
              "              title=\"Convert this dataframe to an interactive table.\"\n",
              "              style=\"display:none;\">\n",
              "        \n",
              "  <svg xmlns=\"http://www.w3.org/2000/svg\" height=\"24px\"viewBox=\"0 0 24 24\"\n",
              "       width=\"24px\">\n",
              "    <path d=\"M0 0h24v24H0V0z\" fill=\"none\"/>\n",
              "    <path d=\"M18.56 5.44l.94 2.06.94-2.06 2.06-.94-2.06-.94-.94-2.06-.94 2.06-2.06.94zm-11 1L8.5 8.5l.94-2.06 2.06-.94-2.06-.94L8.5 2.5l-.94 2.06-2.06.94zm10 10l.94 2.06.94-2.06 2.06-.94-2.06-.94-.94-2.06-.94 2.06-2.06.94z\"/><path d=\"M17.41 7.96l-1.37-1.37c-.4-.4-.92-.59-1.43-.59-.52 0-1.04.2-1.43.59L10.3 9.45l-7.72 7.72c-.78.78-.78 2.05 0 2.83L4 21.41c.39.39.9.59 1.41.59.51 0 1.02-.2 1.41-.59l7.78-7.78 2.81-2.81c.8-.78.8-2.07 0-2.86zM5.41 20L4 18.59l7.72-7.72 1.47 1.35L5.41 20z\"/>\n",
              "  </svg>\n",
              "      </button>\n",
              "      \n",
              "  <style>\n",
              "    .colab-df-container {\n",
              "      display:flex;\n",
              "      flex-wrap:wrap;\n",
              "      gap: 12px;\n",
              "    }\n",
              "\n",
              "    .colab-df-convert {\n",
              "      background-color: #E8F0FE;\n",
              "      border: none;\n",
              "      border-radius: 50%;\n",
              "      cursor: pointer;\n",
              "      display: none;\n",
              "      fill: #1967D2;\n",
              "      height: 32px;\n",
              "      padding: 0 0 0 0;\n",
              "      width: 32px;\n",
              "    }\n",
              "\n",
              "    .colab-df-convert:hover {\n",
              "      background-color: #E2EBFA;\n",
              "      box-shadow: 0px 1px 2px rgba(60, 64, 67, 0.3), 0px 1px 3px 1px rgba(60, 64, 67, 0.15);\n",
              "      fill: #174EA6;\n",
              "    }\n",
              "\n",
              "    [theme=dark] .colab-df-convert {\n",
              "      background-color: #3B4455;\n",
              "      fill: #D2E3FC;\n",
              "    }\n",
              "\n",
              "    [theme=dark] .colab-df-convert:hover {\n",
              "      background-color: #434B5C;\n",
              "      box-shadow: 0px 1px 3px 1px rgba(0, 0, 0, 0.15);\n",
              "      filter: drop-shadow(0px 1px 2px rgba(0, 0, 0, 0.3));\n",
              "      fill: #FFFFFF;\n",
              "    }\n",
              "  </style>\n",
              "\n",
              "      <script>\n",
              "        const buttonEl =\n",
              "          document.querySelector('#df-6c8c966f-a8de-4b00-b0c4-f0d65ed1a881 button.colab-df-convert');\n",
              "        buttonEl.style.display =\n",
              "          google.colab.kernel.accessAllowed ? 'block' : 'none';\n",
              "\n",
              "        async function convertToInteractive(key) {\n",
              "          const element = document.querySelector('#df-6c8c966f-a8de-4b00-b0c4-f0d65ed1a881');\n",
              "          const dataTable =\n",
              "            await google.colab.kernel.invokeFunction('convertToInteractive',\n",
              "                                                     [key], {});\n",
              "          if (!dataTable) return;\n",
              "\n",
              "          const docLinkHtml = 'Like what you see? Visit the ' +\n",
              "            '<a target=\"_blank\" href=https://colab.research.google.com/notebooks/data_table.ipynb>data table notebook</a>'\n",
              "            + ' to learn more about interactive tables.';\n",
              "          element.innerHTML = '';\n",
              "          dataTable['output_type'] = 'display_data';\n",
              "          await google.colab.output.renderOutput(dataTable, element);\n",
              "          const docLink = document.createElement('div');\n",
              "          docLink.innerHTML = docLinkHtml;\n",
              "          element.appendChild(docLink);\n",
              "        }\n",
              "      </script>\n",
              "    </div>\n",
              "  </div>\n",
              "  "
            ]
          },
          "metadata": {},
          "execution_count": 63
        }
      ]
    },
    {
      "cell_type": "code",
      "source": [
        "# 보통 시계열 데이터를 다룰 때: 날짜가 index로 잡히는 게 좋다\n",
        "df = samsung.copy()\n",
        "df.head()"
      ],
      "metadata": {
        "colab": {
          "base_uri": "https://localhost:8080/",
          "height": 206
        },
        "id": "Ob6Rtd73Vb-v",
        "outputId": "97a93cf8-85fa-4246-b243-e1e4b9658732"
      },
      "execution_count": 64,
      "outputs": [
        {
          "output_type": "execute_result",
          "data": {
            "text/plain": [
              "         Date    Open    High     Low   Close    Adj Close    Volume\n",
              "0  2000-01-04  6000.0  6110.0  5660.0  6110.0  4591.915039  74195000\n",
              "1  2000-01-05  5800.0  6060.0  5520.0  5580.0  4193.599609  74680000\n",
              "2  2000-01-06  5750.0  5780.0  5580.0  5620.0  4223.661621  54390000\n",
              "3  2000-01-07  5560.0  5670.0  5360.0  5540.0  4163.537109  40305000\n",
              "4  2000-01-10  5600.0  5770.0  5580.0  5770.0  4336.390625  46880000"
            ],
            "text/html": [
              "\n",
              "  <div id=\"df-a1df34dc-cfa6-42d3-a35b-456c89c03057\">\n",
              "    <div class=\"colab-df-container\">\n",
              "      <div>\n",
              "<style scoped>\n",
              "    .dataframe tbody tr th:only-of-type {\n",
              "        vertical-align: middle;\n",
              "    }\n",
              "\n",
              "    .dataframe tbody tr th {\n",
              "        vertical-align: top;\n",
              "    }\n",
              "\n",
              "    .dataframe thead th {\n",
              "        text-align: right;\n",
              "    }\n",
              "</style>\n",
              "<table border=\"1\" class=\"dataframe\">\n",
              "  <thead>\n",
              "    <tr style=\"text-align: right;\">\n",
              "      <th></th>\n",
              "      <th>Date</th>\n",
              "      <th>Open</th>\n",
              "      <th>High</th>\n",
              "      <th>Low</th>\n",
              "      <th>Close</th>\n",
              "      <th>Adj Close</th>\n",
              "      <th>Volume</th>\n",
              "    </tr>\n",
              "  </thead>\n",
              "  <tbody>\n",
              "    <tr>\n",
              "      <th>0</th>\n",
              "      <td>2000-01-04</td>\n",
              "      <td>6000.0</td>\n",
              "      <td>6110.0</td>\n",
              "      <td>5660.0</td>\n",
              "      <td>6110.0</td>\n",
              "      <td>4591.915039</td>\n",
              "      <td>74195000</td>\n",
              "    </tr>\n",
              "    <tr>\n",
              "      <th>1</th>\n",
              "      <td>2000-01-05</td>\n",
              "      <td>5800.0</td>\n",
              "      <td>6060.0</td>\n",
              "      <td>5520.0</td>\n",
              "      <td>5580.0</td>\n",
              "      <td>4193.599609</td>\n",
              "      <td>74680000</td>\n",
              "    </tr>\n",
              "    <tr>\n",
              "      <th>2</th>\n",
              "      <td>2000-01-06</td>\n",
              "      <td>5750.0</td>\n",
              "      <td>5780.0</td>\n",
              "      <td>5580.0</td>\n",
              "      <td>5620.0</td>\n",
              "      <td>4223.661621</td>\n",
              "      <td>54390000</td>\n",
              "    </tr>\n",
              "    <tr>\n",
              "      <th>3</th>\n",
              "      <td>2000-01-07</td>\n",
              "      <td>5560.0</td>\n",
              "      <td>5670.0</td>\n",
              "      <td>5360.0</td>\n",
              "      <td>5540.0</td>\n",
              "      <td>4163.537109</td>\n",
              "      <td>40305000</td>\n",
              "    </tr>\n",
              "    <tr>\n",
              "      <th>4</th>\n",
              "      <td>2000-01-10</td>\n",
              "      <td>5600.0</td>\n",
              "      <td>5770.0</td>\n",
              "      <td>5580.0</td>\n",
              "      <td>5770.0</td>\n",
              "      <td>4336.390625</td>\n",
              "      <td>46880000</td>\n",
              "    </tr>\n",
              "  </tbody>\n",
              "</table>\n",
              "</div>\n",
              "      <button class=\"colab-df-convert\" onclick=\"convertToInteractive('df-a1df34dc-cfa6-42d3-a35b-456c89c03057')\"\n",
              "              title=\"Convert this dataframe to an interactive table.\"\n",
              "              style=\"display:none;\">\n",
              "        \n",
              "  <svg xmlns=\"http://www.w3.org/2000/svg\" height=\"24px\"viewBox=\"0 0 24 24\"\n",
              "       width=\"24px\">\n",
              "    <path d=\"M0 0h24v24H0V0z\" fill=\"none\"/>\n",
              "    <path d=\"M18.56 5.44l.94 2.06.94-2.06 2.06-.94-2.06-.94-.94-2.06-.94 2.06-2.06.94zm-11 1L8.5 8.5l.94-2.06 2.06-.94-2.06-.94L8.5 2.5l-.94 2.06-2.06.94zm10 10l.94 2.06.94-2.06 2.06-.94-2.06-.94-.94-2.06-.94 2.06-2.06.94z\"/><path d=\"M17.41 7.96l-1.37-1.37c-.4-.4-.92-.59-1.43-.59-.52 0-1.04.2-1.43.59L10.3 9.45l-7.72 7.72c-.78.78-.78 2.05 0 2.83L4 21.41c.39.39.9.59 1.41.59.51 0 1.02-.2 1.41-.59l7.78-7.78 2.81-2.81c.8-.78.8-2.07 0-2.86zM5.41 20L4 18.59l7.72-7.72 1.47 1.35L5.41 20z\"/>\n",
              "  </svg>\n",
              "      </button>\n",
              "      \n",
              "  <style>\n",
              "    .colab-df-container {\n",
              "      display:flex;\n",
              "      flex-wrap:wrap;\n",
              "      gap: 12px;\n",
              "    }\n",
              "\n",
              "    .colab-df-convert {\n",
              "      background-color: #E8F0FE;\n",
              "      border: none;\n",
              "      border-radius: 50%;\n",
              "      cursor: pointer;\n",
              "      display: none;\n",
              "      fill: #1967D2;\n",
              "      height: 32px;\n",
              "      padding: 0 0 0 0;\n",
              "      width: 32px;\n",
              "    }\n",
              "\n",
              "    .colab-df-convert:hover {\n",
              "      background-color: #E2EBFA;\n",
              "      box-shadow: 0px 1px 2px rgba(60, 64, 67, 0.3), 0px 1px 3px 1px rgba(60, 64, 67, 0.15);\n",
              "      fill: #174EA6;\n",
              "    }\n",
              "\n",
              "    [theme=dark] .colab-df-convert {\n",
              "      background-color: #3B4455;\n",
              "      fill: #D2E3FC;\n",
              "    }\n",
              "\n",
              "    [theme=dark] .colab-df-convert:hover {\n",
              "      background-color: #434B5C;\n",
              "      box-shadow: 0px 1px 3px 1px rgba(0, 0, 0, 0.15);\n",
              "      filter: drop-shadow(0px 1px 2px rgba(0, 0, 0, 0.3));\n",
              "      fill: #FFFFFF;\n",
              "    }\n",
              "  </style>\n",
              "\n",
              "      <script>\n",
              "        const buttonEl =\n",
              "          document.querySelector('#df-a1df34dc-cfa6-42d3-a35b-456c89c03057 button.colab-df-convert');\n",
              "        buttonEl.style.display =\n",
              "          google.colab.kernel.accessAllowed ? 'block' : 'none';\n",
              "\n",
              "        async function convertToInteractive(key) {\n",
              "          const element = document.querySelector('#df-a1df34dc-cfa6-42d3-a35b-456c89c03057');\n",
              "          const dataTable =\n",
              "            await google.colab.kernel.invokeFunction('convertToInteractive',\n",
              "                                                     [key], {});\n",
              "          if (!dataTable) return;\n",
              "\n",
              "          const docLinkHtml = 'Like what you see? Visit the ' +\n",
              "            '<a target=\"_blank\" href=https://colab.research.google.com/notebooks/data_table.ipynb>data table notebook</a>'\n",
              "            + ' to learn more about interactive tables.';\n",
              "          element.innerHTML = '';\n",
              "          dataTable['output_type'] = 'display_data';\n",
              "          await google.colab.output.renderOutput(dataTable, element);\n",
              "          const docLink = document.createElement('div');\n",
              "          docLink.innerHTML = docLinkHtml;\n",
              "          element.appendChild(docLink);\n",
              "        }\n",
              "      </script>\n",
              "    </div>\n",
              "  </div>\n",
              "  "
            ]
          },
          "metadata": {},
          "execution_count": 64
        }
      ]
    },
    {
      "cell_type": "code",
      "source": [
        "df.info()"
      ],
      "metadata": {
        "colab": {
          "base_uri": "https://localhost:8080/"
        },
        "id": "TDvGFnAyVzwL",
        "outputId": "c4602ee5-d28b-4515-a058-a2bb004cf2fc"
      },
      "execution_count": 65,
      "outputs": [
        {
          "output_type": "stream",
          "name": "stdout",
          "text": [
            "<class 'pandas.core.frame.DataFrame'>\n",
            "RangeIndex: 5779 entries, 0 to 5778\n",
            "Data columns (total 7 columns):\n",
            " #   Column     Non-Null Count  Dtype  \n",
            "---  ------     --------------  -----  \n",
            " 0   Date       5779 non-null   object \n",
            " 1   Open       5779 non-null   float64\n",
            " 2   High       5779 non-null   float64\n",
            " 3   Low        5779 non-null   float64\n",
            " 4   Close      5779 non-null   float64\n",
            " 5   Adj Close  5779 non-null   float64\n",
            " 6   Volume     5779 non-null   int64  \n",
            "dtypes: float64(5), int64(1), object(1)\n",
            "memory usage: 316.2+ KB\n"
          ]
        }
      ]
    },
    {
      "cell_type": "code",
      "source": [
        "df['Date'] = pd.to_datetime(df['Date'])\n",
        "# string -> 시간 자료형\n",
        "df.info()"
      ],
      "metadata": {
        "colab": {
          "base_uri": "https://localhost:8080/"
        },
        "id": "vIUu0-XgV0w7",
        "outputId": "4d87dab4-0739-41bf-ab52-f1b4438696b0"
      },
      "execution_count": 66,
      "outputs": [
        {
          "output_type": "stream",
          "name": "stdout",
          "text": [
            "<class 'pandas.core.frame.DataFrame'>\n",
            "RangeIndex: 5779 entries, 0 to 5778\n",
            "Data columns (total 7 columns):\n",
            " #   Column     Non-Null Count  Dtype         \n",
            "---  ------     --------------  -----         \n",
            " 0   Date       5779 non-null   datetime64[ns]\n",
            " 1   Open       5779 non-null   float64       \n",
            " 2   High       5779 non-null   float64       \n",
            " 3   Low        5779 non-null   float64       \n",
            " 4   Close      5779 non-null   float64       \n",
            " 5   Adj Close  5779 non-null   float64       \n",
            " 6   Volume     5779 non-null   int64         \n",
            "dtypes: datetime64[ns](1), float64(5), int64(1)\n",
            "memory usage: 316.2 KB\n"
          ]
        }
      ]
    },
    {
      "cell_type": "code",
      "source": [
        "df = df.set_index('Date')\n",
        "df.head()"
      ],
      "metadata": {
        "colab": {
          "base_uri": "https://localhost:8080/",
          "height": 237
        },
        "id": "zJa0LcxbWIhc",
        "outputId": "6f9fdaf4-396e-4590-cfab-1330aea911aa"
      },
      "execution_count": 67,
      "outputs": [
        {
          "output_type": "execute_result",
          "data": {
            "text/plain": [
              "              Open    High     Low   Close    Adj Close    Volume\n",
              "Date                                                             \n",
              "2000-01-04  6000.0  6110.0  5660.0  6110.0  4591.915039  74195000\n",
              "2000-01-05  5800.0  6060.0  5520.0  5580.0  4193.599609  74680000\n",
              "2000-01-06  5750.0  5780.0  5580.0  5620.0  4223.661621  54390000\n",
              "2000-01-07  5560.0  5670.0  5360.0  5540.0  4163.537109  40305000\n",
              "2000-01-10  5600.0  5770.0  5580.0  5770.0  4336.390625  46880000"
            ],
            "text/html": [
              "\n",
              "  <div id=\"df-42cdfa3f-b3f9-4498-8f89-75f7b2507f8b\">\n",
              "    <div class=\"colab-df-container\">\n",
              "      <div>\n",
              "<style scoped>\n",
              "    .dataframe tbody tr th:only-of-type {\n",
              "        vertical-align: middle;\n",
              "    }\n",
              "\n",
              "    .dataframe tbody tr th {\n",
              "        vertical-align: top;\n",
              "    }\n",
              "\n",
              "    .dataframe thead th {\n",
              "        text-align: right;\n",
              "    }\n",
              "</style>\n",
              "<table border=\"1\" class=\"dataframe\">\n",
              "  <thead>\n",
              "    <tr style=\"text-align: right;\">\n",
              "      <th></th>\n",
              "      <th>Open</th>\n",
              "      <th>High</th>\n",
              "      <th>Low</th>\n",
              "      <th>Close</th>\n",
              "      <th>Adj Close</th>\n",
              "      <th>Volume</th>\n",
              "    </tr>\n",
              "    <tr>\n",
              "      <th>Date</th>\n",
              "      <th></th>\n",
              "      <th></th>\n",
              "      <th></th>\n",
              "      <th></th>\n",
              "      <th></th>\n",
              "      <th></th>\n",
              "    </tr>\n",
              "  </thead>\n",
              "  <tbody>\n",
              "    <tr>\n",
              "      <th>2000-01-04</th>\n",
              "      <td>6000.0</td>\n",
              "      <td>6110.0</td>\n",
              "      <td>5660.0</td>\n",
              "      <td>6110.0</td>\n",
              "      <td>4591.915039</td>\n",
              "      <td>74195000</td>\n",
              "    </tr>\n",
              "    <tr>\n",
              "      <th>2000-01-05</th>\n",
              "      <td>5800.0</td>\n",
              "      <td>6060.0</td>\n",
              "      <td>5520.0</td>\n",
              "      <td>5580.0</td>\n",
              "      <td>4193.599609</td>\n",
              "      <td>74680000</td>\n",
              "    </tr>\n",
              "    <tr>\n",
              "      <th>2000-01-06</th>\n",
              "      <td>5750.0</td>\n",
              "      <td>5780.0</td>\n",
              "      <td>5580.0</td>\n",
              "      <td>5620.0</td>\n",
              "      <td>4223.661621</td>\n",
              "      <td>54390000</td>\n",
              "    </tr>\n",
              "    <tr>\n",
              "      <th>2000-01-07</th>\n",
              "      <td>5560.0</td>\n",
              "      <td>5670.0</td>\n",
              "      <td>5360.0</td>\n",
              "      <td>5540.0</td>\n",
              "      <td>4163.537109</td>\n",
              "      <td>40305000</td>\n",
              "    </tr>\n",
              "    <tr>\n",
              "      <th>2000-01-10</th>\n",
              "      <td>5600.0</td>\n",
              "      <td>5770.0</td>\n",
              "      <td>5580.0</td>\n",
              "      <td>5770.0</td>\n",
              "      <td>4336.390625</td>\n",
              "      <td>46880000</td>\n",
              "    </tr>\n",
              "  </tbody>\n",
              "</table>\n",
              "</div>\n",
              "      <button class=\"colab-df-convert\" onclick=\"convertToInteractive('df-42cdfa3f-b3f9-4498-8f89-75f7b2507f8b')\"\n",
              "              title=\"Convert this dataframe to an interactive table.\"\n",
              "              style=\"display:none;\">\n",
              "        \n",
              "  <svg xmlns=\"http://www.w3.org/2000/svg\" height=\"24px\"viewBox=\"0 0 24 24\"\n",
              "       width=\"24px\">\n",
              "    <path d=\"M0 0h24v24H0V0z\" fill=\"none\"/>\n",
              "    <path d=\"M18.56 5.44l.94 2.06.94-2.06 2.06-.94-2.06-.94-.94-2.06-.94 2.06-2.06.94zm-11 1L8.5 8.5l.94-2.06 2.06-.94-2.06-.94L8.5 2.5l-.94 2.06-2.06.94zm10 10l.94 2.06.94-2.06 2.06-.94-2.06-.94-.94-2.06-.94 2.06-2.06.94z\"/><path d=\"M17.41 7.96l-1.37-1.37c-.4-.4-.92-.59-1.43-.59-.52 0-1.04.2-1.43.59L10.3 9.45l-7.72 7.72c-.78.78-.78 2.05 0 2.83L4 21.41c.39.39.9.59 1.41.59.51 0 1.02-.2 1.41-.59l7.78-7.78 2.81-2.81c.8-.78.8-2.07 0-2.86zM5.41 20L4 18.59l7.72-7.72 1.47 1.35L5.41 20z\"/>\n",
              "  </svg>\n",
              "      </button>\n",
              "      \n",
              "  <style>\n",
              "    .colab-df-container {\n",
              "      display:flex;\n",
              "      flex-wrap:wrap;\n",
              "      gap: 12px;\n",
              "    }\n",
              "\n",
              "    .colab-df-convert {\n",
              "      background-color: #E8F0FE;\n",
              "      border: none;\n",
              "      border-radius: 50%;\n",
              "      cursor: pointer;\n",
              "      display: none;\n",
              "      fill: #1967D2;\n",
              "      height: 32px;\n",
              "      padding: 0 0 0 0;\n",
              "      width: 32px;\n",
              "    }\n",
              "\n",
              "    .colab-df-convert:hover {\n",
              "      background-color: #E2EBFA;\n",
              "      box-shadow: 0px 1px 2px rgba(60, 64, 67, 0.3), 0px 1px 3px 1px rgba(60, 64, 67, 0.15);\n",
              "      fill: #174EA6;\n",
              "    }\n",
              "\n",
              "    [theme=dark] .colab-df-convert {\n",
              "      background-color: #3B4455;\n",
              "      fill: #D2E3FC;\n",
              "    }\n",
              "\n",
              "    [theme=dark] .colab-df-convert:hover {\n",
              "      background-color: #434B5C;\n",
              "      box-shadow: 0px 1px 3px 1px rgba(0, 0, 0, 0.15);\n",
              "      filter: drop-shadow(0px 1px 2px rgba(0, 0, 0, 0.3));\n",
              "      fill: #FFFFFF;\n",
              "    }\n",
              "  </style>\n",
              "\n",
              "      <script>\n",
              "        const buttonEl =\n",
              "          document.querySelector('#df-42cdfa3f-b3f9-4498-8f89-75f7b2507f8b button.colab-df-convert');\n",
              "        buttonEl.style.display =\n",
              "          google.colab.kernel.accessAllowed ? 'block' : 'none';\n",
              "\n",
              "        async function convertToInteractive(key) {\n",
              "          const element = document.querySelector('#df-42cdfa3f-b3f9-4498-8f89-75f7b2507f8b');\n",
              "          const dataTable =\n",
              "            await google.colab.kernel.invokeFunction('convertToInteractive',\n",
              "                                                     [key], {});\n",
              "          if (!dataTable) return;\n",
              "\n",
              "          const docLinkHtml = 'Like what you see? Visit the ' +\n",
              "            '<a target=\"_blank\" href=https://colab.research.google.com/notebooks/data_table.ipynb>data table notebook</a>'\n",
              "            + ' to learn more about interactive tables.';\n",
              "          element.innerHTML = '';\n",
              "          dataTable['output_type'] = 'display_data';\n",
              "          await google.colab.output.renderOutput(dataTable, element);\n",
              "          const docLink = document.createElement('div');\n",
              "          docLink.innerHTML = docLinkHtml;\n",
              "          element.appendChild(docLink);\n",
              "        }\n",
              "      </script>\n",
              "    </div>\n",
              "  </div>\n",
              "  "
            ]
          },
          "metadata": {},
          "execution_count": 67
        }
      ]
    },
    {
      "cell_type": "code",
      "source": [
        "plt.figure(figsize=(10,5))\n",
        "plt.plot(df.index, df['Close']) #line plot\n",
        "plt.show()"
      ],
      "metadata": {
        "colab": {
          "base_uri": "https://localhost:8080/",
          "height": 320
        },
        "id": "fIn_PilCWTVi",
        "outputId": "f816ea7a-2c13-4a6d-9452-f8fcfdacc6a7"
      },
      "execution_count": 68,
      "outputs": [
        {
          "output_type": "display_data",
          "data": {
            "text/plain": [
              "<Figure size 720x360 with 1 Axes>"
            ],
            "image/png": "[encoded data removed]"
          },
          "metadata": {
            "needs_background": "light"
          }
        }
      ]
    },
    {
      "cell_type": "code",
      "source": [
        "# feature 추가\n",
        "#3일 평균\n",
        "df['MA3'] = np.around(df['Close'].rolling(window=3).mean(), 0) # 0: 소수점 날림\n",
        "df.head()"
      ],
      "metadata": {
        "colab": {
          "base_uri": "https://localhost:8080/",
          "height": 237
        },
        "id": "xfxIJSTKWrDM",
        "outputId": "3e6a44bd-cdb0-48a8-df99-9f0a9a814d30"
      },
      "execution_count": 69,
      "outputs": [
        {
          "output_type": "execute_result",
          "data": {
            "text/plain": [
              "              Open    High     Low   Close    Adj Close    Volume     MA3\n",
              "Date                                                                     \n",
              "2000-01-04  6000.0  6110.0  5660.0  6110.0  4591.915039  74195000     NaN\n",
              "2000-01-05  5800.0  6060.0  5520.0  5580.0  4193.599609  74680000     NaN\n",
              "2000-01-06  5750.0  5780.0  5580.0  5620.0  4223.661621  54390000  5770.0\n",
              "2000-01-07  5560.0  5670.0  5360.0  5540.0  4163.537109  40305000  5580.0\n",
              "2000-01-10  5600.0  5770.0  5580.0  5770.0  4336.390625  46880000  5643.0"
            ],
            "text/html": [
              "\n",
              "  <div id=\"df-09267521-85bf-47f4-a2d0-93c840728d25\">\n",
              "    <div class=\"colab-df-container\">\n",
              "      <div>\n",
              "<style scoped>\n",
              "    .dataframe tbody tr th:only-of-type {\n",
              "        vertical-align: middle;\n",
              "    }\n",
              "\n",
              "    .dataframe tbody tr th {\n",
              "        vertical-align: top;\n",
              "    }\n",
              "\n",
              "    .dataframe thead th {\n",
              "        text-align: right;\n",
              "    }\n",
              "</style>\n",
              "<table border=\"1\" class=\"dataframe\">\n",
              "  <thead>\n",
              "    <tr style=\"text-align: right;\">\n",
              "      <th></th>\n",
              "      <th>Open</th>\n",
              "      <th>High</th>\n",
              "      <th>Low</th>\n",
              "      <th>Close</th>\n",
              "      <th>Adj Close</th>\n",
              "      <th>Volume</th>\n",
              "      <th>MA3</th>\n",
              "    </tr>\n",
              "    <tr>\n",
              "      <th>Date</th>\n",
              "      <th></th>\n",
              "      <th></th>\n",
              "      <th></th>\n",
              "      <th></th>\n",
              "      <th></th>\n",
              "      <th></th>\n",
              "      <th></th>\n",
              "    </tr>\n",
              "  </thead>\n",
              "  <tbody>\n",
              "    <tr>\n",
              "      <th>2000-01-04</th>\n",
              "      <td>6000.0</td>\n",
              "      <td>6110.0</td>\n",
              "      <td>5660.0</td>\n",
              "      <td>6110.0</td>\n",
              "      <td>4591.915039</td>\n",
              "      <td>74195000</td>\n",
              "      <td>NaN</td>\n",
              "    </tr>\n",
              "    <tr>\n",
              "      <th>2000-01-05</th>\n",
              "      <td>5800.0</td>\n",
              "      <td>6060.0</td>\n",
              "      <td>5520.0</td>\n",
              "      <td>5580.0</td>\n",
              "      <td>4193.599609</td>\n",
              "      <td>74680000</td>\n",
              "      <td>NaN</td>\n",
              "    </tr>\n",
              "    <tr>\n",
              "      <th>2000-01-06</th>\n",
              "      <td>5750.0</td>\n",
              "      <td>5780.0</td>\n",
              "      <td>5580.0</td>\n",
              "      <td>5620.0</td>\n",
              "      <td>4223.661621</td>\n",
              "      <td>54390000</td>\n",
              "      <td>5770.0</td>\n",
              "    </tr>\n",
              "    <tr>\n",
              "      <th>2000-01-07</th>\n",
              "      <td>5560.0</td>\n",
              "      <td>5670.0</td>\n",
              "      <td>5360.0</td>\n",
              "      <td>5540.0</td>\n",
              "      <td>4163.537109</td>\n",
              "      <td>40305000</td>\n",
              "      <td>5580.0</td>\n",
              "    </tr>\n",
              "    <tr>\n",
              "      <th>2000-01-10</th>\n",
              "      <td>5600.0</td>\n",
              "      <td>5770.0</td>\n",
              "      <td>5580.0</td>\n",
              "      <td>5770.0</td>\n",
              "      <td>4336.390625</td>\n",
              "      <td>46880000</td>\n",
              "      <td>5643.0</td>\n",
              "    </tr>\n",
              "  </tbody>\n",
              "</table>\n",
              "</div>\n",
              "      <button class=\"colab-df-convert\" onclick=\"convertToInteractive('df-09267521-85bf-47f4-a2d0-93c840728d25')\"\n",
              "              title=\"Convert this dataframe to an interactive table.\"\n",
              "              style=\"display:none;\">\n",
              "        \n",
              "  <svg xmlns=\"http://www.w3.org/2000/svg\" height=\"24px\"viewBox=\"0 0 24 24\"\n",
              "       width=\"24px\">\n",
              "    <path d=\"M0 0h24v24H0V0z\" fill=\"none\"/>\n",
              "    <path d=\"M18.56 5.44l.94 2.06.94-2.06 2.06-.94-2.06-.94-.94-2.06-.94 2.06-2.06.94zm-11 1L8.5 8.5l.94-2.06 2.06-.94-2.06-.94L8.5 2.5l-.94 2.06-2.06.94zm10 10l.94 2.06.94-2.06 2.06-.94-2.06-.94-.94-2.06-.94 2.06-2.06.94z\"/><path d=\"M17.41 7.96l-1.37-1.37c-.4-.4-.92-.59-1.43-.59-.52 0-1.04.2-1.43.59L10.3 9.45l-7.72 7.72c-.78.78-.78 2.05 0 2.83L4 21.41c.39.39.9.59 1.41.59.51 0 1.02-.2 1.41-.59l7.78-7.78 2.81-2.81c.8-.78.8-2.07 0-2.86zM5.41 20L4 18.59l7.72-7.72 1.47 1.35L5.41 20z\"/>\n",
              "  </svg>\n",
              "      </button>\n",
              "      \n",
              "  <style>\n",
              "    .colab-df-container {\n",
              "      display:flex;\n",
              "      flex-wrap:wrap;\n",
              "      gap: 12px;\n",
              "    }\n",
              "\n",
              "    .colab-df-convert {\n",
              "      background-color: #E8F0FE;\n",
              "      border: none;\n",
              "      border-radius: 50%;\n",
              "      cursor: pointer;\n",
              "      display: none;\n",
              "      fill: #1967D2;\n",
              "      height: 32px;\n",
              "      padding: 0 0 0 0;\n",
              "      width: 32px;\n",
              "    }\n",
              "\n",
              "    .colab-df-convert:hover {\n",
              "      background-color: #E2EBFA;\n",
              "      box-shadow: 0px 1px 2px rgba(60, 64, 67, 0.3), 0px 1px 3px 1px rgba(60, 64, 67, 0.15);\n",
              "      fill: #174EA6;\n",
              "    }\n",
              "\n",
              "    [theme=dark] .colab-df-convert {\n",
              "      background-color: #3B4455;\n",
              "      fill: #D2E3FC;\n",
              "    }\n",
              "\n",
              "    [theme=dark] .colab-df-convert:hover {\n",
              "      background-color: #434B5C;\n",
              "      box-shadow: 0px 1px 3px 1px rgba(0, 0, 0, 0.15);\n",
              "      filter: drop-shadow(0px 1px 2px rgba(0, 0, 0, 0.3));\n",
              "      fill: #FFFFFF;\n",
              "    }\n",
              "  </style>\n",
              "\n",
              "      <script>\n",
              "        const buttonEl =\n",
              "          document.querySelector('#df-09267521-85bf-47f4-a2d0-93c840728d25 button.colab-df-convert');\n",
              "        buttonEl.style.display =\n",
              "          google.colab.kernel.accessAllowed ? 'block' : 'none';\n",
              "\n",
              "        async function convertToInteractive(key) {\n",
              "          const element = document.querySelector('#df-09267521-85bf-47f4-a2d0-93c840728d25');\n",
              "          const dataTable =\n",
              "            await google.colab.kernel.invokeFunction('convertToInteractive',\n",
              "                                                     [key], {});\n",
              "          if (!dataTable) return;\n",
              "\n",
              "          const docLinkHtml = 'Like what you see? Visit the ' +\n",
              "            '<a target=\"_blank\" href=https://colab.research.google.com/notebooks/data_table.ipynb>data table notebook</a>'\n",
              "            + ' to learn more about interactive tables.';\n",
              "          element.innerHTML = '';\n",
              "          dataTable['output_type'] = 'display_data';\n",
              "          await google.colab.output.renderOutput(dataTable, element);\n",
              "          const docLink = document.createElement('div');\n",
              "          docLink.innerHTML = docLinkHtml;\n",
              "          element.appendChild(docLink);\n",
              "        }\n",
              "      </script>\n",
              "    </div>\n",
              "  </div>\n",
              "  "
            ]
          },
          "metadata": {},
          "execution_count": 69
        }
      ]
    },
    {
      "cell_type": "code",
      "source": [
        "# 5일 평균\n",
        "df['MA5'] = np.around(df['Close'].rolling(window=5).mean(), 0)\n",
        "# 중간값\n",
        "df['Mid']= (df['High'] + df['Low'])/2\n",
        "\n",
        "df.head()"
      ],
      "metadata": {
        "colab": {
          "base_uri": "https://localhost:8080/",
          "height": 237
        },
        "id": "4KMhQhE3Xwv3",
        "outputId": "c99dca47-8d8e-4c0c-b803-acfddbed73ad"
      },
      "execution_count": 70,
      "outputs": [
        {
          "output_type": "execute_result",
          "data": {
            "text/plain": [
              "              Open    High     Low   Close    Adj Close    Volume     MA3  \\\n",
              "Date                                                                        \n",
              "2000-01-04  6000.0  6110.0  5660.0  6110.0  4591.915039  74195000     NaN   \n",
              "2000-01-05  5800.0  6060.0  5520.0  5580.0  4193.599609  74680000     NaN   \n",
              "2000-01-06  5750.0  5780.0  5580.0  5620.0  4223.661621  54390000  5770.0   \n",
              "2000-01-07  5560.0  5670.0  5360.0  5540.0  4163.537109  40305000  5580.0   \n",
              "2000-01-10  5600.0  5770.0  5580.0  5770.0  4336.390625  46880000  5643.0   \n",
              "\n",
              "               MA5     Mid  \n",
              "Date                        \n",
              "2000-01-04     NaN  5885.0  \n",
              "2000-01-05     NaN  5790.0  \n",
              "2000-01-06     NaN  5680.0  \n",
              "2000-01-07     NaN  5515.0  \n",
              "2000-01-10  5724.0  5675.0  "
            ],
            "text/html": [
              "\n",
              "  <div id=\"df-fd79e68a-7eca-4bf3-812c-67cbd32c5740\">\n",
              "    <div class=\"colab-df-container\">\n",
              "      <div>\n",
              "<style scoped>\n",
              "    .dataframe tbody tr th:only-of-type {\n",
              "        vertical-align: middle;\n",
              "    }\n",
              "\n",
              "    .dataframe tbody tr th {\n",
              "        vertical-align: top;\n",
              "    }\n",
              "\n",
              "    .dataframe thead th {\n",
              "        text-align: right;\n",
              "    }\n",
              "</style>\n",
              "<table border=\"1\" class=\"dataframe\">\n",
              "  <thead>\n",
              "    <tr style=\"text-align: right;\">\n",
              "      <th></th>\n",
              "      <th>Open</th>\n",
              "      <th>High</th>\n",
              "      <th>Low</th>\n",
              "      <th>Close</th>\n",
              "      <th>Adj Close</th>\n",
              "      <th>Volume</th>\n",
              "      <th>MA3</th>\n",
              "      <th>MA5</th>\n",
              "      <th>Mid</th>\n",
              "    </tr>\n",
              "    <tr>\n",
              "      <th>Date</th>\n",
              "      <th></th>\n",
              "      <th></th>\n",
              "      <th></th>\n",
              "      <th></th>\n",
              "      <th></th>\n",
              "      <th></th>\n",
              "      <th></th>\n",
              "      <th></th>\n",
              "      <th></th>\n",
              "    </tr>\n",
              "  </thead>\n",
              "  <tbody>\n",
              "    <tr>\n",
              "      <th>2000-01-04</th>\n",
              "      <td>6000.0</td>\n",
              "      <td>6110.0</td>\n",
              "      <td>5660.0</td>\n",
              "      <td>6110.0</td>\n",
              "      <td>4591.915039</td>\n",
              "      <td>74195000</td>\n",
              "      <td>NaN</td>\n",
              "      <td>NaN</td>\n",
              "      <td>5885.0</td>\n",
              "    </tr>\n",
              "    <tr>\n",
              "      <th>2000-01-05</th>\n",
              "      <td>5800.0</td>\n",
              "      <td>6060.0</td>\n",
              "      <td>5520.0</td>\n",
              "      <td>5580.0</td>\n",
              "      <td>4193.599609</td>\n",
              "      <td>74680000</td>\n",
              "      <td>NaN</td>\n",
              "      <td>NaN</td>\n",
              "      <td>5790.0</td>\n",
              "    </tr>\n",
              "    <tr>\n",
              "      <th>2000-01-06</th>\n",
              "      <td>5750.0</td>\n",
              "      <td>5780.0</td>\n",
              "      <td>5580.0</td>\n",
              "      <td>5620.0</td>\n",
              "      <td>4223.661621</td>\n",
              "      <td>54390000</td>\n",
              "      <td>5770.0</td>\n",
              "      <td>NaN</td>\n",
              "      <td>5680.0</td>\n",
              "    </tr>\n",
              "    <tr>\n",
              "      <th>2000-01-07</th>\n",
              "      <td>5560.0</td>\n",
              "      <td>5670.0</td>\n",
              "      <td>5360.0</td>\n",
              "      <td>5540.0</td>\n",
              "      <td>4163.537109</td>\n",
              "      <td>40305000</td>\n",
              "      <td>5580.0</td>\n",
              "      <td>NaN</td>\n",
              "      <td>5515.0</td>\n",
              "    </tr>\n",
              "    <tr>\n",
              "      <th>2000-01-10</th>\n",
              "      <td>5600.0</td>\n",
              "      <td>5770.0</td>\n",
              "      <td>5580.0</td>\n",
              "      <td>5770.0</td>\n",
              "      <td>4336.390625</td>\n",
              "      <td>46880000</td>\n",
              "      <td>5643.0</td>\n",
              "      <td>5724.0</td>\n",
              "      <td>5675.0</td>\n",
              "    </tr>\n",
              "  </tbody>\n",
              "</table>\n",
              "</div>\n",
              "      <button class=\"colab-df-convert\" onclick=\"convertToInteractive('df-fd79e68a-7eca-4bf3-812c-67cbd32c5740')\"\n",
              "              title=\"Convert this dataframe to an interactive table.\"\n",
              "              style=\"display:none;\">\n",
              "        \n",
              "  <svg xmlns=\"http://www.w3.org/2000/svg\" height=\"24px\"viewBox=\"0 0 24 24\"\n",
              "       width=\"24px\">\n",
              "    <path d=\"M0 0h24v24H0V0z\" fill=\"none\"/>\n",
              "    <path d=\"M18.56 5.44l.94 2.06.94-2.06 2.06-.94-2.06-.94-.94-2.06-.94 2.06-2.06.94zm-11 1L8.5 8.5l.94-2.06 2.06-.94-2.06-.94L8.5 2.5l-.94 2.06-2.06.94zm10 10l.94 2.06.94-2.06 2.06-.94-2.06-.94-.94-2.06-.94 2.06-2.06.94z\"/><path d=\"M17.41 7.96l-1.37-1.37c-.4-.4-.92-.59-1.43-.59-.52 0-1.04.2-1.43.59L10.3 9.45l-7.72 7.72c-.78.78-.78 2.05 0 2.83L4 21.41c.39.39.9.59 1.41.59.51 0 1.02-.2 1.41-.59l7.78-7.78 2.81-2.81c.8-.78.8-2.07 0-2.86zM5.41 20L4 18.59l7.72-7.72 1.47 1.35L5.41 20z\"/>\n",
              "  </svg>\n",
              "      </button>\n",
              "      \n",
              "  <style>\n",
              "    .colab-df-container {\n",
              "      display:flex;\n",
              "      flex-wrap:wrap;\n",
              "      gap: 12px;\n",
              "    }\n",
              "\n",
              "    .colab-df-convert {\n",
              "      background-color: #E8F0FE;\n",
              "      border: none;\n",
              "      border-radius: 50%;\n",
              "      cursor: pointer;\n",
              "      display: none;\n",
              "      fill: #1967D2;\n",
              "      height: 32px;\n",
              "      padding: 0 0 0 0;\n",
              "      width: 32px;\n",
              "    }\n",
              "\n",
              "    .colab-df-convert:hover {\n",
              "      background-color: #E2EBFA;\n",
              "      box-shadow: 0px 1px 2px rgba(60, 64, 67, 0.3), 0px 1px 3px 1px rgba(60, 64, 67, 0.15);\n",
              "      fill: #174EA6;\n",
              "    }\n",
              "\n",
              "    [theme=dark] .colab-df-convert {\n",
              "      background-color: #3B4455;\n",
              "      fill: #D2E3FC;\n",
              "    }\n",
              "\n",
              "    [theme=dark] .colab-df-convert:hover {\n",
              "      background-color: #434B5C;\n",
              "      box-shadow: 0px 1px 3px 1px rgba(0, 0, 0, 0.15);\n",
              "      filter: drop-shadow(0px 1px 2px rgba(0, 0, 0, 0.3));\n",
              "      fill: #FFFFFF;\n",
              "    }\n",
              "  </style>\n",
              "\n",
              "      <script>\n",
              "        const buttonEl =\n",
              "          document.querySelector('#df-fd79e68a-7eca-4bf3-812c-67cbd32c5740 button.colab-df-convert');\n",
              "        buttonEl.style.display =\n",
              "          google.colab.kernel.accessAllowed ? 'block' : 'none';\n",
              "\n",
              "        async function convertToInteractive(key) {\n",
              "          const element = document.querySelector('#df-fd79e68a-7eca-4bf3-812c-67cbd32c5740');\n",
              "          const dataTable =\n",
              "            await google.colab.kernel.invokeFunction('convertToInteractive',\n",
              "                                                     [key], {});\n",
              "          if (!dataTable) return;\n",
              "\n",
              "          const docLinkHtml = 'Like what you see? Visit the ' +\n",
              "            '<a target=\"_blank\" href=https://colab.research.google.com/notebooks/data_table.ipynb>data table notebook</a>'\n",
              "            + ' to learn more about interactive tables.';\n",
              "          element.innerHTML = '';\n",
              "          dataTable['output_type'] = 'display_data';\n",
              "          await google.colab.output.renderOutput(dataTable, element);\n",
              "          const docLink = document.createElement('div');\n",
              "          docLink.innerHTML = docLinkHtml;\n",
              "          element.appendChild(docLink);\n",
              "        }\n",
              "      </script>\n",
              "    </div>\n",
              "  </div>\n",
              "  "
            ]
          },
          "metadata": {},
          "execution_count": 70
        }
      ]
    },
    {
      "cell_type": "code",
      "source": [
        "plt.figure(figsize=(15,5))\n",
        "plt.plot(df.index, df['Close']) #line plot\n",
        "plt.plot(df.index, df['MA3'])\n",
        "plt.plot(df.index, df['MA5'])\n",
        "plt.plot(df.index, df['Mid'])\n",
        "plt.show()"
      ],
      "metadata": {
        "colab": {
          "base_uri": "https://localhost:8080/",
          "height": 320
        },
        "id": "vr02QyFwYJXG",
        "outputId": "02fb065a-e5f4-4386-ca40-a71befd4fe75"
      },
      "execution_count": 71,
      "outputs": [
        {
          "output_type": "display_data",
          "data": {
            "text/plain": [
              "<Figure size 1080x360 with 1 Axes>"
            ],
            "image/png": "[encoded data removed]"
          },
          "metadata": {
            "needs_background": "light"
          }
        }
      ]
    },
    {
      "cell_type": "code",
      "source": [
        "x = df.iloc[-100:, :]\n",
        "\n",
        "plt.figure(figsize=(15,5))\n",
        "plt.plot(x.index, x['Close']) #line plot\n",
        "plt.plot(x.index, x['MA3'])\n",
        "plt.plot(x.index, x['MA5'])\n",
        "plt.plot(x.index, x['Mid'])\n",
        "plt.show()"
      ],
      "metadata": {
        "colab": {
          "base_uri": "https://localhost:8080/",
          "height": 320
        },
        "id": "D3T3tTCIYckr",
        "outputId": "760f917f-695e-46e4-e158-8d58623d9778"
      },
      "execution_count": 73,
      "outputs": [
        {
          "output_type": "display_data",
          "data": {
            "text/plain": [
              "<Figure size 1080x360 with 1 Axes>"
            ],
            "image/png": "[encoded data removed]"
          },
          "metadata": {
            "needs_background": "light"
          }
        }
      ]
    },
    {
      "cell_type": "code",
      "source": [
        "# 결손치\n",
        "df.isna().sum(axis=0)"
      ],
      "metadata": {
        "colab": {
          "base_uri": "https://localhost:8080/"
        },
        "id": "QLVm3nKRYxGB",
        "outputId": "71a2075c-99ea-463c-ddb0-a6f42b8cf64b"
      },
      "execution_count": 74,
      "outputs": [
        {
          "output_type": "execute_result",
          "data": {
            "text/plain": [
              "Open         0\n",
              "High         0\n",
              "Low          0\n",
              "Close        0\n",
              "Adj Close    0\n",
              "Volume       0\n",
              "MA3          2\n",
              "MA5          4\n",
              "Mid          0\n",
              "dtype: int64"
            ]
          },
          "metadata": {},
          "execution_count": 74
        }
      ]
    },
    {
      "cell_type": "code",
      "source": [
        "df.loc[df['Volume'] ==0]"
      ],
      "metadata": {
        "colab": {
          "base_uri": "https://localhost:8080/",
          "height": 455
        },
        "id": "qLQmva4wZErb",
        "outputId": "c84244dc-f096-4281-a73a-34af16d003ed"
      },
      "execution_count": 75,
      "outputs": [
        {
          "output_type": "execute_result",
          "data": {
            "text/plain": [
              "               Open     High      Low    Close     Adj Close  Volume      MA3  \\\n",
              "Date                                                                            \n",
              "2000-02-04   5130.0   5130.0   5130.0   5130.0   3855.405518       0   5170.0   \n",
              "2000-03-01   5120.0   5120.0   5120.0   5120.0   3847.889893       0   5013.0   \n",
              "2000-04-05   6800.0   6800.0   6800.0   6800.0   5110.478516       0   6900.0   \n",
              "2000-04-13   6910.0   6910.0   6910.0   6910.0   5193.147461       0   6973.0   \n",
              "2000-05-01   6000.0   6000.0   6000.0   6000.0   4509.246582       0   5800.0   \n",
              "...             ...      ...      ...      ...           ...     ...      ...   \n",
              "2022-02-28  71900.0  71900.0  71900.0  71900.0  70610.367188       0  71767.0   \n",
              "2022-03-04  72900.0  72900.0  72900.0  72900.0  71592.429688       0  72500.0   \n",
              "2022-03-10  69500.0  69500.0  69500.0  69500.0  68253.414063       0  69700.0   \n",
              "2022-03-15  70200.0  70200.0  70200.0  70200.0  68940.859375       0  70133.0   \n",
              "2022-03-17  70400.0  70400.0  70400.0  70400.0  69137.273438       0  70333.0   \n",
              "\n",
              "                MA5      Mid  \n",
              "Date                          \n",
              "2000-02-04   5282.0   5130.0  \n",
              "2000-03-01   5046.0   5120.0  \n",
              "2000-04-05   6890.0   6800.0  \n",
              "2000-04-13   7084.0   6910.0  \n",
              "2000-05-01   5728.0   6000.0  \n",
              "...             ...      ...  \n",
              "2022-02-28  72780.0  71900.0  \n",
              "2022-03-04  72260.0  72900.0  \n",
              "2022-03-10  70980.0  69500.0  \n",
              "2022-03-15  69880.0  70200.0  \n",
              "2022-03-17  70240.0  70400.0  \n",
              "\n",
              "[127 rows x 9 columns]"
            ],
            "text/html": [
              "\n",
              "  <div id=\"df-f6cc31e9-af3c-4c76-bc67-717cfc8a839b\">\n",
              "    <div class=\"colab-df-container\">\n",
              "      <div>\n",
              "<style scoped>\n",
              "    .dataframe tbody tr th:only-of-type {\n",
              "        vertical-align: middle;\n",
              "    }\n",
              "\n",
              "    .dataframe tbody tr th {\n",
              "        vertical-align: top;\n",
              "    }\n",
              "\n",
              "    .dataframe thead th {\n",
              "        text-align: right;\n",
              "    }\n",
              "</style>\n",
              "<table border=\"1\" class=\"dataframe\">\n",
              "  <thead>\n",
              "    <tr style=\"text-align: right;\">\n",
              "      <th></th>\n",
              "      <th>Open</th>\n",
              "      <th>High</th>\n",
              "      <th>Low</th>\n",
              "      <th>Close</th>\n",
              "      <th>Adj Close</th>\n",
              "      <th>Volume</th>\n",
              "      <th>MA3</th>\n",
              "      <th>MA5</th>\n",
              "      <th>Mid</th>\n",
              "    </tr>\n",
              "    <tr>\n",
              "      <th>Date</th>\n",
              "      <th></th>\n",
              "      <th></th>\n",
              "      <th></th>\n",
              "      <th></th>\n",
              "      <th></th>\n",
              "      <th></th>\n",
              "      <th></th>\n",
              "      <th></th>\n",
              "      <th></th>\n",
              "    </tr>\n",
              "  </thead>\n",
              "  <tbody>\n",
              "    <tr>\n",
              "      <th>2000-02-04</th>\n",
              "      <td>5130.0</td>\n",
              "      <td>5130.0</td>\n",
              "      <td>5130.0</td>\n",
              "      <td>5130.0</td>\n",
              "      <td>3855.405518</td>\n",
              "      <td>0</td>\n",
              "      <td>5170.0</td>\n",
              "      <td>5282.0</td>\n",
              "      <td>5130.0</td>\n",
              "    </tr>\n",
              "    <tr>\n",
              "      <th>2000-03-01</th>\n",
              "      <td>5120.0</td>\n",
              "      <td>5120.0</td>\n",
              "      <td>5120.0</td>\n",
              "      <td>5120.0</td>\n",
              "      <td>3847.889893</td>\n",
              "      <td>0</td>\n",
              "      <td>5013.0</td>\n",
              "      <td>5046.0</td>\n",
              "      <td>5120.0</td>\n",
              "    </tr>\n",
              "    <tr>\n",
              "      <th>2000-04-05</th>\n",
              "      <td>6800.0</td>\n",
              "      <td>6800.0</td>\n",
              "      <td>6800.0</td>\n",
              "      <td>6800.0</td>\n",
              "      <td>5110.478516</td>\n",
              "      <td>0</td>\n",
              "      <td>6900.0</td>\n",
              "      <td>6890.0</td>\n",
              "      <td>6800.0</td>\n",
              "    </tr>\n",
              "    <tr>\n",
              "      <th>2000-04-13</th>\n",
              "      <td>6910.0</td>\n",
              "      <td>6910.0</td>\n",
              "      <td>6910.0</td>\n",
              "      <td>6910.0</td>\n",
              "      <td>5193.147461</td>\n",
              "      <td>0</td>\n",
              "      <td>6973.0</td>\n",
              "      <td>7084.0</td>\n",
              "      <td>6910.0</td>\n",
              "    </tr>\n",
              "    <tr>\n",
              "      <th>2000-05-01</th>\n",
              "      <td>6000.0</td>\n",
              "      <td>6000.0</td>\n",
              "      <td>6000.0</td>\n",
              "      <td>6000.0</td>\n",
              "      <td>4509.246582</td>\n",
              "      <td>0</td>\n",
              "      <td>5800.0</td>\n",
              "      <td>5728.0</td>\n",
              "      <td>6000.0</td>\n",
              "    </tr>\n",
              "    <tr>\n",
              "      <th>...</th>\n",
              "      <td>...</td>\n",
              "      <td>...</td>\n",
              "      <td>...</td>\n",
              "      <td>...</td>\n",
              "      <td>...</td>\n",
              "      <td>...</td>\n",
              "      <td>...</td>\n",
              "      <td>...</td>\n",
              "      <td>...</td>\n",
              "    </tr>\n",
              "    <tr>\n",
              "      <th>2022-02-28</th>\n",
              "      <td>71900.0</td>\n",
              "      <td>71900.0</td>\n",
              "      <td>71900.0</td>\n",
              "      <td>71900.0</td>\n",
              "      <td>70610.367188</td>\n",
              "      <td>0</td>\n",
              "      <td>71767.0</td>\n",
              "      <td>72780.0</td>\n",
              "      <td>71900.0</td>\n",
              "    </tr>\n",
              "    <tr>\n",
              "      <th>2022-03-04</th>\n",
              "      <td>72900.0</td>\n",
              "      <td>72900.0</td>\n",
              "      <td>72900.0</td>\n",
              "      <td>72900.0</td>\n",
              "      <td>71592.429688</td>\n",
              "      <td>0</td>\n",
              "      <td>72500.0</td>\n",
              "      <td>72260.0</td>\n",
              "      <td>72900.0</td>\n",
              "    </tr>\n",
              "    <tr>\n",
              "      <th>2022-03-10</th>\n",
              "      <td>69500.0</td>\n",
              "      <td>69500.0</td>\n",
              "      <td>69500.0</td>\n",
              "      <td>69500.0</td>\n",
              "      <td>68253.414063</td>\n",
              "      <td>0</td>\n",
              "      <td>69700.0</td>\n",
              "      <td>70980.0</td>\n",
              "      <td>69500.0</td>\n",
              "    </tr>\n",
              "    <tr>\n",
              "      <th>2022-03-15</th>\n",
              "      <td>70200.0</td>\n",
              "      <td>70200.0</td>\n",
              "      <td>70200.0</td>\n",
              "      <td>70200.0</td>\n",
              "      <td>68940.859375</td>\n",
              "      <td>0</td>\n",
              "      <td>70133.0</td>\n",
              "      <td>69880.0</td>\n",
              "      <td>70200.0</td>\n",
              "    </tr>\n",
              "    <tr>\n",
              "      <th>2022-03-17</th>\n",
              "      <td>70400.0</td>\n",
              "      <td>70400.0</td>\n",
              "      <td>70400.0</td>\n",
              "      <td>70400.0</td>\n",
              "      <td>69137.273438</td>\n",
              "      <td>0</td>\n",
              "      <td>70333.0</td>\n",
              "      <td>70240.0</td>\n",
              "      <td>70400.0</td>\n",
              "    </tr>\n",
              "  </tbody>\n",
              "</table>\n",
              "<p>127 rows × 9 columns</p>\n",
              "</div>\n",
              "      <button class=\"colab-df-convert\" onclick=\"convertToInteractive('df-f6cc31e9-af3c-4c76-bc67-717cfc8a839b')\"\n",
              "              title=\"Convert this dataframe to an interactive table.\"\n",
              "              style=\"display:none;\">\n",
              "        \n",
              "  <svg xmlns=\"http://www.w3.org/2000/svg\" height=\"24px\"viewBox=\"0 0 24 24\"\n",
              "       width=\"24px\">\n",
              "    <path d=\"M0 0h24v24H0V0z\" fill=\"none\"/>\n",
              "    <path d=\"M18.56 5.44l.94 2.06.94-2.06 2.06-.94-2.06-.94-.94-2.06-.94 2.06-2.06.94zm-11 1L8.5 8.5l.94-2.06 2.06-.94-2.06-.94L8.5 2.5l-.94 2.06-2.06.94zm10 10l.94 2.06.94-2.06 2.06-.94-2.06-.94-.94-2.06-.94 2.06-2.06.94z\"/><path d=\"M17.41 7.96l-1.37-1.37c-.4-.4-.92-.59-1.43-.59-.52 0-1.04.2-1.43.59L10.3 9.45l-7.72 7.72c-.78.78-.78 2.05 0 2.83L4 21.41c.39.39.9.59 1.41.59.51 0 1.02-.2 1.41-.59l7.78-7.78 2.81-2.81c.8-.78.8-2.07 0-2.86zM5.41 20L4 18.59l7.72-7.72 1.47 1.35L5.41 20z\"/>\n",
              "  </svg>\n",
              "      </button>\n",
              "      \n",
              "  <style>\n",
              "    .colab-df-container {\n",
              "      display:flex;\n",
              "      flex-wrap:wrap;\n",
              "      gap: 12px;\n",
              "    }\n",
              "\n",
              "    .colab-df-convert {\n",
              "      background-color: #E8F0FE;\n",
              "      border: none;\n",
              "      border-radius: 50%;\n",
              "      cursor: pointer;\n",
              "      display: none;\n",
              "      fill: #1967D2;\n",
              "      height: 32px;\n",
              "      padding: 0 0 0 0;\n",
              "      width: 32px;\n",
              "    }\n",
              "\n",
              "    .colab-df-convert:hover {\n",
              "      background-color: #E2EBFA;\n",
              "      box-shadow: 0px 1px 2px rgba(60, 64, 67, 0.3), 0px 1px 3px 1px rgba(60, 64, 67, 0.15);\n",
              "      fill: #174EA6;\n",
              "    }\n",
              "\n",
              "    [theme=dark] .colab-df-convert {\n",
              "      background-color: #3B4455;\n",
              "      fill: #D2E3FC;\n",
              "    }\n",
              "\n",
              "    [theme=dark] .colab-df-convert:hover {\n",
              "      background-color: #434B5C;\n",
              "      box-shadow: 0px 1px 3px 1px rgba(0, 0, 0, 0.15);\n",
              "      filter: drop-shadow(0px 1px 2px rgba(0, 0, 0, 0.3));\n",
              "      fill: #FFFFFF;\n",
              "    }\n",
              "  </style>\n",
              "\n",
              "      <script>\n",
              "        const buttonEl =\n",
              "          document.querySelector('#df-f6cc31e9-af3c-4c76-bc67-717cfc8a839b button.colab-df-convert');\n",
              "        buttonEl.style.display =\n",
              "          google.colab.kernel.accessAllowed ? 'block' : 'none';\n",
              "\n",
              "        async function convertToInteractive(key) {\n",
              "          const element = document.querySelector('#df-f6cc31e9-af3c-4c76-bc67-717cfc8a839b');\n",
              "          const dataTable =\n",
              "            await google.colab.kernel.invokeFunction('convertToInteractive',\n",
              "                                                     [key], {});\n",
              "          if (!dataTable) return;\n",
              "\n",
              "          const docLinkHtml = 'Like what you see? Visit the ' +\n",
              "            '<a target=\"_blank\" href=https://colab.research.google.com/notebooks/data_table.ipynb>data table notebook</a>'\n",
              "            + ' to learn more about interactive tables.';\n",
              "          element.innerHTML = '';\n",
              "          dataTable['output_type'] = 'display_data';\n",
              "          await google.colab.output.renderOutput(dataTable, element);\n",
              "          const docLink = document.createElement('div');\n",
              "          docLink.innerHTML = docLinkHtml;\n",
              "          element.appendChild(docLink);\n",
              "        }\n",
              "      </script>\n",
              "    </div>\n",
              "  </div>\n",
              "  "
            ]
          },
          "metadata": {},
          "execution_count": 75
        }
      ]
    },
    {
      "cell_type": "code",
      "source": [
        "df['Volume'] = df['Volume'].replace(0, np.nan)"
      ],
      "metadata": {
        "id": "iGGPmPjiZIfA"
      },
      "execution_count": 76,
      "outputs": []
    },
    {
      "cell_type": "code",
      "source": [
        "df.isna().sum(axis=0)"
      ],
      "metadata": {
        "colab": {
          "base_uri": "https://localhost:8080/"
        },
        "id": "rfTImGFIZcmG",
        "outputId": "441bfc3e-b3f8-445a-dd6d-ddf770002cfd"
      },
      "execution_count": 79,
      "outputs": [
        {
          "output_type": "execute_result",
          "data": {
            "text/plain": [
              "Open         0\n",
              "High         0\n",
              "Low          0\n",
              "Close        0\n",
              "Adj Close    0\n",
              "Volume       0\n",
              "MA3          0\n",
              "MA5          0\n",
              "Mid          0\n",
              "dtype: int64"
            ]
          },
          "metadata": {},
          "execution_count": 79
        }
      ]
    },
    {
      "cell_type": "code",
      "source": [
        "df = df.dropna()"
      ],
      "metadata": {
        "id": "KC2pcP5uZfs_"
      },
      "execution_count": 78,
      "outputs": []
    },
    {
      "cell_type": "code",
      "source": [
        "# 정규화 min-max (음수가 없어서)\n",
        "\n",
        "from sklearn.preprocessing import MinMaxScaler\n",
        "\n",
        "scaler = MinMaxScaler()\n",
        "df_scaled = scaler.fit_transform(df)\n",
        "\n",
        "df_scaled = pd.DataFrame(df_scaled, columns = df.columns)\n",
        "df_scaled.head()"
      ],
      "metadata": {
        "colab": {
          "base_uri": "https://localhost:8080/",
          "height": 206
        },
        "id": "Xo2T5dELZmgV",
        "outputId": "b528a650-f7a4-4ed1-dd65-f14ddfb80698"
      },
      "execution_count": 80,
      "outputs": [
        {
          "output_type": "execute_result",
          "data": {
            "text/plain": [
              "       Open      High       Low     Close  Adj Close    Volume       MA3  \\\n",
              "0  0.034868  0.032008  0.036288  0.034440   0.026655  0.285359  0.032553   \n",
              "1  0.037375  0.035517  0.038470  0.034440   0.026655  0.363715  0.033123   \n",
              "2  0.034982  0.031689  0.036518  0.033873   0.026217  0.177799  0.033808   \n",
              "3  0.034868  0.031689  0.036059  0.033760   0.026129  0.250704  0.033579   \n",
              "4  0.036235  0.033177  0.037437  0.035120   0.027181  0.300555  0.033808   \n",
              "\n",
              "        MA5       Mid  \n",
              "0  0.033215  0.034066  \n",
              "1  0.032434  0.036937  \n",
              "2  0.032756  0.034011  \n",
              "3  0.032962  0.033790  \n",
              "4  0.033628  0.035225  "
            ],
            "text/html": [
              "\n",
              "  <div id=\"df-e6247b62-ba57-4b64-bf30-25033cdeae43\">\n",
              "    <div class=\"colab-df-container\">\n",
              "      <div>\n",
              "<style scoped>\n",
              "    .dataframe tbody tr th:only-of-type {\n",
              "        vertical-align: middle;\n",
              "    }\n",
              "\n",
              "    .dataframe tbody tr th {\n",
              "        vertical-align: top;\n",
              "    }\n",
              "\n",
              "    .dataframe thead th {\n",
              "        text-align: right;\n",
              "    }\n",
              "</style>\n",
              "<table border=\"1\" class=\"dataframe\">\n",
              "  <thead>\n",
              "    <tr style=\"text-align: right;\">\n",
              "      <th></th>\n",
              "      <th>Open</th>\n",
              "      <th>High</th>\n",
              "      <th>Low</th>\n",
              "      <th>Close</th>\n",
              "      <th>Adj Close</th>\n",
              "      <th>Volume</th>\n",
              "      <th>MA3</th>\n",
              "      <th>MA5</th>\n",
              "      <th>Mid</th>\n",
              "    </tr>\n",
              "  </thead>\n",
              "  <tbody>\n",
              "    <tr>\n",
              "      <th>0</th>\n",
              "      <td>0.034868</td>\n",
              "      <td>0.032008</td>\n",
              "      <td>0.036288</td>\n",
              "      <td>0.034440</td>\n",
              "      <td>0.026655</td>\n",
              "      <td>0.285359</td>\n",
              "      <td>0.032553</td>\n",
              "      <td>0.033215</td>\n",
              "      <td>0.034066</td>\n",
              "    </tr>\n",
              "    <tr>\n",
              "      <th>1</th>\n",
              "      <td>0.037375</td>\n",
              "      <td>0.035517</td>\n",
              "      <td>0.038470</td>\n",
              "      <td>0.034440</td>\n",
              "      <td>0.026655</td>\n",
              "      <td>0.363715</td>\n",
              "      <td>0.033123</td>\n",
              "      <td>0.032434</td>\n",
              "      <td>0.036937</td>\n",
              "    </tr>\n",
              "    <tr>\n",
              "      <th>2</th>\n",
              "      <td>0.034982</td>\n",
              "      <td>0.031689</td>\n",
              "      <td>0.036518</td>\n",
              "      <td>0.033873</td>\n",
              "      <td>0.026217</td>\n",
              "      <td>0.177799</td>\n",
              "      <td>0.033808</td>\n",
              "      <td>0.032756</td>\n",
              "      <td>0.034011</td>\n",
              "    </tr>\n",
              "    <tr>\n",
              "      <th>3</th>\n",
              "      <td>0.034868</td>\n",
              "      <td>0.031689</td>\n",
              "      <td>0.036059</td>\n",
              "      <td>0.033760</td>\n",
              "      <td>0.026129</td>\n",
              "      <td>0.250704</td>\n",
              "      <td>0.033579</td>\n",
              "      <td>0.032962</td>\n",
              "      <td>0.033790</td>\n",
              "    </tr>\n",
              "    <tr>\n",
              "      <th>4</th>\n",
              "      <td>0.036235</td>\n",
              "      <td>0.033177</td>\n",
              "      <td>0.037437</td>\n",
              "      <td>0.035120</td>\n",
              "      <td>0.027181</td>\n",
              "      <td>0.300555</td>\n",
              "      <td>0.033808</td>\n",
              "      <td>0.033628</td>\n",
              "      <td>0.035225</td>\n",
              "    </tr>\n",
              "  </tbody>\n",
              "</table>\n",
              "</div>\n",
              "      <button class=\"colab-df-convert\" onclick=\"convertToInteractive('df-e6247b62-ba57-4b64-bf30-25033cdeae43')\"\n",
              "              title=\"Convert this dataframe to an interactive table.\"\n",
              "              style=\"display:none;\">\n",
              "        \n",
              "  <svg xmlns=\"http://www.w3.org/2000/svg\" height=\"24px\"viewBox=\"0 0 24 24\"\n",
              "       width=\"24px\">\n",
              "    <path d=\"M0 0h24v24H0V0z\" fill=\"none\"/>\n",
              "    <path d=\"M18.56 5.44l.94 2.06.94-2.06 2.06-.94-2.06-.94-.94-2.06-.94 2.06-2.06.94zm-11 1L8.5 8.5l.94-2.06 2.06-.94-2.06-.94L8.5 2.5l-.94 2.06-2.06.94zm10 10l.94 2.06.94-2.06 2.06-.94-2.06-.94-.94-2.06-.94 2.06-2.06.94z\"/><path d=\"M17.41 7.96l-1.37-1.37c-.4-.4-.92-.59-1.43-.59-.52 0-1.04.2-1.43.59L10.3 9.45l-7.72 7.72c-.78.78-.78 2.05 0 2.83L4 21.41c.39.39.9.59 1.41.59.51 0 1.02-.2 1.41-.59l7.78-7.78 2.81-2.81c.8-.78.8-2.07 0-2.86zM5.41 20L4 18.59l7.72-7.72 1.47 1.35L5.41 20z\"/>\n",
              "  </svg>\n",
              "      </button>\n",
              "      \n",
              "  <style>\n",
              "    .colab-df-container {\n",
              "      display:flex;\n",
              "      flex-wrap:wrap;\n",
              "      gap: 12px;\n",
              "    }\n",
              "\n",
              "    .colab-df-convert {\n",
              "      background-color: #E8F0FE;\n",
              "      border: none;\n",
              "      border-radius: 50%;\n",
              "      cursor: pointer;\n",
              "      display: none;\n",
              "      fill: #1967D2;\n",
              "      height: 32px;\n",
              "      padding: 0 0 0 0;\n",
              "      width: 32px;\n",
              "    }\n",
              "\n",
              "    .colab-df-convert:hover {\n",
              "      background-color: #E2EBFA;\n",
              "      box-shadow: 0px 1px 2px rgba(60, 64, 67, 0.3), 0px 1px 3px 1px rgba(60, 64, 67, 0.15);\n",
              "      fill: #174EA6;\n",
              "    }\n",
              "\n",
              "    [theme=dark] .colab-df-convert {\n",
              "      background-color: #3B4455;\n",
              "      fill: #D2E3FC;\n",
              "    }\n",
              "\n",
              "    [theme=dark] .colab-df-convert:hover {\n",
              "      background-color: #434B5C;\n",
              "      box-shadow: 0px 1px 3px 1px rgba(0, 0, 0, 0.15);\n",
              "      filter: drop-shadow(0px 1px 2px rgba(0, 0, 0, 0.3));\n",
              "      fill: #FFFFFF;\n",
              "    }\n",
              "  </style>\n",
              "\n",
              "      <script>\n",
              "        const buttonEl =\n",
              "          document.querySelector('#df-e6247b62-ba57-4b64-bf30-25033cdeae43 button.colab-df-convert');\n",
              "        buttonEl.style.display =\n",
              "          google.colab.kernel.accessAllowed ? 'block' : 'none';\n",
              "\n",
              "        async function convertToInteractive(key) {\n",
              "          const element = document.querySelector('#df-e6247b62-ba57-4b64-bf30-25033cdeae43');\n",
              "          const dataTable =\n",
              "            await google.colab.kernel.invokeFunction('convertToInteractive',\n",
              "                                                     [key], {});\n",
              "          if (!dataTable) return;\n",
              "\n",
              "          const docLinkHtml = 'Like what you see? Visit the ' +\n",
              "            '<a target=\"_blank\" href=https://colab.research.google.com/notebooks/data_table.ipynb>data table notebook</a>'\n",
              "            + ' to learn more about interactive tables.';\n",
              "          element.innerHTML = '';\n",
              "          dataTable['output_type'] = 'display_data';\n",
              "          await google.colab.output.renderOutput(dataTable, element);\n",
              "          const docLink = document.createElement('div');\n",
              "          docLink.innerHTML = docLinkHtml;\n",
              "          element.appendChild(docLink);\n",
              "        }\n",
              "      </script>\n",
              "    </div>\n",
              "  </div>\n",
              "  "
            ]
          },
          "metadata": {},
          "execution_count": 80
        }
      ]
    },
    {
      "cell_type": "code",
      "source": [
        "def make_sequence_dataset(X, y, window_size):\n",
        "  feature_list = []\n",
        "  label_list = []\n",
        "\n",
        "  for i in range(len(X)-window_size):\n",
        "    feature_list.append(X[i:i+window_size])\n",
        "    label_list.append(y[i+window_size])\n",
        "\n",
        "  return np.array(feature_list), np.array(label_list)"
      ],
      "metadata": {
        "id": "hmnxkqKlaLVI"
      },
      "execution_count": 81,
      "outputs": []
    },
    {
      "cell_type": "code",
      "source": [
        "X = df_scaled.drop(['Close', 'Adj Close'], axis=1)\n",
        "y = df_scaled['Close']"
      ],
      "metadata": {
        "id": "Km0TomZ7cxyv"
      },
      "execution_count": 82,
      "outputs": []
    },
    {
      "cell_type": "code",
      "source": [
        "X_data, y_data = make_sequence_dataset(X, y, 20)\n",
        "print(X_data.shape, y_data.shape)"
      ],
      "metadata": {
        "colab": {
          "base_uri": "https://localhost:8080/"
        },
        "id": "eit3hC3Sc6_c",
        "outputId": "074ee534-7327-4f33-9a84-ba2331013674"
      },
      "execution_count": 83,
      "outputs": [
        {
          "output_type": "stream",
          "name": "stdout",
          "text": [
            "(5628, 20, 7) (5628,)\n"
          ]
        }
      ]
    },
    {
      "cell_type": "code",
      "source": [
        "train_size = int(len(X_data) * 0.8)\n",
        "train_size"
      ],
      "metadata": {
        "colab": {
          "base_uri": "https://localhost:8080/"
        },
        "id": "HGEKNEoiddvk",
        "outputId": "09256730-0b21-4a62-f27f-49fe9550dec3"
      },
      "execution_count": 84,
      "outputs": [
        {
          "output_type": "execute_result",
          "data": {
            "text/plain": [
              "4502"
            ]
          },
          "metadata": {},
          "execution_count": 84
        }
      ]
    },
    {
      "cell_type": "code",
      "source": [
        "X_train = X_data[:train_size]\n",
        "X_test= X_data[train_size:]\n",
        "\n",
        "y_train = y_data[:train_size]\n",
        "y_test = y_data[train_size:]\n",
        "\n",
        "X_train.shape, X_test.shape, y_train.shape, y_test.shape"
      ],
      "metadata": {
        "colab": {
          "base_uri": "https://localhost:8080/"
        },
        "id": "9VOAJ4hCeRAW",
        "outputId": "03f93ff2-6a8d-45c5-bfdf-39497346aa50"
      },
      "execution_count": 85,
      "outputs": [
        {
          "output_type": "execute_result",
          "data": {
            "text/plain": [
              "((4502, 20, 7), (1126, 20, 7), (4502,), (1126,))"
            ]
          },
          "metadata": {},
          "execution_count": 85
        }
      ]
    },
    {
      "cell_type": "markdown",
      "source": [
        "## 모델 "
      ],
      "metadata": {
        "id": "luv43K2NeygU"
      }
    },
    {
      "cell_type": "code",
      "source": [
        "model = keras.Sequential([])\n",
        "model.add(layers.LSTM(32, activation='tanh',\n",
        "                      input_shape=(20, 7))) #hyperbolic tangent - sigmoid 선형 변형\n",
        "#끝~\n",
        "model.add(layers.Dense(1)) #activation은 넣지 않아도 됨 <- 연속적인 숫자값 하나만 얻으면 되기 때문에'\n",
        "\n",
        "model.summary()"
      ],
      "metadata": {
        "colab": {
          "base_uri": "https://localhost:8080/"
        },
        "id": "aurvS5eEewwj",
        "outputId": "5fba6c4e-ecb3-4d56-eaf1-a4c68e5599be"
      },
      "execution_count": 86,
      "outputs": [
        {
          "output_type": "stream",
          "name": "stdout",
          "text": [
            "Model: \"sequential_3\"\n",
            "_________________________________________________________________\n",
            " Layer (type)                Output Shape              Param #   \n",
            "=================================================================\n",
            " lstm_4 (LSTM)               (None, 32)                5120      \n",
            "                                                                 \n",
            " dense_3 (Dense)             (None, 1)                 33        \n",
            "                                                                 \n",
            "=================================================================\n",
            "Total params: 5,153\n",
            "Trainable params: 5,153\n",
            "Non-trainable params: 0\n",
            "_________________________________________________________________\n"
          ]
        }
      ]
    },
    {
      "cell_type": "code",
      "source": [
        "model.compile(\n",
        "    loss = 'mse', #회귀\n",
        "    optimizer = 'rmsprop', # adam 써도 됨\n",
        "    metrics=['mae']\n",
        ")"
      ],
      "metadata": {
        "id": "_wBBag-HiRFl"
      },
      "execution_count": 87,
      "outputs": []
    },
    {
      "cell_type": "code",
      "source": [
        "EPOCHS = 100\n",
        "BATCH_SIZE = 32\n",
        "\n",
        "log = model.fit(X_train, y_train, batch_size = BATCH_SIZE, epochs = EPOCHS, verbose=1, validation_split=0.2)"
      ],
      "metadata": {
        "colab": {
          "base_uri": "https://localhost:8080/"
        },
        "id": "_rmZg_AMj1Z6",
        "outputId": "d72eb7c5-de1b-420f-eb07-00684a1a9072"
      },
      "execution_count": 88,
      "outputs": [
        {
          "output_type": "stream",
          "name": "stdout",
          "text": [
            "Epoch 1/100\n",
            "113/113 [==============================] - 3s 10ms/step - loss: 0.0019 - mae: 0.0204 - val_loss: 0.0023 - val_mae: 0.0428\n",
            "Epoch 2/100\n",
            "113/113 [==============================] - 1s 7ms/step - loss: 1.9405e-04 - mae: 0.0102 - val_loss: 0.0011 - val_mae: 0.0287\n",
            "Epoch 3/100\n",
            "113/113 [==============================] - 1s 7ms/step - loss: 1.3739e-04 - mae: 0.0087 - val_loss: 2.7379e-04 - val_mae: 0.0120\n",
            "Epoch 4/100\n",
            "113/113 [==============================] - 1s 7ms/step - loss: 1.0003e-04 - mae: 0.0073 - val_loss: 2.5602e-04 - val_mae: 0.0116\n",
            "Epoch 5/100\n",
            "113/113 [==============================] - 1s 7ms/step - loss: 7.6622e-05 - mae: 0.0066 - val_loss: 4.7103e-04 - val_mae: 0.0163\n",
            "Epoch 6/100\n",
            "113/113 [==============================] - 1s 7ms/step - loss: 6.9477e-05 - mae: 0.0065 - val_loss: 3.0029e-04 - val_mae: 0.0126\n",
            "Epoch 7/100\n",
            "113/113 [==============================] - 1s 7ms/step - loss: 5.4907e-05 - mae: 0.0056 - val_loss: 2.8329e-04 - val_mae: 0.0120\n",
            "Epoch 8/100\n",
            "113/113 [==============================] - 1s 7ms/step - loss: 4.8739e-05 - mae: 0.0053 - val_loss: 2.9549e-04 - val_mae: 0.0127\n",
            "Epoch 9/100\n",
            "113/113 [==============================] - 1s 7ms/step - loss: 4.4881e-05 - mae: 0.0051 - val_loss: 2.0306e-04 - val_mae: 0.0103\n",
            "Epoch 10/100\n",
            "113/113 [==============================] - 1s 7ms/step - loss: 4.3790e-05 - mae: 0.0051 - val_loss: 1.7322e-04 - val_mae: 0.0095\n",
            "Epoch 11/100\n",
            "113/113 [==============================] - 1s 7ms/step - loss: 3.7284e-05 - mae: 0.0046 - val_loss: 5.8143e-04 - val_mae: 0.0203\n",
            "Epoch 12/100\n",
            "113/113 [==============================] - 1s 7ms/step - loss: 3.7002e-05 - mae: 0.0045 - val_loss: 2.2226e-04 - val_mae: 0.0115\n",
            "Epoch 13/100\n",
            "113/113 [==============================] - 1s 7ms/step - loss: 3.5552e-05 - mae: 0.0045 - val_loss: 2.1160e-04 - val_mae: 0.0113\n",
            "Epoch 14/100\n",
            "113/113 [==============================] - 1s 7ms/step - loss: 3.4279e-05 - mae: 0.0044 - val_loss: 7.9443e-05 - val_mae: 0.0069\n",
            "Epoch 15/100\n",
            "113/113 [==============================] - 1s 7ms/step - loss: 3.2613e-05 - mae: 0.0043 - val_loss: 1.0344e-04 - val_mae: 0.0075\n",
            "Epoch 16/100\n",
            "113/113 [==============================] - 1s 7ms/step - loss: 2.9207e-05 - mae: 0.0040 - val_loss: 3.9482e-04 - val_mae: 0.0168\n",
            "Epoch 17/100\n",
            "113/113 [==============================] - 1s 7ms/step - loss: 2.9897e-05 - mae: 0.0042 - val_loss: 1.3687e-04 - val_mae: 0.0086\n",
            "Epoch 18/100\n",
            "113/113 [==============================] - 1s 7ms/step - loss: 2.9311e-05 - mae: 0.0041 - val_loss: 2.1342e-04 - val_mae: 0.0128\n",
            "Epoch 19/100\n",
            "113/113 [==============================] - 1s 7ms/step - loss: 2.7906e-05 - mae: 0.0040 - val_loss: 8.4070e-05 - val_mae: 0.0072\n",
            "Epoch 20/100\n",
            "113/113 [==============================] - 1s 7ms/step - loss: 2.8240e-05 - mae: 0.0041 - val_loss: 8.2217e-05 - val_mae: 0.0066\n",
            "Epoch 21/100\n",
            "113/113 [==============================] - 1s 7ms/step - loss: 2.7564e-05 - mae: 0.0039 - val_loss: 1.3065e-04 - val_mae: 0.0088\n",
            "Epoch 22/100\n",
            "113/113 [==============================] - 1s 7ms/step - loss: 2.6849e-05 - mae: 0.0039 - val_loss: 1.3391e-04 - val_mae: 0.0087\n",
            "Epoch 23/100\n",
            "113/113 [==============================] - 1s 7ms/step - loss: 2.5618e-05 - mae: 0.0039 - val_loss: 9.3191e-05 - val_mae: 0.0077\n",
            "Epoch 24/100\n",
            "113/113 [==============================] - 1s 7ms/step - loss: 2.4246e-05 - mae: 0.0037 - val_loss: 2.6437e-04 - val_mae: 0.0134\n",
            "Epoch 25/100\n",
            "113/113 [==============================] - 1s 7ms/step - loss: 2.4854e-05 - mae: 0.0038 - val_loss: 6.7165e-05 - val_mae: 0.0060\n",
            "Epoch 26/100\n",
            "113/113 [==============================] - 1s 7ms/step - loss: 2.4443e-05 - mae: 0.0037 - val_loss: 6.2166e-05 - val_mae: 0.0058\n",
            "Epoch 27/100\n",
            "113/113 [==============================] - 1s 7ms/step - loss: 2.3730e-05 - mae: 0.0036 - val_loss: 6.3492e-05 - val_mae: 0.0059\n",
            "Epoch 28/100\n",
            "113/113 [==============================] - 1s 7ms/step - loss: 2.3766e-05 - mae: 0.0036 - val_loss: 6.5314e-05 - val_mae: 0.0060\n",
            "Epoch 29/100\n",
            "113/113 [==============================] - 1s 7ms/step - loss: 2.3130e-05 - mae: 0.0036 - val_loss: 1.0406e-04 - val_mae: 0.0082\n",
            "Epoch 30/100\n",
            "113/113 [==============================] - 1s 7ms/step - loss: 2.2482e-05 - mae: 0.0035 - val_loss: 6.8842e-05 - val_mae: 0.0064\n",
            "Epoch 31/100\n",
            "113/113 [==============================] - 1s 7ms/step - loss: 2.3325e-05 - mae: 0.0037 - val_loss: 7.7737e-05 - val_mae: 0.0065\n",
            "Epoch 32/100\n",
            "113/113 [==============================] - 1s 7ms/step - loss: 2.1733e-05 - mae: 0.0035 - val_loss: 5.7675e-05 - val_mae: 0.0056\n",
            "Epoch 33/100\n",
            "113/113 [==============================] - 1s 7ms/step - loss: 2.2143e-05 - mae: 0.0035 - val_loss: 5.9319e-05 - val_mae: 0.0057\n",
            "Epoch 34/100\n",
            "113/113 [==============================] - 1s 7ms/step - loss: 2.2074e-05 - mae: 0.0036 - val_loss: 7.8090e-05 - val_mae: 0.0066\n",
            "Epoch 35/100\n",
            "113/113 [==============================] - 1s 7ms/step - loss: 2.1333e-05 - mae: 0.0035 - val_loss: 6.2692e-05 - val_mae: 0.0060\n",
            "Epoch 36/100\n",
            "113/113 [==============================] - 1s 7ms/step - loss: 2.1606e-05 - mae: 0.0035 - val_loss: 8.0291e-05 - val_mae: 0.0067\n",
            "Epoch 37/100\n",
            "113/113 [==============================] - 1s 7ms/step - loss: 2.0807e-05 - mae: 0.0034 - val_loss: 7.4635e-05 - val_mae: 0.0064\n",
            "Epoch 38/100\n",
            "113/113 [==============================] - 1s 7ms/step - loss: 2.1588e-05 - mae: 0.0035 - val_loss: 7.3065e-05 - val_mae: 0.0063\n",
            "Epoch 39/100\n",
            "113/113 [==============================] - 1s 7ms/step - loss: 2.0353e-05 - mae: 0.0034 - val_loss: 9.6830e-05 - val_mae: 0.0078\n",
            "Epoch 40/100\n",
            "113/113 [==============================] - 1s 7ms/step - loss: 2.0850e-05 - mae: 0.0034 - val_loss: 4.3417e-04 - val_mae: 0.0184\n",
            "Epoch 41/100\n",
            "113/113 [==============================] - 1s 7ms/step - loss: 2.0763e-05 - mae: 0.0034 - val_loss: 7.1748e-05 - val_mae: 0.0063\n",
            "Epoch 42/100\n",
            "113/113 [==============================] - 1s 7ms/step - loss: 2.0670e-05 - mae: 0.0034 - val_loss: 6.1498e-05 - val_mae: 0.0058\n",
            "Epoch 43/100\n",
            "113/113 [==============================] - 1s 7ms/step - loss: 1.9785e-05 - mae: 0.0034 - val_loss: 1.4036e-04 - val_mae: 0.0094\n",
            "Epoch 44/100\n",
            "113/113 [==============================] - 1s 7ms/step - loss: 2.0947e-05 - mae: 0.0035 - val_loss: 5.8326e-05 - val_mae: 0.0057\n",
            "Epoch 45/100\n",
            "113/113 [==============================] - 1s 7ms/step - loss: 2.0101e-05 - mae: 0.0034 - val_loss: 1.0991e-04 - val_mae: 0.0080\n",
            "Epoch 46/100\n",
            "113/113 [==============================] - 1s 7ms/step - loss: 2.0000e-05 - mae: 0.0033 - val_loss: 6.4179e-05 - val_mae: 0.0059\n",
            "Epoch 47/100\n",
            "113/113 [==============================] - 1s 7ms/step - loss: 2.0136e-05 - mae: 0.0033 - val_loss: 7.5338e-05 - val_mae: 0.0066\n",
            "Epoch 48/100\n",
            "113/113 [==============================] - 1s 7ms/step - loss: 1.8957e-05 - mae: 0.0033 - val_loss: 1.5177e-04 - val_mae: 0.0098\n",
            "Epoch 49/100\n",
            "113/113 [==============================] - 1s 7ms/step - loss: 1.9090e-05 - mae: 0.0034 - val_loss: 6.1294e-05 - val_mae: 0.0058\n",
            "Epoch 50/100\n",
            "113/113 [==============================] - 1s 7ms/step - loss: 1.9796e-05 - mae: 0.0034 - val_loss: 7.3786e-05 - val_mae: 0.0065\n",
            "Epoch 51/100\n",
            "113/113 [==============================] - 1s 7ms/step - loss: 1.9151e-05 - mae: 0.0033 - val_loss: 7.5301e-05 - val_mae: 0.0066\n",
            "Epoch 52/100\n",
            "113/113 [==============================] - 1s 7ms/step - loss: 1.9122e-05 - mae: 0.0033 - val_loss: 6.4962e-05 - val_mae: 0.0060\n",
            "Epoch 53/100\n",
            "113/113 [==============================] - 1s 7ms/step - loss: 1.8185e-05 - mae: 0.0032 - val_loss: 2.5510e-04 - val_mae: 0.0135\n",
            "Epoch 54/100\n",
            "113/113 [==============================] - 1s 7ms/step - loss: 1.9249e-05 - mae: 0.0033 - val_loss: 1.0513e-04 - val_mae: 0.0082\n",
            "Epoch 55/100\n",
            "113/113 [==============================] - 1s 7ms/step - loss: 1.8355e-05 - mae: 0.0032 - val_loss: 1.1628e-04 - val_mae: 0.0088\n",
            "Epoch 56/100\n",
            "113/113 [==============================] - 1s 7ms/step - loss: 1.8638e-05 - mae: 0.0033 - val_loss: 6.9279e-05 - val_mae: 0.0061\n",
            "Epoch 57/100\n",
            "113/113 [==============================] - 1s 7ms/step - loss: 1.8656e-05 - mae: 0.0032 - val_loss: 5.9757e-05 - val_mae: 0.0057\n",
            "Epoch 58/100\n",
            "113/113 [==============================] - 1s 7ms/step - loss: 1.8860e-05 - mae: 0.0033 - val_loss: 2.1439e-04 - val_mae: 0.0118\n",
            "Epoch 59/100\n",
            "113/113 [==============================] - 1s 7ms/step - loss: 1.9464e-05 - mae: 0.0033 - val_loss: 7.0778e-05 - val_mae: 0.0062\n",
            "Epoch 60/100\n",
            "113/113 [==============================] - 1s 7ms/step - loss: 1.8247e-05 - mae: 0.0032 - val_loss: 1.2483e-04 - val_mae: 0.0088\n",
            "Epoch 61/100\n",
            "113/113 [==============================] - 1s 7ms/step - loss: 1.8719e-05 - mae: 0.0033 - val_loss: 7.0016e-05 - val_mae: 0.0064\n",
            "Epoch 62/100\n",
            "113/113 [==============================] - 1s 8ms/step - loss: 1.8557e-05 - mae: 0.0032 - val_loss: 7.8702e-05 - val_mae: 0.0066\n",
            "Epoch 63/100\n",
            "113/113 [==============================] - 1s 7ms/step - loss: 1.8661e-05 - mae: 0.0032 - val_loss: 1.5228e-04 - val_mae: 0.0098\n",
            "Epoch 64/100\n",
            "113/113 [==============================] - 1s 7ms/step - loss: 1.8131e-05 - mae: 0.0032 - val_loss: 8.8528e-05 - val_mae: 0.0071\n",
            "Epoch 65/100\n",
            "113/113 [==============================] - 1s 7ms/step - loss: 1.7119e-05 - mae: 0.0031 - val_loss: 1.8211e-04 - val_mae: 0.0109\n",
            "Epoch 66/100\n",
            "113/113 [==============================] - 1s 7ms/step - loss: 1.8426e-05 - mae: 0.0032 - val_loss: 6.8180e-05 - val_mae: 0.0061\n",
            "Epoch 67/100\n",
            "113/113 [==============================] - 1s 7ms/step - loss: 1.8329e-05 - mae: 0.0032 - val_loss: 1.5119e-04 - val_mae: 0.0099\n",
            "Epoch 68/100\n",
            "113/113 [==============================] - 1s 8ms/step - loss: 1.8736e-05 - mae: 0.0033 - val_loss: 1.2481e-04 - val_mae: 0.0085\n",
            "Epoch 69/100\n",
            "113/113 [==============================] - 1s 7ms/step - loss: 1.7634e-05 - mae: 0.0031 - val_loss: 8.4712e-05 - val_mae: 0.0069\n",
            "Epoch 70/100\n",
            "113/113 [==============================] - 1s 7ms/step - loss: 1.7521e-05 - mae: 0.0032 - val_loss: 7.2945e-05 - val_mae: 0.0063\n",
            "Epoch 71/100\n",
            "113/113 [==============================] - 1s 7ms/step - loss: 1.7599e-05 - mae: 0.0032 - val_loss: 6.2639e-05 - val_mae: 0.0060\n",
            "Epoch 72/100\n",
            "113/113 [==============================] - 1s 7ms/step - loss: 1.8415e-05 - mae: 0.0032 - val_loss: 6.2240e-05 - val_mae: 0.0058\n",
            "Epoch 73/100\n",
            "113/113 [==============================] - 1s 8ms/step - loss: 1.7284e-05 - mae: 0.0031 - val_loss: 6.3104e-05 - val_mae: 0.0059\n",
            "Epoch 74/100\n",
            "113/113 [==============================] - 1s 7ms/step - loss: 1.8166e-05 - mae: 0.0032 - val_loss: 9.1813e-05 - val_mae: 0.0072\n",
            "Epoch 75/100\n",
            "113/113 [==============================] - 1s 8ms/step - loss: 1.7124e-05 - mae: 0.0031 - val_loss: 6.6767e-05 - val_mae: 0.0063\n",
            "Epoch 76/100\n",
            "113/113 [==============================] - 1s 7ms/step - loss: 1.7062e-05 - mae: 0.0031 - val_loss: 7.7459e-05 - val_mae: 0.0065\n",
            "Epoch 77/100\n",
            "113/113 [==============================] - 1s 7ms/step - loss: 1.7956e-05 - mae: 0.0032 - val_loss: 8.3985e-05 - val_mae: 0.0068\n",
            "Epoch 78/100\n",
            "113/113 [==============================] - 1s 7ms/step - loss: 1.7444e-05 - mae: 0.0031 - val_loss: 7.1752e-05 - val_mae: 0.0063\n",
            "Epoch 79/100\n",
            "113/113 [==============================] - 1s 7ms/step - loss: 1.7341e-05 - mae: 0.0031 - val_loss: 6.2596e-05 - val_mae: 0.0060\n",
            "Epoch 80/100\n",
            "113/113 [==============================] - 1s 7ms/step - loss: 1.7146e-05 - mae: 0.0031 - val_loss: 6.0266e-05 - val_mae: 0.0057\n",
            "Epoch 81/100\n",
            "113/113 [==============================] - 1s 7ms/step - loss: 1.7252e-05 - mae: 0.0031 - val_loss: 6.0751e-05 - val_mae: 0.0057\n",
            "Epoch 82/100\n",
            "113/113 [==============================] - 1s 7ms/step - loss: 1.7194e-05 - mae: 0.0031 - val_loss: 8.8243e-05 - val_mae: 0.0068\n",
            "Epoch 83/100\n",
            "113/113 [==============================] - 1s 7ms/step - loss: 1.6864e-05 - mae: 0.0031 - val_loss: 5.8043e-05 - val_mae: 0.0056\n",
            "Epoch 84/100\n",
            "113/113 [==============================] - 1s 7ms/step - loss: 1.7181e-05 - mae: 0.0031 - val_loss: 5.9941e-05 - val_mae: 0.0057\n",
            "Epoch 85/100\n",
            "113/113 [==============================] - 1s 7ms/step - loss: 1.6101e-05 - mae: 0.0030 - val_loss: 7.6922e-05 - val_mae: 0.0067\n",
            "Epoch 86/100\n",
            "113/113 [==============================] - 1s 8ms/step - loss: 1.7376e-05 - mae: 0.0031 - val_loss: 1.0704e-04 - val_mae: 0.0084\n",
            "Epoch 87/100\n",
            "113/113 [==============================] - 1s 8ms/step - loss: 1.6597e-05 - mae: 0.0031 - val_loss: 6.2021e-05 - val_mae: 0.0060\n",
            "Epoch 88/100\n",
            "113/113 [==============================] - 1s 8ms/step - loss: 1.6808e-05 - mae: 0.0031 - val_loss: 5.7437e-05 - val_mae: 0.0056\n",
            "Epoch 89/100\n",
            "113/113 [==============================] - 1s 7ms/step - loss: 1.6539e-05 - mae: 0.0030 - val_loss: 5.9019e-05 - val_mae: 0.0057\n",
            "Epoch 90/100\n",
            "113/113 [==============================] - 1s 7ms/step - loss: 1.6453e-05 - mae: 0.0030 - val_loss: 8.2100e-05 - val_mae: 0.0068\n",
            "Epoch 91/100\n",
            "113/113 [==============================] - 1s 7ms/step - loss: 1.6744e-05 - mae: 0.0031 - val_loss: 6.8161e-05 - val_mae: 0.0061\n",
            "Epoch 92/100\n",
            "113/113 [==============================] - 1s 7ms/step - loss: 1.6522e-05 - mae: 0.0030 - val_loss: 6.5723e-05 - val_mae: 0.0062\n",
            "Epoch 93/100\n",
            "113/113 [==============================] - 1s 7ms/step - loss: 1.7112e-05 - mae: 0.0031 - val_loss: 6.9669e-05 - val_mae: 0.0062\n",
            "Epoch 94/100\n",
            "113/113 [==============================] - 1s 7ms/step - loss: 1.6831e-05 - mae: 0.0031 - val_loss: 7.3645e-05 - val_mae: 0.0064\n",
            "Epoch 95/100\n",
            "113/113 [==============================] - 1s 7ms/step - loss: 1.6497e-05 - mae: 0.0031 - val_loss: 5.6772e-05 - val_mae: 0.0056\n",
            "Epoch 96/100\n",
            "113/113 [==============================] - 1s 7ms/step - loss: 1.6716e-05 - mae: 0.0031 - val_loss: 8.4828e-05 - val_mae: 0.0069\n",
            "Epoch 97/100\n",
            "113/113 [==============================] - 1s 7ms/step - loss: 1.6567e-05 - mae: 0.0030 - val_loss: 9.3350e-05 - val_mae: 0.0071\n",
            "Epoch 98/100\n",
            "113/113 [==============================] - 1s 8ms/step - loss: 1.6386e-05 - mae: 0.0030 - val_loss: 6.3539e-05 - val_mae: 0.0061\n",
            "Epoch 99/100\n",
            "113/113 [==============================] - 1s 8ms/step - loss: 1.6252e-05 - mae: 0.0030 - val_loss: 5.9616e-05 - val_mae: 0.0058\n",
            "Epoch 100/100\n",
            "113/113 [==============================] - 1s 8ms/step - loss: 1.6257e-05 - mae: 0.0030 - val_loss: 6.1966e-05 - val_mae: 0.0058\n"
          ]
        }
      ]
    },
    {
      "cell_type": "code",
      "source": [
        "log.history.keys()"
      ],
      "metadata": {
        "colab": {
          "base_uri": "https://localhost:8080/"
        },
        "id": "X2dKjwnhkWJN",
        "outputId": "c50efb20-1d6d-437b-a966-88ab3a000802"
      },
      "execution_count": 39,
      "outputs": [
        {
          "output_type": "execute_result",
          "data": {
            "text/plain": [
              "dict_keys(['loss', 'mae', 'val_loss', 'val_mae'])"
            ]
          },
          "metadata": {},
          "execution_count": 39
        }
      ]
    },
    {
      "cell_type": "code",
      "source": [
        "# 학습 곡선\n",
        "def plot_history(history):\n",
        "    hist = pd.DataFrame(history.history)\n",
        "    hist['epoch'] = history.epoch\n",
        "\n",
        "    plt.figure(figsize=(16,8))\n",
        "    plt.subplot(1,2,1)\n",
        "    plt.xlabel('Epoch')\n",
        "    plt.ylabel('Loss')\n",
        "    plt.plot(hist['epoch'], hist['loss'],label='Train Loss')\n",
        "    plt.plot(hist['epoch'], hist['val_loss'],label = 'Val Loss')\n",
        "    plt.legend()\n",
        "\n",
        "    plt.subplot(1,2,2)\n",
        "    plt.xlabel('Epoch')\n",
        "    plt.ylabel('Accuracy')\n",
        "    plt.plot(hist['epoch'], hist['mae'],label='Train MAE')\n",
        "    plt.plot(hist['epoch'], hist['val_mae'],label = 'Val MAE')\n",
        "\n",
        "    plt.legend()\n",
        "    plt.show()"
      ],
      "metadata": {
        "id": "uB7oM8l1lFav"
      },
      "execution_count": 91,
      "outputs": []
    },
    {
      "cell_type": "code",
      "source": [
        "plot_history(log)"
      ],
      "metadata": {
        "colab": {
          "base_uri": "https://localhost:8080/",
          "height": 497
        },
        "id": "c3IR-j2LlGGY",
        "outputId": "0b2d5796-96e8-4d5d-c845-c034fd2c4fe9"
      },
      "execution_count": 92,
      "outputs": [
        {
          "output_type": "display_data",
          "data": {
            "text/plain": [
              "<Figure size 1152x576 with 2 Axes>"
            ],
            "image/png": "[encoded data removed]"
          },
          "metadata": {
            "needs_background": "light"
          }
        }
      ]
    },
    {
      "cell_type": "code",
      "source": [
        "model.evaluate(X_train, y_train)"
      ],
      "metadata": {
        "colab": {
          "base_uri": "https://localhost:8080/"
        },
        "id": "eO6xk7zelV6A",
        "outputId": "28f93eb6-4094-450f-d0a5-451dd243e4be"
      },
      "execution_count": 93,
      "outputs": [
        {
          "output_type": "stream",
          "name": "stdout",
          "text": [
            "141/141 [==============================] - 0s 2ms/step - loss: 2.2269e-05 - mae: 0.0032\n"
          ]
        },
        {
          "output_type": "execute_result",
          "data": {
            "text/plain": [
              "[2.2269026885624044e-05, 0.0032478340435773134]"
            ]
          },
          "metadata": {},
          "execution_count": 93
        }
      ]
    },
    {
      "cell_type": "code",
      "source": [
        "y_pred = model.predict(X_test)\n",
        "y_pred = y_pred.reshape(-1)"
      ],
      "metadata": {
        "colab": {
          "base_uri": "https://localhost:8080/"
        },
        "id": "tg_AGIfhlkKb",
        "outputId": "06250eff-460f-476f-cc46-e44d33182db1"
      },
      "execution_count": 94,
      "outputs": [
        {
          "output_type": "stream",
          "name": "stdout",
          "text": [
            "36/36 [==============================] - 0s 2ms/step\n"
          ]
        }
      ]
    },
    {
      "cell_type": "code",
      "source": [
        "for i in range(10):\n",
        "  print('Answer: ', y_test[i], 'Pred', y_pred[i])"
      ],
      "metadata": {
        "colab": {
          "base_uri": "https://localhost:8080/"
        },
        "id": "Nj6_DXC8ltjP",
        "outputId": "9564f08a-14e6-4dd4-dd4b-eabfd7a9fb08"
      },
      "execution_count": 95,
      "outputs": [
        {
          "output_type": "stream",
          "name": "stdout",
          "text": [
            "Answer:  0.5615724481703863 Pred 0.55536556\n",
            "Answer:  0.5502435708621276 Pred 0.55692947\n",
            "Answer:  0.5298515917072618 Pred 0.54687166\n",
            "Answer:  0.5434462444771724 Pred 0.52421576\n",
            "Answer:  0.5502435708621276 Pred 0.5380669\n",
            "Answer:  0.5479777954004759 Pred 0.54242295\n",
            "Answer:  0.5502435708621276 Pred 0.5421799\n",
            "Answer:  0.5423133567463465 Pred 0.53910804\n",
            "Answer:  0.5315509233035006 Pred 0.54333556\n",
            "Answer:  0.5343831426305653 Pred 0.5237371\n"
          ]
        }
      ]
    },
    {
      "cell_type": "code",
      "source": [
        "plt.figure(figsize=(10,5))\n",
        "plt.plot(y_test[20:], label='test')\n",
        "plt.plot(y_pred, label='predict')\n",
        "plt.grid()\n",
        "plt.legend()\n",
        "plt.show()"
      ],
      "metadata": {
        "colab": {
          "base_uri": "https://localhost:8080/",
          "height": 320
        },
        "id": "OnuhQ3Lkl3bZ",
        "outputId": "17f63aa7-97e8-442b-939b-f46be83c23f7"
      },
      "execution_count": 96,
      "outputs": [
        {
          "output_type": "display_data",
          "data": {
            "text/plain": [
              "<Figure size 720x360 with 1 Axes>"
            ],
            "image/png": "[encoded data removed]"
          },
          "metadata": {
            "needs_background": "light"
          }
        }
      ]
    },
    {
      "cell_type": "code",
      "source": [],
      "metadata": {
        "id": "BDzhTtYVo6au"
      },
      "execution_count": null,
      "outputs": []
    },
    {
      "cell_type": "markdown",
      "source": [
        "## Stack **LSTM**"
      ],
      "metadata": {
        "id": "gx3rrCR5oWXN"
      }
    },
    {
      "cell_type": "code",
      "source": [
        "model = keras.Sequential([])\n",
        "model.add(layers.LSTM(32, activation='tanh',\n",
        "                      input_shape=(20, 7), return_sequences = True))\n",
        "model.add(layers.Dropout(0.2))\n",
        "model.add(layers.LSTM(32, activation='tanh'))\n",
        "model.add(layers.Dropout(0.2))\n",
        "model.add(layers.Dense(1))\n",
        "\n",
        "model.summary()"
      ],
      "metadata": {
        "colab": {
          "base_uri": "https://localhost:8080/"
        },
        "id": "Pdv2oY6coJJR",
        "outputId": "4389583a-387a-4180-947f-40ea8b471b2b"
      },
      "execution_count": 97,
      "outputs": [
        {
          "output_type": "stream",
          "name": "stdout",
          "text": [
            "Model: \"sequential_4\"\n",
            "_________________________________________________________________\n",
            " Layer (type)                Output Shape              Param #   \n",
            "=================================================================\n",
            " lstm_5 (LSTM)               (None, 20, 32)            5120      \n",
            "                                                                 \n",
            " dropout_2 (Dropout)         (None, 20, 32)            0         \n",
            "                                                                 \n",
            " lstm_6 (LSTM)               (None, 32)                8320      \n",
            "                                                                 \n",
            " dropout_3 (Dropout)         (None, 32)                0         \n",
            "                                                                 \n",
            " dense_4 (Dense)             (None, 1)                 33        \n",
            "                                                                 \n",
            "=================================================================\n",
            "Total params: 13,473\n",
            "Trainable params: 13,473\n",
            "Non-trainable params: 0\n",
            "_________________________________________________________________\n"
          ]
        }
      ]
    },
    {
      "cell_type": "code",
      "source": [
        "model.compile(\n",
        "    loss = 'mse', #회귀\n",
        "    optimizer = 'rmsprop', # adam 써도 됨\n",
        "    metrics=['mae']\n",
        ")"
      ],
      "metadata": {
        "id": "xvpHNi-ZpDA4"
      },
      "execution_count": 98,
      "outputs": []
    },
    {
      "cell_type": "code",
      "source": [
        "EPOCHS = 100\n",
        "BATCH_SIZE = 32\n",
        "\n",
        "log = model.fit(X_train, y_train, batch_size = BATCH_SIZE, epochs = EPOCHS, verbose=1, validation_split=0.2)"
      ],
      "metadata": {
        "colab": {
          "base_uri": "https://localhost:8080/"
        },
        "id": "CbM1imt0pFs5",
        "outputId": "ce1b5eb2-9b6f-46de-c267-c9a305b6f2c7"
      },
      "execution_count": 99,
      "outputs": [
        {
          "output_type": "stream",
          "name": "stdout",
          "text": [
            "Epoch 1/100\n",
            "113/113 [==============================] - 7s 29ms/step - loss: 8.8904e-04 - mae: 0.0207 - val_loss: 3.4786e-04 - val_mae: 0.0141\n",
            "Epoch 2/100\n",
            "113/113 [==============================] - 2s 14ms/step - loss: 4.5531e-04 - mae: 0.0153 - val_loss: 9.1493e-04 - val_mae: 0.0276\n",
            "Epoch 3/100\n",
            "113/113 [==============================] - 2s 14ms/step - loss: 3.6465e-04 - mae: 0.0134 - val_loss: 0.0021 - val_mae: 0.0391\n",
            "Epoch 4/100\n",
            "113/113 [==============================] - 2s 14ms/step - loss: 2.9309e-04 - mae: 0.0121 - val_loss: 2.8660e-04 - val_mae: 0.0136\n",
            "Epoch 5/100\n",
            "113/113 [==============================] - 2s 14ms/step - loss: 2.6786e-04 - mae: 0.0116 - val_loss: 8.7094e-04 - val_mae: 0.0229\n",
            "Epoch 6/100\n",
            "113/113 [==============================] - 2s 14ms/step - loss: 2.3878e-04 - mae: 0.0108 - val_loss: 7.1937e-04 - val_mae: 0.0193\n",
            "Epoch 7/100\n",
            "113/113 [==============================] - 2s 13ms/step - loss: 2.2434e-04 - mae: 0.0104 - val_loss: 0.0018 - val_mae: 0.0346\n",
            "Epoch 8/100\n",
            "113/113 [==============================] - 2s 14ms/step - loss: 1.8669e-04 - mae: 0.0095 - val_loss: 2.3230e-04 - val_mae: 0.0121\n",
            "Epoch 9/100\n",
            "113/113 [==============================] - 2s 13ms/step - loss: 1.8050e-04 - mae: 0.0094 - val_loss: 3.3298e-04 - val_mae: 0.0131\n",
            "Epoch 10/100\n",
            "113/113 [==============================] - 2s 14ms/step - loss: 1.7795e-04 - mae: 0.0093 - val_loss: 0.0029 - val_mae: 0.0463\n",
            "Epoch 11/100\n",
            "113/113 [==============================] - 2s 14ms/step - loss: 1.6431e-04 - mae: 0.0091 - val_loss: 3.3111e-04 - val_mae: 0.0129\n",
            "Epoch 12/100\n",
            "113/113 [==============================] - 2s 14ms/step - loss: 1.5367e-04 - mae: 0.0088 - val_loss: 3.7607e-04 - val_mae: 0.0137\n",
            "Epoch 13/100\n",
            "113/113 [==============================] - 2s 14ms/step - loss: 1.4256e-04 - mae: 0.0086 - val_loss: 1.8575e-04 - val_mae: 0.0104\n",
            "Epoch 14/100\n",
            "113/113 [==============================] - 2s 14ms/step - loss: 1.4857e-04 - mae: 0.0086 - val_loss: 0.0010 - val_mae: 0.0232\n",
            "Epoch 15/100\n",
            "113/113 [==============================] - 2s 14ms/step - loss: 1.4037e-04 - mae: 0.0085 - val_loss: 4.6954e-04 - val_mae: 0.0156\n",
            "Epoch 16/100\n",
            "113/113 [==============================] - 2s 14ms/step - loss: 1.3701e-04 - mae: 0.0084 - val_loss: 3.2858e-04 - val_mae: 0.0127\n",
            "Epoch 17/100\n",
            "113/113 [==============================] - 2s 14ms/step - loss: 1.3348e-04 - mae: 0.0083 - val_loss: 2.5492e-04 - val_mae: 0.0117\n",
            "Epoch 18/100\n",
            "113/113 [==============================] - 2s 13ms/step - loss: 1.3363e-04 - mae: 0.0082 - val_loss: 2.3067e-04 - val_mae: 0.0107\n",
            "Epoch 19/100\n",
            "113/113 [==============================] - 1s 13ms/step - loss: 1.2540e-04 - mae: 0.0081 - val_loss: 5.1260e-04 - val_mae: 0.0162\n",
            "Epoch 20/100\n",
            "113/113 [==============================] - 2s 14ms/step - loss: 1.2902e-04 - mae: 0.0081 - val_loss: 6.9740e-04 - val_mae: 0.0193\n",
            "Epoch 21/100\n",
            "113/113 [==============================] - 2s 14ms/step - loss: 1.3553e-04 - mae: 0.0084 - val_loss: 3.3508e-04 - val_mae: 0.0129\n",
            "Epoch 22/100\n",
            "113/113 [==============================] - 2s 14ms/step - loss: 1.3074e-04 - mae: 0.0082 - val_loss: 6.3318e-04 - val_mae: 0.0189\n",
            "Epoch 23/100\n",
            "113/113 [==============================] - 2s 14ms/step - loss: 1.3221e-04 - mae: 0.0083 - val_loss: 6.6624e-04 - val_mae: 0.0182\n",
            "Epoch 24/100\n",
            "113/113 [==============================] - 2s 14ms/step - loss: 1.1657e-04 - mae: 0.0079 - val_loss: 9.5359e-04 - val_mae: 0.0235\n",
            "Epoch 25/100\n",
            "113/113 [==============================] - 2s 14ms/step - loss: 1.2068e-04 - mae: 0.0080 - val_loss: 0.0016 - val_mae: 0.0325\n",
            "Epoch 26/100\n",
            "113/113 [==============================] - 2s 14ms/step - loss: 1.1810e-04 - mae: 0.0079 - val_loss: 5.2204e-04 - val_mae: 0.0161\n",
            "Epoch 27/100\n",
            "113/113 [==============================] - 2s 14ms/step - loss: 1.2659e-04 - mae: 0.0081 - val_loss: 5.2020e-04 - val_mae: 0.0159\n",
            "Epoch 28/100\n",
            "113/113 [==============================] - 2s 14ms/step - loss: 1.2200e-04 - mae: 0.0081 - val_loss: 0.0015 - val_mae: 0.0302\n",
            "Epoch 29/100\n",
            "113/113 [==============================] - 2s 14ms/step - loss: 1.1758e-04 - mae: 0.0078 - val_loss: 9.9103e-04 - val_mae: 0.0227\n",
            "Epoch 30/100\n",
            "113/113 [==============================] - 2s 14ms/step - loss: 1.2153e-04 - mae: 0.0079 - val_loss: 2.7745e-04 - val_mae: 0.0119\n",
            "Epoch 31/100\n",
            "113/113 [==============================] - 2s 14ms/step - loss: 1.2351e-04 - mae: 0.0080 - val_loss: 3.6457e-04 - val_mae: 0.0132\n",
            "Epoch 32/100\n",
            "113/113 [==============================] - 2s 14ms/step - loss: 1.2724e-04 - mae: 0.0081 - val_loss: 7.3945e-04 - val_mae: 0.0193\n",
            "Epoch 33/100\n",
            "113/113 [==============================] - 2s 14ms/step - loss: 1.2199e-04 - mae: 0.0080 - val_loss: 6.6324e-04 - val_mae: 0.0187\n",
            "Epoch 34/100\n",
            "113/113 [==============================] - 2s 14ms/step - loss: 1.1856e-04 - mae: 0.0078 - val_loss: 4.9715e-04 - val_mae: 0.0153\n",
            "Epoch 35/100\n",
            "113/113 [==============================] - 2s 14ms/step - loss: 1.1261e-04 - mae: 0.0077 - val_loss: 5.2391e-04 - val_mae: 0.0208\n",
            "Epoch 36/100\n",
            "113/113 [==============================] - 2s 13ms/step - loss: 1.1923e-04 - mae: 0.0077 - val_loss: 5.3202e-04 - val_mae: 0.0158\n",
            "Epoch 37/100\n",
            "113/113 [==============================] - 2s 13ms/step - loss: 1.1399e-04 - mae: 0.0077 - val_loss: 0.0017 - val_mae: 0.0320\n",
            "Epoch 38/100\n",
            "113/113 [==============================] - 2s 14ms/step - loss: 1.1396e-04 - mae: 0.0077 - val_loss: 1.9766e-04 - val_mae: 0.0112\n",
            "Epoch 39/100\n",
            "113/113 [==============================] - 2s 14ms/step - loss: 1.0614e-04 - mae: 0.0075 - val_loss: 4.0551e-04 - val_mae: 0.0144\n",
            "Epoch 40/100\n",
            "113/113 [==============================] - 2s 13ms/step - loss: 1.1321e-04 - mae: 0.0077 - val_loss: 8.0194e-04 - val_mae: 0.0194\n",
            "Epoch 41/100\n",
            "113/113 [==============================] - 2s 19ms/step - loss: 1.1588e-04 - mae: 0.0078 - val_loss: 3.3532e-04 - val_mae: 0.0132\n",
            "Epoch 42/100\n",
            "113/113 [==============================] - 2s 14ms/step - loss: 1.1542e-04 - mae: 0.0077 - val_loss: 0.0023 - val_mae: 0.0392\n",
            "Epoch 43/100\n",
            "113/113 [==============================] - 1s 13ms/step - loss: 1.2085e-04 - mae: 0.0078 - val_loss: 6.8648e-04 - val_mae: 0.0178\n",
            "Epoch 44/100\n",
            "113/113 [==============================] - 2s 13ms/step - loss: 1.1520e-04 - mae: 0.0078 - val_loss: 9.0570e-04 - val_mae: 0.0206\n",
            "Epoch 45/100\n",
            "113/113 [==============================] - 2s 13ms/step - loss: 1.1758e-04 - mae: 0.0078 - val_loss: 4.0564e-04 - val_mae: 0.0176\n",
            "Epoch 46/100\n",
            "113/113 [==============================] - 2s 14ms/step - loss: 1.0559e-04 - mae: 0.0073 - val_loss: 4.4114e-04 - val_mae: 0.0143\n",
            "Epoch 47/100\n",
            "113/113 [==============================] - 2s 14ms/step - loss: 1.1024e-04 - mae: 0.0076 - val_loss: 0.0016 - val_mae: 0.0289\n",
            "Epoch 48/100\n",
            "113/113 [==============================] - 2s 14ms/step - loss: 1.1277e-04 - mae: 0.0076 - val_loss: 0.0011 - val_mae: 0.0236\n",
            "Epoch 49/100\n",
            "113/113 [==============================] - 2s 14ms/step - loss: 1.0565e-04 - mae: 0.0075 - val_loss: 4.9709e-04 - val_mae: 0.0153\n",
            "Epoch 50/100\n",
            "113/113 [==============================] - 2s 14ms/step - loss: 1.0991e-04 - mae: 0.0075 - val_loss: 9.9168e-04 - val_mae: 0.0216\n",
            "Epoch 51/100\n",
            "113/113 [==============================] - 2s 14ms/step - loss: 1.0968e-04 - mae: 0.0075 - val_loss: 0.0012 - val_mae: 0.0236\n",
            "Epoch 52/100\n",
            "113/113 [==============================] - 2s 14ms/step - loss: 1.0666e-04 - mae: 0.0075 - val_loss: 9.2824e-04 - val_mae: 0.0204\n",
            "Epoch 53/100\n",
            "113/113 [==============================] - 2s 14ms/step - loss: 1.0689e-04 - mae: 0.0075 - val_loss: 0.0019 - val_mae: 0.0324\n",
            "Epoch 54/100\n",
            "113/113 [==============================] - 2s 14ms/step - loss: 1.0618e-04 - mae: 0.0074 - val_loss: 5.8463e-04 - val_mae: 0.0188\n",
            "Epoch 55/100\n",
            "113/113 [==============================] - 2s 13ms/step - loss: 1.0956e-04 - mae: 0.0075 - val_loss: 9.5149e-04 - val_mae: 0.0204\n",
            "Epoch 56/100\n",
            "113/113 [==============================] - 2s 14ms/step - loss: 1.0938e-04 - mae: 0.0074 - val_loss: 9.5927e-04 - val_mae: 0.0207\n",
            "Epoch 57/100\n",
            "113/113 [==============================] - 2s 14ms/step - loss: 1.0557e-04 - mae: 0.0073 - val_loss: 0.0014 - val_mae: 0.0251\n",
            "Epoch 58/100\n",
            "113/113 [==============================] - 2s 13ms/step - loss: 1.0789e-04 - mae: 0.0075 - val_loss: 0.0018 - val_mae: 0.0312\n",
            "Epoch 59/100\n",
            "113/113 [==============================] - 2s 14ms/step - loss: 1.0656e-04 - mae: 0.0073 - val_loss: 0.0011 - val_mae: 0.0218\n",
            "Epoch 60/100\n",
            "113/113 [==============================] - 2s 14ms/step - loss: 1.1036e-04 - mae: 0.0075 - val_loss: 0.0013 - val_mae: 0.0240\n",
            "Epoch 61/100\n",
            "113/113 [==============================] - 1s 13ms/step - loss: 1.0674e-04 - mae: 0.0074 - val_loss: 7.7711e-04 - val_mae: 0.0186\n",
            "Epoch 62/100\n",
            "113/113 [==============================] - 1s 13ms/step - loss: 9.6589e-05 - mae: 0.0071 - val_loss: 0.0011 - val_mae: 0.0218\n",
            "Epoch 63/100\n",
            "113/113 [==============================] - 2s 14ms/step - loss: 1.0857e-04 - mae: 0.0075 - val_loss: 0.0023 - val_mae: 0.0341\n",
            "Epoch 64/100\n",
            "113/113 [==============================] - 2s 14ms/step - loss: 1.1126e-04 - mae: 0.0075 - val_loss: 7.8796e-04 - val_mae: 0.0227\n",
            "Epoch 65/100\n",
            "113/113 [==============================] - 2s 14ms/step - loss: 1.0706e-04 - mae: 0.0074 - val_loss: 0.0013 - val_mae: 0.0232\n",
            "Epoch 66/100\n",
            "113/113 [==============================] - 2s 14ms/step - loss: 1.0794e-04 - mae: 0.0074 - val_loss: 0.0019 - val_mae: 0.0284\n",
            "Epoch 67/100\n",
            "113/113 [==============================] - 2s 14ms/step - loss: 1.1379e-04 - mae: 0.0076 - val_loss: 0.0021 - val_mae: 0.0297\n",
            "Epoch 68/100\n",
            "113/113 [==============================] - 2s 14ms/step - loss: 1.0107e-04 - mae: 0.0072 - val_loss: 0.0020 - val_mae: 0.0299\n",
            "Epoch 69/100\n",
            "113/113 [==============================] - 2s 14ms/step - loss: 1.0484e-04 - mae: 0.0072 - val_loss: 0.0026 - val_mae: 0.0380\n",
            "Epoch 70/100\n",
            "113/113 [==============================] - 2s 14ms/step - loss: 9.6644e-05 - mae: 0.0070 - val_loss: 9.3453e-04 - val_mae: 0.0224\n",
            "Epoch 71/100\n",
            "113/113 [==============================] - 2s 14ms/step - loss: 9.8399e-05 - mae: 0.0071 - val_loss: 0.0015 - val_mae: 0.0253\n",
            "Epoch 72/100\n",
            "113/113 [==============================] - 2s 13ms/step - loss: 1.0422e-04 - mae: 0.0072 - val_loss: 0.0015 - val_mae: 0.0254\n",
            "Epoch 73/100\n",
            "113/113 [==============================] - 2s 13ms/step - loss: 1.0776e-04 - mae: 0.0073 - val_loss: 0.0018 - val_mae: 0.0291\n",
            "Epoch 74/100\n",
            "113/113 [==============================] - 2s 14ms/step - loss: 1.0969e-04 - mae: 0.0074 - val_loss: 0.0029 - val_mae: 0.0405\n",
            "Epoch 75/100\n",
            "113/113 [==============================] - 2s 14ms/step - loss: 1.0246e-04 - mae: 0.0071 - val_loss: 0.0015 - val_mae: 0.0249\n",
            "Epoch 76/100\n",
            "113/113 [==============================] - 2s 13ms/step - loss: 1.0199e-04 - mae: 0.0072 - val_loss: 0.0012 - val_mae: 0.0237\n",
            "Epoch 77/100\n",
            "113/113 [==============================] - 2s 15ms/step - loss: 1.0423e-04 - mae: 0.0072 - val_loss: 0.0021 - val_mae: 0.0319\n",
            "Epoch 78/100\n",
            "113/113 [==============================] - 2s 17ms/step - loss: 9.5786e-05 - mae: 0.0069 - val_loss: 0.0019 - val_mae: 0.0287\n",
            "Epoch 79/100\n",
            "113/113 [==============================] - 2s 14ms/step - loss: 1.0121e-04 - mae: 0.0072 - val_loss: 0.0023 - val_mae: 0.0317\n",
            "Epoch 80/100\n",
            "113/113 [==============================] - 2s 14ms/step - loss: 1.0165e-04 - mae: 0.0072 - val_loss: 0.0022 - val_mae: 0.0306\n",
            "Epoch 81/100\n",
            "113/113 [==============================] - 2s 14ms/step - loss: 9.9138e-05 - mae: 0.0071 - val_loss: 0.0036 - val_mae: 0.0434\n",
            "Epoch 82/100\n",
            "113/113 [==============================] - 2s 14ms/step - loss: 1.0232e-04 - mae: 0.0071 - val_loss: 0.0015 - val_mae: 0.0253\n",
            "Epoch 83/100\n",
            "113/113 [==============================] - 2s 17ms/step - loss: 1.0768e-04 - mae: 0.0073 - val_loss: 0.0012 - val_mae: 0.0219\n",
            "Epoch 84/100\n",
            "113/113 [==============================] - 2s 14ms/step - loss: 1.0164e-04 - mae: 0.0071 - val_loss: 0.0023 - val_mae: 0.0312\n",
            "Epoch 85/100\n",
            "113/113 [==============================] - 2s 14ms/step - loss: 1.0094e-04 - mae: 0.0071 - val_loss: 0.0017 - val_mae: 0.0272\n",
            "Epoch 86/100\n",
            "113/113 [==============================] - 2s 14ms/step - loss: 9.7283e-05 - mae: 0.0070 - val_loss: 0.0019 - val_mae: 0.0277\n",
            "Epoch 87/100\n",
            "113/113 [==============================] - 2s 14ms/step - loss: 1.0163e-04 - mae: 0.0071 - val_loss: 0.0016 - val_mae: 0.0266\n",
            "Epoch 88/100\n",
            "113/113 [==============================] - 2s 14ms/step - loss: 1.0433e-04 - mae: 0.0073 - val_loss: 0.0022 - val_mae: 0.0298\n",
            "Epoch 89/100\n",
            "113/113 [==============================] - 2s 14ms/step - loss: 9.8855e-05 - mae: 0.0071 - val_loss: 0.0018 - val_mae: 0.0279\n",
            "Epoch 90/100\n",
            "113/113 [==============================] - 2s 14ms/step - loss: 9.9718e-05 - mae: 0.0070 - val_loss: 0.0019 - val_mae: 0.0277\n",
            "Epoch 91/100\n",
            "113/113 [==============================] - 2s 14ms/step - loss: 9.6429e-05 - mae: 0.0070 - val_loss: 0.0031 - val_mae: 0.0380\n",
            "Epoch 92/100\n",
            "113/113 [==============================] - 2s 14ms/step - loss: 9.5103e-05 - mae: 0.0069 - val_loss: 0.0018 - val_mae: 0.0268\n",
            "Epoch 93/100\n",
            "113/113 [==============================] - 2s 14ms/step - loss: 9.4691e-05 - mae: 0.0068 - val_loss: 0.0028 - val_mae: 0.0350\n",
            "Epoch 94/100\n",
            "113/113 [==============================] - 2s 14ms/step - loss: 9.9552e-05 - mae: 0.0070 - val_loss: 0.0021 - val_mae: 0.0301\n",
            "Epoch 95/100\n",
            "113/113 [==============================] - 2s 14ms/step - loss: 1.0136e-04 - mae: 0.0072 - val_loss: 0.0023 - val_mae: 0.0312\n",
            "Epoch 96/100\n",
            "113/113 [==============================] - 2s 14ms/step - loss: 9.8254e-05 - mae: 0.0071 - val_loss: 0.0032 - val_mae: 0.0393\n",
            "Epoch 97/100\n",
            "113/113 [==============================] - 2s 14ms/step - loss: 9.8068e-05 - mae: 0.0070 - val_loss: 0.0014 - val_mae: 0.0257\n",
            "Epoch 98/100\n",
            "113/113 [==============================] - 2s 14ms/step - loss: 9.7360e-05 - mae: 0.0070 - val_loss: 0.0040 - val_mae: 0.0467\n",
            "Epoch 99/100\n",
            "113/113 [==============================] - 2s 14ms/step - loss: 1.0075e-04 - mae: 0.0070 - val_loss: 0.0020 - val_mae: 0.0288\n",
            "Epoch 100/100\n",
            "113/113 [==============================] - 2s 14ms/step - loss: 9.6437e-05 - mae: 0.0069 - val_loss: 0.0026 - val_mae: 0.0326\n"
          ]
        }
      ]
    },
    {
      "cell_type": "code",
      "source": [
        "# 학습 곡선\n",
        "def plot_history(history):\n",
        "    hist = pd.DataFrame(history.history)\n",
        "    hist['epoch'] = history.epoch\n",
        "\n",
        "    plt.figure(figsize=(16,8))\n",
        "    plt.subplot(1,2,1)\n",
        "    plt.xlabel('Epoch')\n",
        "    plt.ylabel('Loss')\n",
        "    plt.plot(hist['epoch'], hist['loss'],label='Train Loss')\n",
        "    plt.plot(hist['epoch'], hist['val_loss'],label = 'Val Loss')\n",
        "    plt.legend()\n",
        "\n",
        "    plt.subplot(1,2,2)\n",
        "    plt.xlabel('Epoch')\n",
        "    plt.ylabel('Accuracy')\n",
        "    plt.plot(hist['epoch'], hist['mae'],label='Train MAE')\n",
        "    plt.plot(hist['epoch'], hist['val_mae'],label = 'Val MAE')\n",
        "\n",
        "    plt.legend()\n",
        "    plt.show()"
      ],
      "metadata": {
        "id": "JUUMuC3tpIEh"
      },
      "execution_count": 100,
      "outputs": []
    },
    {
      "cell_type": "code",
      "source": [
        "y_pred = model.predict(X_test)\n",
        "y_pred = y_pred.reshape(-1)"
      ],
      "metadata": {
        "colab": {
          "base_uri": "https://localhost:8080/"
        },
        "id": "pO0WRvRnpL7C",
        "outputId": "d8b76f57-e9c1-49bc-e5a5-f1435b9275c1"
      },
      "execution_count": 101,
      "outputs": [
        {
          "output_type": "stream",
          "name": "stdout",
          "text": [
            "36/36 [==============================] - 1s 3ms/step\n"
          ]
        }
      ]
    },
    {
      "cell_type": "code",
      "source": [
        "plt.figure(figsize=(10,5))\n",
        "plt.plot(y_test[20:], label='test')\n",
        "plt.plot(y_pred, label='predict')\n",
        "plt.grid()\n",
        "plt.legend()\n",
        "plt.show()"
      ],
      "metadata": {
        "colab": {
          "base_uri": "https://localhost:8080/",
          "height": 320
        },
        "id": "UYuSW0LipTKD",
        "outputId": "56e55267-3f61-4d67-9ccc-7a716a2038b5"
      },
      "execution_count": 102,
      "outputs": [
        {
          "output_type": "display_data",
          "data": {
            "text/plain": [
              "<Figure size 720x360 with 1 Axes>"
            ],
            "image/png": "[encoded data removed]"
          },
          "metadata": {
            "needs_background": "light"
          }
        }
      ]
    },
    {
      "cell_type": "code",
      "source": [
        "plot_history(log)"
      ],
      "metadata": {
        "colab": {
          "base_uri": "https://localhost:8080/",
          "height": 497
        },
        "id": "_gM3JZM2pWpj",
        "outputId": "ab2c61d7-87d2-441f-89e3-468641de1171"
      },
      "execution_count": 103,
      "outputs": [
        {
          "output_type": "display_data",
          "data": {
            "text/plain": [
              "<Figure size 1152x576 with 2 Axes>"
            ],
            "image/png": "[encoded data removed]"
          },
          "metadata": {
            "needs_background": "light"
          }
        }
      ]
    },
    {
      "cell_type": "code",
      "source": [],
      "metadata": {
        "id": "-dQfn4s8qFVF"
      },
      "execution_count": null,
      "outputs": []
    }
  ]
}